{
 "cells": [
  {
   "cell_type": "markdown",
   "metadata": {},
   "source": [
    "    1. Write a Python program to convert kilometers to miles?\n",
    "    2. Write a Python program to convert Celsius to Fahrenheit?\n",
    "    3. Write a Python program to display calendar?\n",
    "    4. Write a Python program to solve quadratic equation?\n",
    "    5. Write a Python program to swap two variables without temp variable?\n"
   ]
  },
  {
   "cell_type": "code",
   "execution_count": 4,
   "metadata": {},
   "outputs": [
    {
     "name": "stdout",
     "output_type": "stream",
     "text": [
      "2.0 km = 1.242742 miles\n"
     ]
    }
   ],
   "source": [
    "#     1. Write a Python program to convert kilometers to miles?\n",
    "try:\n",
    "    km=float(input(\"enter kilometer\"))\n",
    "    if km>=0:\n",
    "\n",
    "        miles=km*0.621371\n",
    "        print(\"{} km = {} miles\".format(km,miles))\n",
    "    else:\n",
    "        print(\"please enter pistitive value\")\n",
    "except Exception as e:\n",
    "    print(str(e))\n"
   ]
  },
  {
   "cell_type": "code",
   "execution_count": 9,
   "metadata": {},
   "outputs": [
    {
     "name": "stdout",
     "output_type": "stream",
     "text": [
      "-65.0 celsius = -85.0 Fahrenheit\n"
     ]
    }
   ],
   "source": [
    "#    2. Write a Python program to convert Celsius to Fahrenheit?\n",
    "\n",
    "try:\n",
    "    cel=float(input(\"enter celsius\"))\n",
    "    Fahrenheit=(cel * (9/5)) + 32\n",
    "    print(\"{} celsius = {} Fahrenheit\".format(cel,Fahrenheit))\n",
    "    \n",
    "except Exception as e:\n",
    "    print(str(e))"
   ]
  },
  {
   "cell_type": "code",
   "execution_count": 11,
   "metadata": {},
   "outputs": [
    {
     "name": "stdout",
     "output_type": "stream",
     "text": [
      "                                  2022\n",
      "\n",
      "      January                   February                   March\n",
      "Mo Tu We Th Fr Sa Su      Mo Tu We Th Fr Sa Su      Mo Tu We Th Fr Sa Su\n",
      "                1  2          1  2  3  4  5  6          1  2  3  4  5  6\n",
      " 3  4  5  6  7  8  9       7  8  9 10 11 12 13       7  8  9 10 11 12 13\n",
      "10 11 12 13 14 15 16      14 15 16 17 18 19 20      14 15 16 17 18 19 20\n",
      "17 18 19 20 21 22 23      21 22 23 24 25 26 27      21 22 23 24 25 26 27\n",
      "24 25 26 27 28 29 30      28                        28 29 30 31\n",
      "31\n",
      "\n",
      "       April                      May                       June\n",
      "Mo Tu We Th Fr Sa Su      Mo Tu We Th Fr Sa Su      Mo Tu We Th Fr Sa Su\n",
      "             1  2  3                         1             1  2  3  4  5\n",
      " 4  5  6  7  8  9 10       2  3  4  5  6  7  8       6  7  8  9 10 11 12\n",
      "11 12 13 14 15 16 17       9 10 11 12 13 14 15      13 14 15 16 17 18 19\n",
      "18 19 20 21 22 23 24      16 17 18 19 20 21 22      20 21 22 23 24 25 26\n",
      "25 26 27 28 29 30         23 24 25 26 27 28 29      27 28 29 30\n",
      "                          30 31\n",
      "\n",
      "        July                     August                  September\n",
      "Mo Tu We Th Fr Sa Su      Mo Tu We Th Fr Sa Su      Mo Tu We Th Fr Sa Su\n",
      "             1  2  3       1  2  3  4  5  6  7                1  2  3  4\n",
      " 4  5  6  7  8  9 10       8  9 10 11 12 13 14       5  6  7  8  9 10 11\n",
      "11 12 13 14 15 16 17      15 16 17 18 19 20 21      12 13 14 15 16 17 18\n",
      "18 19 20 21 22 23 24      22 23 24 25 26 27 28      19 20 21 22 23 24 25\n",
      "25 26 27 28 29 30 31      29 30 31                  26 27 28 29 30\n",
      "\n",
      "      October                   November                  December\n",
      "Mo Tu We Th Fr Sa Su      Mo Tu We Th Fr Sa Su      Mo Tu We Th Fr Sa Su\n",
      "                1  2          1  2  3  4  5  6                1  2  3  4\n",
      " 3  4  5  6  7  8  9       7  8  9 10 11 12 13       5  6  7  8  9 10 11\n",
      "10 11 12 13 14 15 16      14 15 16 17 18 19 20      12 13 14 15 16 17 18\n",
      "17 18 19 20 21 22 23      21 22 23 24 25 26 27      19 20 21 22 23 24 25\n",
      "24 25 26 27 28 29 30      28 29 30                  26 27 28 29 30 31\n",
      "31\n",
      "\n"
     ]
    }
   ],
   "source": [
    "#     3. Write a Python program to display calendar?\n",
    "\n",
    "import calendar\n",
    "\n",
    "print(calendar.calendar(2022))"
   ]
  },
  {
   "cell_type": "code",
   "execution_count": 21,
   "metadata": {},
   "outputs": [
    {
     "name": "stdout",
     "output_type": "stream",
     "text": [
      "your equatio is 45.0x**2 + 8.0x + 55.0\n",
      "This equation has no real solution\n"
     ]
    }
   ],
   "source": [
    "#     4. Write a Python program to solve quadratic equation?\n",
    "\n",
    "import math\n",
    "try:\n",
    "    a = float(input(\"Enter the coefficients a \"))\n",
    "    b = float(input(\"Enter the coefficients b \"))\n",
    "\n",
    "    c = float(input(\"Enter the coefficients c \"))\n",
    "\n",
    "\n",
    "    print(\"your equatio is {}x**2 + {}x + {}\".format(a,b,c))\n",
    "    d = b**2-4*a*c # discriminant\n",
    "\n",
    "    if d < 0:\n",
    "        print (\"This equation has no real solution\")\n",
    "    elif d == 0:\n",
    "        x = (-b+math.sqrt(b**2-4*a*c))/2*a\n",
    "        print (\"This equation has one solutions: \", x)\n",
    "    else:\n",
    "        x1 = (-b+math.sqrt(b**2-4*a*c))/2*a\n",
    "        x2 = (-b-math.sqrt(b**2-4*a*c))/2*a\n",
    "        print (\"This equation has two solutions: \", x1, \" and\", x2)\n",
    "except Exception as e:\n",
    "    print(str(e))"
   ]
  },
  {
   "cell_type": "code",
   "execution_count": 13,
   "metadata": {},
   "outputs": [
    {
     "name": "stdout",
     "output_type": "stream",
     "text": [
      "before swap a=5 and b=6\n",
      "after swap a = 6 and b=5\n"
     ]
    }
   ],
   "source": [
    "#     5. Write a Python program to swap two variables without temp variable?\n",
    "\n",
    "try :\n",
    "    a=int(input(\"enter first variable\"))\n",
    "    b=int(input(\"enter second variable\"))\n",
    "    print(\"before swap a = {} and b = {}\".format(a,b))\n",
    "\n",
    "    a,b=b,a\n",
    "    print(\"after swap a = {} and b={}\".format(a,b))\n",
    "except Exception as e:\n",
    "    print(str(e))"
   ]
  },
  {
   "cell_type": "code",
   "execution_count": null,
   "metadata": {},
   "outputs": [],
   "source": []
  }
 ],
 "metadata": {
  "kernelspec": {
   "display_name": "Python 3.8.10 ('venv': venv)",
   "language": "python",
   "name": "python3"
  },
  "language_info": {
   "codemirror_mode": {
    "name": "ipython",
    "version": 3
   },
   "file_extension": ".py",
   "mimetype": "text/x-python",
   "name": "python",
   "nbconvert_exporter": "python",
   "pygments_lexer": "ipython3",
   "version": "3.8.10"
  },
  "orig_nbformat": 4,
  "vscode": {
   "interpreter": {
    "hash": "af46c2aa278825b7a34ad5ad00f0f724421c31409a90988f8a01623591b12991"
   }
  }
 },
 "nbformat": 4,
 "nbformat_minor": 2
}
