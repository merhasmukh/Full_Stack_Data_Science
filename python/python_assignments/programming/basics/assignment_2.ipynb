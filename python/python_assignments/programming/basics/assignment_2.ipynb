{
 "cells": [
  {
   "cell_type": "markdown",
   "metadata": {},
   "source": [
    "    1. Write a Python program to convert kilometers to miles?\n",
    "    2. Write a Python program to convert Celsius to Fahrenheit?\n",
    "    3. Write a Python program to display calendar?\n",
    "    4. Write a Python program to solve quadratic equation?\n",
    "    5. Write a Python program to swap two variables without temp variable?\n"
   ]
  },
  {
   "cell_type": "code",
   "execution_count": null,
   "metadata": {},
   "outputs": [],
   "source": []
  }
 ],
 "metadata": {
  "kernelspec": {
   "display_name": "Python 3.8.10 ('venv': venv)",
   "language": "python",
   "name": "python3"
  },
  "language_info": {
   "name": "python",
   "version": "3.8.10"
  },
  "orig_nbformat": 4,
  "vscode": {
   "interpreter": {
    "hash": "af46c2aa278825b7a34ad5ad00f0f724421c31409a90988f8a01623591b12991"
   }
  }
 },
 "nbformat": 4,
 "nbformat_minor": 2
}
