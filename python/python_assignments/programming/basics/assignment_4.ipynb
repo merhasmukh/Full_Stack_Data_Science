{
 "cells": [
  {
   "cell_type": "markdown",
   "metadata": {},
   "source": [
    "    1. Write a Python Program to Find the Factorial of a Number?\n",
    "    2. Write a Python Program to Display the multiplication Table?\n",
    "    3. Write a Python Program to Print the Fibonacci sequence?\n",
    "    4. Write a Python Program to Check Armstrong Number?\n",
    "    5. Write a Python Program to Find Armstrong Number in an Interval?\n",
    "    6. Write a Python Program to Find the Sum of Natural Numbers?"
   ]
  },
  {
   "cell_type": "code",
   "execution_count": 64,
   "metadata": {},
   "outputs": [
    {
     "name": "stdout",
     "output_type": "stream",
     "text": [
      "enter a number5\n",
      "factorial of 5 is : 120\n"
     ]
    }
   ],
   "source": [
    "# 1. Write a Python Program to Find the Factorial of a Number?\n",
    "\n",
    "try:\n",
    "    num=int(input(\"enter a number\"))\n",
    "  \n",
    "    fact=1\n",
    "    for i in range(num,0,-1):\n",
    "        fact=fact*i\n",
    "        \n",
    "    print(\"factorial of {} is : {}\".format(num,fact))\n",
    "except Exception as e:\n",
    "    print(\"exception occured \",str(e))"
   ]
  },
  {
   "cell_type": "code",
   "execution_count": 13,
   "metadata": {},
   "outputs": [
    {
     "name": "stdout",
     "output_type": "stream",
     "text": [
      "enter a number: 10\n",
      "10 1 10\n",
      "10 2 20\n",
      "10 3 30\n",
      "10 4 40\n",
      "10 5 50\n",
      "10 6 60\n",
      "10 7 70\n",
      "10 8 80\n",
      "10 9 90\n",
      "10 10 100\n"
     ]
    }
   ],
   "source": [
    "# 2. Write a Python Program to Display the multiplication Table?\n",
    "\n",
    "try:\n",
    "    num=int(input(\"enter a number: \"))\n",
    "  \n",
    "    for i in range(1,11):\n",
    "        print(\"{} {} {}\".format(num,i,num*i))\n",
    "except Exception as e:\n",
    "    print(\"exception occured \",str(e))"
   ]
  },
  {
   "cell_type": "code",
   "execution_count": 38,
   "metadata": {},
   "outputs": [
    {
     "name": "stdout",
     "output_type": "stream",
     "text": [
      "enter length of fobonacci series: 10\n",
      "[0, 1, 1, 2, 3, 5, 8, 13, 21, 34]\n"
     ]
    }
   ],
   "source": [
    "# 3. Write a Python Program to Print the Fibonacci sequence?\n",
    "\n",
    "\n",
    "try:\n",
    "    num=int(input(\"enter length of fobonacci series: \"))\n",
    "    a=0\n",
    "    b=1\n",
    "    fibonacci_ser=[]\n",
    "    for i in range(num):\n",
    "        fibonacci_ser.append(a)\n",
    "        fibonacci_ser.append(b)\n",
    "        a=a+b\n",
    "        b=a+b\n",
    "    print(fibonacci_ser[:num])\n",
    "    \n",
    "except Exception as e:\n",
    "    print(\"exception occured \",str(e))"
   ]
  },
  {
   "cell_type": "code",
   "execution_count": 66,
   "metadata": {},
   "outputs": [
    {
     "name": "stdout",
     "output_type": "stream",
     "text": [
      "enter a number: 370\n",
      "Armstrong number\n"
     ]
    }
   ],
   "source": [
    "# 4. Write a Python Program to Check Armstrong Number?\n",
    "\n",
    "try:\n",
    "    num=int(input(\"enter a number: \"))\n",
    "    len_num=len(str(num))\n",
    "#     print(\"len num\",len_num)\n",
    "    sum_num=0\n",
    "    for i in str(num):\n",
    "#         print(i)\n",
    "        sum_num=sum_num + (int(i)**len_num)\n",
    "#         print(sum_num)\n",
    "\n",
    "    if num==sum_num:\n",
    "        print(\"Armstrong number\")\n",
    "    else:\n",
    "        print(\"not an Armstrong number\")\n",
    "        \n",
    "        \n",
    "except Exception as e:\n",
    "    print(\"enter interger number only\")\n",
    "    print(\"exception occured \",str(e))\n"
   ]
  },
  {
   "cell_type": "code",
   "execution_count": 58,
   "metadata": {},
   "outputs": [
    {
     "name": "stdout",
     "output_type": "stream",
     "text": [
      "enter a number: 859\n",
      "All Armstrong number in given interval:0 to 859 : [0, 1, 2, 3, 4, 5, 6, 7, 8, 9, 153, 370, 371, 407]\n"
     ]
    }
   ],
   "source": [
    "# 5. Write a Python Program to Find Armstrong Number in an Interval?\n",
    "\n",
    "\n",
    "try:\n",
    "    num=int(input(\"enter a number: \"))\n",
    "    armstrong_num=[]\n",
    "    for j in range(num):\n",
    "        len_num=len(str(j))\n",
    "    #     print(\"len num\",len_num)\n",
    "        sum_num=0\n",
    "        for i in str(j):\n",
    "    #         print(i)\n",
    "            sum_num=sum_num + (int(i)**len_num)\n",
    "    #         print(sum_num)\n",
    "\n",
    "        if j==sum_num:\n",
    "            armstrong_num.append(j)\n",
    "            \n",
    "    print(\"All Armstrong number in given interval:{} to {} : {}\".format(0,num,armstrong_num))\n",
    "        \n",
    "except Exception as e:\n",
    "    print(\"enter interger number only\")\n",
    "    print(\"exception occured \",str(e))\n"
   ]
  },
  {
   "cell_type": "code",
   "execution_count": 68,
   "metadata": {},
   "outputs": [
    {
     "name": "stdout",
     "output_type": "stream",
     "text": [
      "enter number 10\n",
      "Sum of natural number: 1 to 10 : 55\n"
     ]
    }
   ],
   "source": [
    "# 6. Write a Python Program to Find the Sum of Natural Numbers?\n",
    "\n",
    "\n",
    "try:\n",
    "    num=int(input(\"enter number \"))\n",
    "    natural_sum=0\n",
    "    if num <=0:\n",
    "        print(\"enter natural number only(1-N)\")\n",
    "    else:\n",
    "        for i in range(1,num+1):\n",
    "#             print(\"numbers\",i)\n",
    "            natural_sum=natural_sum+i\n",
    "    print(\"Sum of natural number: {} to {} : {}\".format(1,num,natural_sum))  \n",
    "except Exception as e:\n",
    "    print(\"enter interger number only\")\n",
    "    print(\"exception occured \",str(e))\n"
   ]
  },
  {
   "cell_type": "code",
   "execution_count": null,
   "metadata": {},
   "outputs": [],
   "source": []
  }
 ],
 "metadata": {
  "kernelspec": {
   "display_name": "Python 3 (ipykernel)",
   "language": "python",
   "name": "python3"
  },
  "language_info": {
   "codemirror_mode": {
    "name": "ipython",
    "version": 3
   },
   "file_extension": ".py",
   "mimetype": "text/x-python",
   "name": "python",
   "nbconvert_exporter": "python",
   "pygments_lexer": "ipython3",
   "version": "3.10.8"
  }
 },
 "nbformat": 4,
 "nbformat_minor": 2
}
