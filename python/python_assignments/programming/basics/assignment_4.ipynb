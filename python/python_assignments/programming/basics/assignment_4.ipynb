{
 "cells": [
  {
   "cell_type": "markdown",
   "metadata": {},
   "source": [
    "    1. Write a Python Program to Find the Factorial of a Number?\n",
    "    2. Write a Python Program to Display the multiplication Table?\n",
    "    3. Write a Python Program to Print the Fibonacci sequence?\n",
    "    4. Write a Python Program to Check Armstrong Number?\n",
    "    5. Write a Python Program to Find Armstrong Number in an Interval?\n",
    "    6. Write a Python Program to Find the Sum of Natural Numbers?"
   ]
  },
  {
   "cell_type": "code",
   "execution_count": 10,
   "metadata": {},
   "outputs": [
    {
     "name": "stdout",
     "output_type": "stream",
     "text": [
      "enter a number5.5\n",
      "exception occured  invalid literal for int() with base 10: '5.5'\n"
     ]
    }
   ],
   "source": [
    "# 1. Write a Python Program to Find the Factorial of a Number?\n",
    "\n",
    "try:\n",
    "    num=int(input(\"enter a number\"))\n",
    "  \n",
    "    fact=1\n",
    "    for i in range(num,0,-1):\n",
    "        fact=fact*i\n",
    "        \n",
    "    print(\"factorial of {} is : {}\".format(num,fact))\n",
    "except Exception as e:\n",
    "    print(\"exception occured \",str(e))"
   ]
  },
  {
   "cell_type": "code",
   "execution_count": null,
   "metadata": {},
   "outputs": [],
   "source": []
  }
 ],
 "metadata": {
  "kernelspec": {
   "display_name": "Python 3 (ipykernel)",
   "language": "python",
   "name": "python3"
  },
  "language_info": {
   "codemirror_mode": {
    "name": "ipython",
    "version": 3
   },
   "file_extension": ".py",
   "mimetype": "text/x-python",
   "name": "python",
   "nbconvert_exporter": "python",
   "pygments_lexer": "ipython3",
   "version": "3.10.8"
  }
 },
 "nbformat": 4,
 "nbformat_minor": 2
}
