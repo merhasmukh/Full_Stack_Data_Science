{
 "cells": [
  {
   "cell_type": "markdown",
   "metadata": {},
   "source": [
    "    1. Write a Python Program to Find the Factorial of a Number?\n",
    "    2. Write a Python Program to Display the multiplication Table?\n",
    "    3. Write a Python Program to Print the Fibonacci sequence?\n",
    "    4. Write a Python Program to Check Armstrong Number?\n",
    "    5. Write a Python Program to Find Armstrong Number in an Interval?\n",
    "    6. Write a Python Program to Find the Sum of Natural Numbers?"
   ]
  },
  {
   "cell_type": "code",
   "execution_count": null,
   "metadata": {},
   "outputs": [],
   "source": []
  }
 ],
 "metadata": {
  "language_info": {
   "name": "python"
  },
  "orig_nbformat": 4
 },
 "nbformat": 4,
 "nbformat_minor": 2
}
