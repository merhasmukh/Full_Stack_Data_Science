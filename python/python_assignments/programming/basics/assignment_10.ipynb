{
 "cells": [
  {
   "attachments": {},
   "cell_type": "markdown",
   "metadata": {},
   "source": [
    "1. Write a Python program to find sum of elements in list?\n",
    "2. Write a Python program to Multiply all numbers in the list?\n",
    "3. Write a Python program to find smallest number in a list?\n",
    "4. Write a Python program to find largest number in a list?\n",
    "5. Write a Python program to find second largest number in a list?\n",
    "6. Write a Python program to find N largest elements from a list?\n",
    "7. Write a Python program to print even numbers in a list?\n",
    "8. Write a Python program to print odd numbers in a List?\n",
    "9. Write a Python program to Remove empty List from List?\n",
    "10. Write a Python program to Cloning or Copying a list?\n",
    "11. Write a Python program to Count occurrences of an element in a list?"
   ]
  },
  {
   "cell_type": "code",
   "execution_count": 1,
   "metadata": {},
   "outputs": [
    {
     "name": "stdout",
     "output_type": "stream",
     "text": [
      "Sum of given list 118.5\n"
     ]
    }
   ],
   "source": [
    "# 1. Write a Python program to find sum of elements in list?\n",
    "\n",
    "try:\n",
    "    l1=[2,34,5,6,67,4.5]\n",
    "    sum=0\n",
    "    for i in l1:\n",
    "        sum=sum+i\n",
    "    # sum_of_list=sum(l1)\n",
    "    print(\"Sum of given list {}\".format(sum))\n",
    "except Exception as e:\n",
    "    print(\"{}\".format(str(e)))\n",
    "    print(\"all the elements in the list is numeric\")\n"
   ]
  },
  {
   "cell_type": "code",
   "execution_count": 2,
   "metadata": {},
   "outputs": [
    {
     "name": "stdout",
     "output_type": "stream",
     "text": [
      "Multiplication of given list 615060.0\n"
     ]
    }
   ],
   "source": [
    "# 2. Write a Python program to Multiply all numbers in the list?\n",
    "\n",
    "try:\n",
    "    l1=[2,34,5,6,67,4.5]\n",
    "    mul=1\n",
    "    for i in l1:\n",
    "        mul=mul*i\n",
    "    print(\"Multiplication of given list {}\".format(mul))\n",
    "except Exception as e:\n",
    "    print(\"{}\".format(str(e)))\n",
    "    print(\"all the elements in the list is numeric\")\n"
   ]
  },
  {
   "cell_type": "code",
   "execution_count": 3,
   "metadata": {},
   "outputs": [
    {
     "name": "stdout",
     "output_type": "stream",
     "text": [
      "smallest number in a list is 2\n"
     ]
    }
   ],
   "source": [
    "# 3. Write a Python program to find smallest number in a list?\n",
    "\n",
    "try:\n",
    "    l1=[2,34,5,6,67,4.5]\n",
    " \n",
    "    print(\"smallest number in a list is {}\".format(min(l1)))\n",
    "except Exception as e:\n",
    "    print(\"{}\".format(str(e)))\n",
    "    print(\"all the elements in the list is numeric\")\n"
   ]
  },
  {
   "cell_type": "code",
   "execution_count": 4,
   "metadata": {},
   "outputs": [
    {
     "name": "stdout",
     "output_type": "stream",
     "text": [
      "largest number in a list is 67\n"
     ]
    }
   ],
   "source": [
    "# 4. Write a Python program to find largest number in a list?\n",
    "try:\n",
    "    l1=[2,34,5,6,67,4.5,40,41]\n",
    " \n",
    "    print(\"largest number in a list is {}\".format(max(l1)))\n",
    "except Exception as e:\n",
    "    print(\"{}\".format(str(e)))\n",
    "    print(\"all the elements in the list is numeric\")\n"
   ]
  },
  {
   "cell_type": "code",
   "execution_count": 5,
   "metadata": {},
   "outputs": [
    {
     "name": "stdout",
     "output_type": "stream",
     "text": [
      "second largest number in a list is 41\n"
     ]
    }
   ],
   "source": [
    "# 5. Write a Python program to find second largest number in a list?\n",
    "try:\n",
    "    l1=[2,34,5,6,67,4.5,40,41]\n",
    " \n",
    "    print(\"second largest number in a list is {}\".format(sorted(l1)[-2]))\n",
    "except Exception as e:\n",
    "    print(\"{}\".format(str(e)))\n",
    "    print(\"all the elements in the list is numeric\")\n"
   ]
  },
  {
   "cell_type": "code",
   "execution_count": 6,
   "metadata": {},
   "outputs": [
    {
     "name": "stdout",
     "output_type": "stream",
     "text": [
      "2 largest number in a list is [41, 67]\n"
     ]
    }
   ],
   "source": [
    "# 6. Write a Python program to find N largest elements from a list?\n",
    "\n",
    "try:\n",
    "    number=int(input(\"enter how many largest numbers you want..\"))\n",
    "    l1=[2,34,5,6,67,4.5,40,41]\n",
    "\n",
    "    if len(l1)>number:\n",
    "        print(\"{} largest number in a list is {}\".format(number,sorted(l1)[-number:]))\n",
    "    else:\n",
    "        print(\"list is  smaller than your number\")\n",
    "except Exception as e:\n",
    "    print(\"{}\".format(str(e)))\n",
    "    print(\"all the elements in the list is numeric\")\n"
   ]
  },
  {
   "cell_type": "code",
   "execution_count": 7,
   "metadata": {},
   "outputs": [
    {
     "name": "stdout",
     "output_type": "stream",
     "text": [
      "even numbers in a list is [0, 2, 34, 6, 40]\n"
     ]
    }
   ],
   "source": [
    "# 7. Write a Python program to print even numbers in a list?\n",
    "\n",
    "try:\n",
    "    l1=[0,2,34,5,6,67,4.5,40,41]\n",
    "    even_list=[]\n",
    "\n",
    "    for i in l1:\n",
    "        if i%2==0:\n",
    "            even_list.append(i)\n",
    "        \n",
    "    print(\"even numbers in a list is {}\".format(even_list))\n",
    "except Exception as e:\n",
    "    print(\"{}\".format(str(e)))\n",
    "    print(\"all the elements in the list is numeric\")\n"
   ]
  },
  {
   "cell_type": "code",
   "execution_count": 8,
   "metadata": {},
   "outputs": [
    {
     "name": "stdout",
     "output_type": "stream",
     "text": [
      "odd numbers in a List is [1, 5, 67, 41]\n"
     ]
    }
   ],
   "source": [
    "# 8. Write a Python program to print odd numbers in a List?\n",
    "\n",
    "try:\n",
    "    l1=[1,10,2,34,5,6,67,4.5,40,41]\n",
    "    odd_list=[]\n",
    "\n",
    "    for i in l1:\n",
    "        if i%2==1:\n",
    "            odd_list.append(i)\n",
    "        \n",
    "    print(\"odd numbers in a List is {}\".format(odd_list))\n",
    "except Exception as e:\n",
    "    print(\"{}\".format(str(e)))\n",
    "    print(\"all the elements in the list is numeric\")"
   ]
  },
  {
   "cell_type": "code",
   "execution_count": 9,
   "metadata": {},
   "outputs": [
    {
     "name": "stdout",
     "output_type": "stream",
     "text": [
      "after removing empty list [1, 10, 2, [8], 34, 5, 6, 67, 4.5, 40, 41]\n"
     ]
    }
   ],
   "source": [
    "# 9. Write a Python program to Remove empty List from List?\n",
    "\n",
    "try:\n",
    "    l1=[1,10,2,[ 8],34,5,6,67,[],4.5,40,41,[]]\n",
    "\n",
    "    for i in l1:\n",
    "        if type(i)==list and len(i)==0 :\n",
    "            l1.remove(i)\n",
    "        else:\n",
    "            continue  \n",
    "    print(\"after removing empty list {}\".format(l1))\n",
    "except Exception as e:\n",
    "    print(\"{}\".format(str(e)))\n",
    " "
   ]
  },
  {
   "cell_type": "code",
   "execution_count": 10,
   "metadata": {},
   "outputs": [
    {
     "name": "stdout",
     "output_type": "stream",
     "text": [
      "[1, 10, 2, [8], 34, 5, 6, 67] is the copy of list [1, 10, 2, [8], 34, 5, 6, 67]\n"
     ]
    }
   ],
   "source": [
    "# 10. Write a Python program to Cloning or Copying a list?\n",
    "\n",
    "\n",
    "try:\n",
    "    l1=[1,10,2,[ 8],34,5,6,67]\n",
    "\n",
    "    l2=l1.copy()\n",
    "    print(\"{} is the copy of list {}\".format(l2,l1))\n",
    "except Exception as e:\n",
    "    print(\"{}\".format(str(e)))\n"
   ]
  },
  {
   "cell_type": "code",
   "execution_count": 11,
   "metadata": {},
   "outputs": [
    {
     "name": "stdout",
     "output_type": "stream",
     "text": [
      "0 === 5 \n",
      "1 === 1 \n",
      "2 === 1 \n",
      "34 === 1 \n",
      "67 === 1 \n",
      "5 === 1 \n",
      "6 === 5 \n",
      "7 === 3 \n",
      "534535 === 1 \n",
      "10 === 1 \n",
      "45 === 3 \n",
      "453455 === 1 \n"
     ]
    }
   ],
   "source": [
    "# 11. Write a Python program to Count occurrences of an element in a list?\n",
    "\n",
    "try:\n",
    "    l1=[1,10,2,34,5,6,67,6,6,6,6,7,7,7,45,45,45,453455,534535,0,0,0,0,0]\n",
    "\n",
    "    unique_num=list(set(l1))\n",
    "\n",
    "    for i in unique_num:\n",
    "        # print(type(i))\n",
    "        count=l1.count(i)\n",
    "        print(\"{} === {} \".format(i,count))\n",
    "\n",
    "        \n",
    "except Exception as e:\n",
    "    print(\"{}\".format(str(e)))\n",
    "    print(\"all the elements in the list is numeric\")"
   ]
  },
  {
   "cell_type": "code",
   "execution_count": null,
   "metadata": {},
   "outputs": [],
   "source": []
  }
 ],
 "metadata": {
  "kernelspec": {
   "display_name": "venv",
   "language": "python",
   "name": "python3"
  },
  "language_info": {
   "codemirror_mode": {
    "name": "ipython",
    "version": 3
   },
   "file_extension": ".py",
   "mimetype": "text/x-python",
   "name": "python",
   "nbconvert_exporter": "python",
   "pygments_lexer": "ipython3",
   "version": "3.10.6"
  },
  "orig_nbformat": 4,
  "vscode": {
   "interpreter": {
    "hash": "06b6a4a62caffedb8ad33d03a0010eb605baa5bfbd134e21acbf4ca8e88b72fc"
   }
  }
 },
 "nbformat": 4,
 "nbformat_minor": 2
}
