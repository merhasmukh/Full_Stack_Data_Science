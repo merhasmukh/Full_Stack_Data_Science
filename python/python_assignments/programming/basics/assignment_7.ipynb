{
 "cells": [
  {
   "cell_type": "markdown",
   "metadata": {},
   "source": [
    "1. Write a Python Program to find sum of array?\n",
    "2. Write a Python Program to find largest element in an array?\n",
    "3. Write a Python Program for array rotation?\n",
    "4. Write a Python Program to Split the array and add the first part to the end?\n",
    "5. Write a Python Program to check if given array is Monotonic?"
   ]
  },
  {
   "cell_type": "code",
   "execution_count": 17,
   "metadata": {},
   "outputs": [
    {
     "name": "stdout",
     "output_type": "stream",
     "text": [
      "Sum of given array is 17\n"
     ]
    }
   ],
   "source": [
    "# 1. Write a Python Program to find sum of array?\n",
    "\n",
    "import numpy as np\n",
    "try:\n",
    "    arr=np.array([3,4,5,5])\n",
    "    sum=0\n",
    "    for i in arr:\n",
    "        sum=sum+i\n",
    "\n",
    "    print(\"Sum of given array is {}\".format(sum))\n",
    "    \n",
    "except Exception as e:\n",
    "    print(\"exception occured \",str(e))\n"
   ]
  },
  {
   "cell_type": "code",
   "execution_count": 20,
   "metadata": {},
   "outputs": [
    {
     "name": "stdout",
     "output_type": "stream",
     "text": [
      "largest element in given array is 4555\n"
     ]
    }
   ],
   "source": [
    "# 2. Write a Python Program to find largest element in an array?\n",
    "\n",
    "\n",
    "import numpy as np\n",
    "try:\n",
    "\n",
    "    arr=np.array([3,4,5,5,4555])\n",
    "    max_num=max(arr)\n",
    "   \n",
    "    print(\"largest element in given array is {}\".format(max_num))\n",
    "    \n",
    "except Exception as e:\n",
    "    print(\"exception occured \",str(e))\n"
   ]
  },
  {
   "cell_type": "code",
   "execution_count": 42,
   "metadata": {},
   "outputs": [
    {
     "name": "stdout",
     "output_type": "stream",
     "text": [
      "[ 4  5  6 45 56  1  2  3]\n"
     ]
    }
   ],
   "source": [
    "# 3. Write a Python Program for array rotation?\n",
    "\n",
    "import numpy as np\n",
    "try:\n",
    "\n",
    "    arr=np.array([1,2,3,4,5,6,45,56])\n",
    "    steps=int(input(\"how many steps you want to rotate??\"))\n",
    "    direction=input(\"from which side you want to rotate ? left or right ( r for right and l for left\")\n",
    "    \n",
    "    if len(arr)<steps:\n",
    "        print(\"not possible because of array length..\")\n",
    "    elif len(arr)==steps:\n",
    "        print(arr[::-1])\n",
    "    else:\n",
    "        if direction =='l':\n",
    "            print(np.append(arr[steps:],arr[:steps]))\n",
    "        elif direction == 'r':\n",
    "            # print(arr[len(arr)-steps:],arr[:len(arr)-steps])\n",
    "            print(np.append(arr[len(arr)-steps:],arr[:len(arr)-steps]))\n",
    "        else:\n",
    "            print(\"please enter l or r only\")\n",
    "\n",
    "\n",
    "except Exception as e:\n",
    "    print(\"exception occured \",str(e))"
   ]
  },
  {
   "cell_type": "code",
   "execution_count": 41,
   "metadata": {},
   "outputs": [
    {
     "name": "stdout",
     "output_type": "stream",
     "text": [
      "[ 3  4  5  6 45 56  1  2]\n"
     ]
    }
   ],
   "source": [
    "# 4. Write a Python Program to Split the array and add the first part to the end?\n",
    "\n",
    "\n",
    "import numpy as np\n",
    "try:\n",
    "\n",
    "    arr=np.array([1,2,3,4,5,6,45,56])\n",
    "    steps=int(input(\"select position\"))\n",
    "    print(np.append(arr[steps:],arr[:steps]))\n",
    "    \n",
    "except Exception as e:\n",
    "    print(\"exception occured \",str(e))"
   ]
  },
  {
   "cell_type": "code",
   "execution_count": 40,
   "metadata": {},
   "outputs": [
    {
     "name": "stdout",
     "output_type": "stream",
     "text": [
      "given array [6 5 4 3 2 0] is monotonic\n"
     ]
    }
   ],
   "source": [
    "# 5. Write a Python Program to check if given array is Monotonic?\n",
    "\n",
    "try:\n",
    "\n",
    "    arr=np.array([6,5,4,3,2,0])\n",
    "    monotonic=0\n",
    "    status=[]\n",
    "    if len(arr)==1:\n",
    "        print(\"Monotonic\")\n",
    "    else:\n",
    "        for i in range(len(arr)-1):\n",
    "            if arr[i]<=arr[i+1]:\n",
    "                monotonic=0\n",
    "                status.append(monotonic)\n",
    "            else:\n",
    "                monotonic=1\n",
    "                for i in range(len(arr)-1):\n",
    "                    if arr[i]>=arr[i+1]:\n",
    "                        monotonic=0\n",
    "                        status.append(monotonic)\n",
    "\n",
    "                    else:\n",
    "                        monotonic=1\n",
    "                        status.append(monotonic)\n",
    "\n",
    "\n",
    "    if len(set(status))==1:\n",
    "        print(\"given array {} is monotonic\".format(arr))\n",
    "    else:\n",
    "        print(\"not monotonic\")\n",
    "        \n",
    "\n",
    "except Exception as e:\n",
    "    print(\"exception occured \",str(e))"
   ]
  },
  {
   "cell_type": "code",
   "execution_count": null,
   "metadata": {},
   "outputs": [],
   "source": []
  },
  {
   "cell_type": "code",
   "execution_count": null,
   "metadata": {},
   "outputs": [],
   "source": []
  }
 ],
 "metadata": {
  "kernelspec": {
   "display_name": "venv",
   "language": "python",
   "name": "python3"
  },
  "language_info": {
   "codemirror_mode": {
    "name": "ipython",
    "version": 3
   },
   "file_extension": ".py",
   "mimetype": "text/x-python",
   "name": "python",
   "nbconvert_exporter": "python",
   "pygments_lexer": "ipython3",
   "version": "3.10.6"
  },
  "orig_nbformat": 4,
  "vscode": {
   "interpreter": {
    "hash": "06b6a4a62caffedb8ad33d03a0010eb605baa5bfbd134e21acbf4ca8e88b72fc"
   }
  }
 },
 "nbformat": 4,
 "nbformat_minor": 2
}
