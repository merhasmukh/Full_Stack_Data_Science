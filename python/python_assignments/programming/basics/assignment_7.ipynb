{
 "cells": [
  {
   "cell_type": "markdown",
   "metadata": {},
   "source": [
    "1. Write a Python Program to find sum of array?\n",
    "2. Write a Python Program to find largest element in an array?\n",
    "3. Write a Python Program for array rotation?\n",
    "4. Write a Python Program to Split the array and add the first part to the end?\n",
    "5. Write a Python Program to check if given array is Monotonic?"
   ]
  },
  {
   "cell_type": "code",
   "execution_count": 17,
   "metadata": {},
   "outputs": [
    {
     "name": "stdout",
     "output_type": "stream",
     "text": [
      "Sum of given array is 17\n"
     ]
    }
   ],
   "source": [
    "# 1. Write a Python Program to find sum of array?\n",
    "\n",
    "import numpy as np\n",
    "try:\n",
    "    arr=np.array([3,4,5,5])\n",
    "    sum=0\n",
    "    for i in arr:\n",
    "        sum=sum+i\n",
    "\n",
    "    print(\"Sum of given array is {}\".format(sum))\n",
    "    \n",
    "except Exception as e:\n",
    "    print(\"exception occured \",str(e))\n"
   ]
  },
  {
   "cell_type": "code",
   "execution_count": 20,
   "metadata": {},
   "outputs": [
    {
     "name": "stdout",
     "output_type": "stream",
     "text": [
      "largest element in given array is 4555\n"
     ]
    }
   ],
   "source": [
    "# 2. Write a Python Program to find largest element in an array?\n",
    "\n",
    "\n",
    "import numpy as np\n",
    "try:\n",
    "\n",
    "    arr=np.array([3,4,5,5,4555])\n",
    "    max_num=max(arr)\n",
    "   \n",
    "    print(\"largest element in given array is {}\".format(max_num))\n",
    "    \n",
    "except Exception as e:\n",
    "    print(\"exception occured \",str(e))\n"
   ]
  },
  {
   "cell_type": "code",
   "execution_count": null,
   "metadata": {},
   "outputs": [],
   "source": [
    "# 3. Write a Python Program for array rotation?"
   ]
  }
 ],
 "metadata": {
  "kernelspec": {
   "display_name": "Python 3.10.6 ('venv': venv)",
   "language": "python",
   "name": "python3"
  },
  "language_info": {
   "codemirror_mode": {
    "name": "ipython",
    "version": 3
   },
   "file_extension": ".py",
   "mimetype": "text/x-python",
   "name": "python",
   "nbconvert_exporter": "python",
   "pygments_lexer": "ipython3",
   "version": "3.10.6"
  },
  "orig_nbformat": 4,
  "vscode": {
   "interpreter": {
    "hash": "d0afdaa7099e2f266b91e6d443d08b2faa23b435b21d93d057b1912e59ff8cd0"
   }
  }
 },
 "nbformat": 4,
 "nbformat_minor": 2
}
