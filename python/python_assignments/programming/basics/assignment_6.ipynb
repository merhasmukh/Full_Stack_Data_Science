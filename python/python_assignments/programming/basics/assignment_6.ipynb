{
 "cells": [
  {
   "cell_type": "markdown",
   "metadata": {},
   "source": [
    "1. Write a Python Program to Display Fibonacci Sequence Using Recursion?\n",
    "2. Write a Python Program to Find Factorial of Number Using Recursion?\n",
    "3. Write a Python Program to calculate your Body Mass Index?\n",
    "4. Write a Python Program to calculate the natural logarithm of any number?\n",
    "5. Write a Python Program for cube sum of first n natural numbers?"
   ]
  },
  {
   "cell_type": "code",
   "execution_count": 4,
   "metadata": {},
   "outputs": [
    {
     "name": "stdout",
     "output_type": "stream",
     "text": [
      "0\n",
      "1\n",
      "1\n",
      "2\n",
      "3\n",
      "5\n",
      "8\n",
      "13\n",
      "21\n",
      "34\n"
     ]
    }
   ],
   "source": [
    "# 1. Write a Python Program to Display Fibonacci Sequence Using Recursion?\n",
    "\n",
    "try:\n",
    "    num=int(input(\"enter length of fobonacci series: \"))\n",
    "    def fibo_recursion(n):\n",
    "        if n <= 1:\n",
    "            return n\n",
    "        else:\n",
    "            return(fibo_recursion(n-1) + fibo_recursion(n-2))\n",
    "            \n",
    "    for i in  range(num):\n",
    "        print(fibo_recursion(i))\n",
    "    \n",
    "except Exception as e:\n",
    "    print(\"exception occured \",str(e))"
   ]
  },
  {
   "cell_type": "code",
   "execution_count": 10,
   "metadata": {},
   "outputs": [
    {
     "name": "stdout",
     "output_type": "stream",
     "text": [
      "Factorial of 5 is 120\n"
     ]
    }
   ],
   "source": [
    "# 2. Write a Python Program to Find Factorial of Number Using Recursion?\n",
    "\n",
    "try:\n",
    "    num=int(input(\"Enter your number: \"))\n",
    "    def facto_rec(n):\n",
    "        if n == 1:\n",
    "            return n\n",
    "        else:\n",
    "            return(n * facto_rec(n-1))\n",
    "            \n",
    "    # for i in  range(num):\n",
    "    print(\"Factorial of {} is {}\".format(num,facto_rec(num)))\n",
    "    \n",
    "except Exception as e:\n",
    "    print(\"exception occured \",str(e))"
   ]
  },
  {
   "cell_type": "code",
   "execution_count": 13,
   "metadata": {},
   "outputs": [
    {
     "name": "stdout",
     "output_type": "stream",
     "text": [
      "your BMI is 15.210924824229314\n",
      "underweight\n"
     ]
    }
   ],
   "source": [
    "# 3. Write a Python Program to calculate your Body Mass Index?\n",
    "\n",
    "\n",
    "try:\n",
    "    height=float(input(\"Enter your Height in centimeters(cm): \"))\n",
    "    weight=float(input(\"Enter your Weight in Kilograms(KG): \"))\n",
    "    height_meter=height/100\n",
    "    bmi=weight / (height_meter*height_meter)\n",
    "    \n",
    "\n",
    "    print(\"your BMI is {}\".format(bmi))\n",
    "\n",
    "    if bmi <= 18.5:\n",
    "        print(\"underweight\")\n",
    "    elif 18.5 < bmi <= 24.9:\n",
    "        print(\"normal\")\n",
    "    elif 25 < bmi <=29.9:\n",
    "        print(\"overweight\")\n",
    "    else:\n",
    "        print(\"obese\")\n",
    "except Exception as e:\n",
    "    print(\"exception occured \",str(e))"
   ]
  },
  {
   "cell_type": "code",
   "execution_count": 17,
   "metadata": {},
   "outputs": [
    {
     "name": "stdout",
     "output_type": "stream",
     "text": [
      "Natural Logarithm of 2.5 is 0.9163\n"
     ]
    }
   ],
   "source": [
    "# 4. Write a Python Program to calculate the natural logarithm of any number?\n",
    "\n",
    "import math\n",
    "\n",
    "try:\n",
    "    num=float(input(\"Enter Your Value: \"))\n",
    "    \n",
    "    print(\"Natural Logarithm of {} is {}\".format(num,round(math.log(num),4)))\n",
    "    \n",
    "except Exception as e:\n",
    "    print(\"exception occured \",str(e))"
   ]
  },
  {
   "cell_type": "code",
   "execution_count": 3,
   "metadata": {},
   "outputs": [
    {
     "name": "stdout",
     "output_type": "stream",
     "text": [
      "cube sum of first 2 natural numbers is 9\n"
     ]
    }
   ],
   "source": [
    "# 5. Write a Python Program for cube sum of first n natural numbers?\n",
    "\n",
    "\n",
    "try:\n",
    "    num=int(input(\"Enter Your Value: \"))\n",
    "    cube_sum=0\n",
    "    if num<=0:\n",
    "        print(\"{} is not a natural number\".format(num))\n",
    "    else:\n",
    "        for i in range(1,num+1):\n",
    "            cube=i**3\n",
    "            # print(\"cube\",cube)\n",
    "            cube_sum=cube_sum+cube\n",
    "        print(\"cube sum of first {} natural numbers is {}\".format(num,cube_sum))\n",
    "    \n",
    "except Exception as e:\n",
    "    print(\"exception occured \",str(e))"
   ]
  },
  {
   "cell_type": "code",
   "execution_count": null,
   "metadata": {},
   "outputs": [],
   "source": []
  }
 ],
 "metadata": {
  "kernelspec": {
   "display_name": "Python 3.10.6 64-bit",
   "language": "python",
   "name": "python3"
  },
  "language_info": {
   "codemirror_mode": {
    "name": "ipython",
    "version": 3
   },
   "file_extension": ".py",
   "mimetype": "text/x-python",
   "name": "python",
   "nbconvert_exporter": "python",
   "pygments_lexer": "ipython3",
   "version": "3.10.6"
  },
  "vscode": {
   "interpreter": {
    "hash": "31f2aee4e71d21fbe5cf8b01ff0e069b9275f58929596ceb00d14d90e3e16cd6"
   }
  }
 },
 "nbformat": 4,
 "nbformat_minor": 2
}
