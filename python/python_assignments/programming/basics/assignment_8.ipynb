{
 "cells": [
  {
   "cell_type": "markdown",
   "metadata": {},
   "source": [
    "1. Write a Python Program to Add Two Matrices?\n",
    "2. Write a Python Program to Multiply Two Matrices?\n",
    "3. Write a Python Program to Transpose a Matrix?\n",
    "4. Write a Python Program to Sort Words in Alphabetic Order?\n",
    "5. Write a Python Program to Remove Punctuation From a String?"
   ]
  },
  {
   "cell_type": "code",
   "execution_count": 2,
   "metadata": {},
   "outputs": [
    {
     "name": "stdout",
     "output_type": "stream",
     "text": [
      "[[11  6 16]\n",
      " [17 40 52]]\n"
     ]
    }
   ],
   "source": [
    "# 1. Write a Python Program to Add Two Matrices?\n",
    "import numpy as np\n",
    "try:\n",
    "    m1=np.matrix([[2,3,4],[5,6,7]])\n",
    "    m2=np.matrix([[9,3,12],[12,34,45]])\n",
    "    if m1.shape==m2.shape:\n",
    "    \n",
    "        print(m1+m2)\n",
    "    else:\n",
    "        print(\"Addition not possible\")\n",
    "    # print(m1)\n",
    "    \n",
    "\n",
    "except Exception as e:\n",
    "    print(\"exception occured\",str(e))"
   ]
  },
  {
   "cell_type": "code",
   "execution_count": 3,
   "metadata": {},
   "outputs": [
    {
     "name": "stdout",
     "output_type": "stream",
     "text": [
      "[[54]]\n"
     ]
    }
   ],
   "source": [
    "# 2. Write a Python Program to Multiply Two Matrices?\n",
    "\n",
    "import numpy as np\n",
    "try:\n",
    "    m1=np.matrix([[1,2,3]\n",
    "                ])\n",
    "    m2=np.matrix([[9],\n",
    "                [12],[7]])\n",
    "\n",
    "\n",
    "    m1_row=m1.shape[1]\n",
    "    m2_column=m2.shape[0]\n",
    "\n",
    "    if m1_row==m2_column:\n",
    "        print(m1@m2)\n",
    "    else:\n",
    "        print(\"multiplication not possible\")\n",
    "\n",
    "    \n",
    "\n",
    "except Exception as e:\n",
    "    print(\"exception occured\",str(e))"
   ]
  },
  {
   "cell_type": "code",
   "execution_count": 6,
   "metadata": {},
   "outputs": [
    {
     "name": "stdout",
     "output_type": "stream",
     "text": [
      "[[1 4]\n",
      " [2 5]\n",
      " [3 6]]\n"
     ]
    }
   ],
   "source": [
    "# 3. Write a Python Program to Transpose a Matrix?\n",
    "\n",
    "try:\n",
    "    m1=np.matrix([[1,2,3],[4,5,6]\n",
    "                ])\n",
    "    print(m1.T)\n",
    "except Exception as e:\n",
    "    print(\"exception occured\",str(e))"
   ]
  },
  {
   "cell_type": "code",
   "execution_count": 17,
   "metadata": {},
   "outputs": [
    {
     "name": "stdout",
     "output_type": "stream",
     "text": [
      "Sorted List ==['dasd', 'sdasdd']\n"
     ]
    }
   ],
   "source": [
    "# 4. Write a Python Program to Sort Words in Alphabetic Order?\n",
    "\n",
    "try:\n",
    "    words_num=int(input(\"how many numbers of words you want to sort \"))\n",
    "    i=0\n",
    "    word_list=[]\n",
    "    while i<words_num:\n",
    "        wd=input(\"enter your word number {}\".format(i))\n",
    "        word_list.append(wd)\n",
    "        i=i+1\n",
    "\n",
    "    sorted_list=sorted(word_list)\n",
    "    print(\"Sorted List =={}\".format(sorted_list))\n",
    "\n",
    "  \n",
    "except Exception as e:\n",
    "    print(\"exception occured\",str(e))\n"
   ]
  },
  {
   "cell_type": "code",
   "execution_count": 6,
   "metadata": {},
   "outputs": [
    {
     "name": "stdout",
     "output_type": "stream",
     "text": [
      "hsfdhs6asdasd7fsdf8f8sdf9fsdf\n"
     ]
    }
   ],
   "source": [
    "# 5. Write a Python Program to Remove Punctuation From a String?\n",
    "\n",
    "import re\n",
    "try:\n",
    "    my_str = input(\"enter your string\")\n",
    "    out = re.sub(r'[^a-zA-Z0-9\\s]', '', my_str)\n",
    "    print(out)\n",
    "except Exception as e:\n",
    "    print(\"exception occured\",str(e))\n",
    "\n"
   ]
  },
  {
   "cell_type": "code",
   "execution_count": null,
   "metadata": {},
   "outputs": [],
   "source": []
  }
 ],
 "metadata": {
  "kernelspec": {
   "display_name": "venv",
   "language": "python",
   "name": "python3"
  },
  "language_info": {
   "codemirror_mode": {
    "name": "ipython",
    "version": 3
   },
   "file_extension": ".py",
   "mimetype": "text/x-python",
   "name": "python",
   "nbconvert_exporter": "python",
   "pygments_lexer": "ipython3",
   "version": "3.10.6"
  },
  "orig_nbformat": 4,
  "vscode": {
   "interpreter": {
    "hash": "06b6a4a62caffedb8ad33d03a0010eb605baa5bfbd134e21acbf4ca8e88b72fc"
   }
  }
 },
 "nbformat": 4,
 "nbformat_minor": 2
}
