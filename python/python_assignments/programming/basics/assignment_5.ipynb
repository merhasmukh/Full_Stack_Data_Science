{
 "cells": [
  {
   "cell_type": "markdown",
   "metadata": {},
   "source": [
    "    1. Write a Python Program to Find LCM?\n",
    "    2. Write a Python Program to Find HCF?\n",
    "    3. Write a Python Program to Convert Decimal to Binary, Octal and Hexadecimal?\n",
    "    4. Write a Python Program To Find ASCII value of a character?\n",
    "    5. Write a Python Program to Make a Simple Calculator with 4 basic mathematical operations?"
   ]
  },
  {
   "cell_type": "code",
   "execution_count": 5,
   "metadata": {},
   "outputs": [
    {
     "name": "stdout",
     "output_type": "stream",
     "text": [
      "enter first number: 58\n",
      "enter second number: 24\n",
      "LCM(58,24) is 696\n"
     ]
    }
   ],
   "source": [
    "# 1. Write a Python Program to Find LCM?\n",
    "\n",
    "try:\n",
    "    num1=int(input(\"enter first number: \"))\n",
    "    num2=int(input(\"enter second number: \"))\n",
    "    i=1\n",
    "    multiple_1=[]\n",
    "    multiple_2=[]\n",
    "    flag=0\n",
    "    while True:\n",
    "        multiple_1.append(num1 * i)\n",
    "        multiple_2.append(num2 * i)\n",
    "#         print(\"multiple_1\", multiple_1)\n",
    "#         print(\" multiple_2\", multiple_2)\n",
    "        i+=1\n",
    "#         print(\"iii\",i)\n",
    "        \n",
    "        for k in  multiple_1:\n",
    "            for j in  multiple_2:\n",
    "                if k==j:\n",
    "                    print(\"LCM({},{}) is {}\".format(num1,num2,k))\n",
    "                    flag=1\n",
    "                    break\n",
    " \n",
    "        if flag==1:\n",
    "            break\n",
    "                    \n",
    "except Exception as e:\n",
    "    print(\"exception occured\",str(e))\n",
    "            "
   ]
  },
  {
   "cell_type": "code",
   "execution_count": 14,
   "metadata": {},
   "outputs": [
    {
     "name": "stdout",
     "output_type": "stream",
     "text": [
      "enter first number: 25\n",
      "enter second number: 100\n",
      "Factors 1 : [1, 5]\n",
      "Factors 2 : [1, 2, 4, 5, 10, 20, 25, 50]\n",
      "HCF(25,100) is : 5 \n"
     ]
    }
   ],
   "source": [
    "# 2. Write a Python Program to Find HCF?\n",
    "\n",
    "try:\n",
    "    num1=int(input(\"enter first number: \"))\n",
    "    num2=int(input(\"enter second number: \"))\n",
    "    factors_1=[]\n",
    "    factors_2=[]\n",
    "    flag=0\n",
    "    for i in range(1,num1):\n",
    "        if num1%i==0:\n",
    "            factors_1.append(i)\n",
    "    for j in range(1, num2):\n",
    "        if num2%j==0:\n",
    "            factors_2.append(j)\n",
    "    print(\"Factors 1 :\",factors_1)\n",
    "    print(\"Factors 2 :\",factors_2)\n",
    "    for k in factors_1[::-1]:\n",
    "        for l in factors_2[::-1]:\n",
    "            if k==l:\n",
    "                flag=1\n",
    "                break\n",
    "        if flag==1:\n",
    "            break\n",
    "                    \n",
    "    if flag==1:\n",
    "        print(\"HCF({},{}) is : {} \".format(num1,num2,k))\n",
    "      \n",
    "except Exception as e:\n",
    "    print(\"exception occured\",str(e))\n",
    "            \n"
   ]
  },
  {
   "cell_type": "code",
   "execution_count": 11,
   "metadata": {},
   "outputs": [
    {
     "name": "stdout",
     "output_type": "stream",
     "text": [
      "hi\n",
      "[1, 1, 1, 1]\n"
     ]
    }
   ],
   "source": [
    "# 3. Write a Python Program to Convert Decimal to Binary, Octal and Hexadecimal?\n",
    "\n",
    "def decinalToBinary(num):\n",
    "    b_number=[]\n",
    "    if num==1:\n",
    "        return 1\n",
    "    if num==0:\n",
    "        return 0\n",
    "    if num>1:\n",
    "        while(num>0):\n",
    "            rem=num%2\n",
    "            b_number.append(rem)\n",
    "            # print(rem)\n",
    "            num=num//2\n",
    "            # num=num\n",
    "        return b_number[::-1]\n",
    "    else:\n",
    "        return \"enter positive number\"\n",
    "\n",
    "def decinalToOctal(num):\n",
    "    b_number=[]\n",
    "    if num==1:\n",
    "        return 1\n",
    "    if num==0:\n",
    "        return 0\n",
    "    if num>1:\n",
    "        while(num>0):\n",
    "            rem=num%2\n",
    "            b_number.append(rem)\n",
    "            # print(rem)\n",
    "            num=num//2\n",
    "            # num=num\n",
    "        return b_number[::-1]\n",
    "    else:\n",
    "        return \"enter positive number\"\n",
    "\n",
    "        \n",
    "\n",
    "try:\n",
    "    print(\"hi\")\n",
    "    dec=int(input(\"Enter your decimal number\"))\n",
    "    print(decinalToBinary(dec))\n",
    "\n",
    "except Exception as e:\n",
    "    print(\"Exception occured\",str(e))"
   ]
  },
  {
   "cell_type": "code",
   "execution_count": null,
   "metadata": {},
   "outputs": [],
   "source": []
  }
 ],
 "metadata": {
  "kernelspec": {
   "display_name": "Python 3.10.6 64-bit",
   "language": "python",
   "name": "python3"
  },
  "language_info": {
   "codemirror_mode": {
    "name": "ipython",
    "version": 3
   },
   "file_extension": ".py",
   "mimetype": "text/x-python",
   "name": "python",
   "nbconvert_exporter": "python",
   "pygments_lexer": "ipython3",
   "version": "3.10.6"
  },
  "vscode": {
   "interpreter": {
    "hash": "31f2aee4e71d21fbe5cf8b01ff0e069b9275f58929596ceb00d14d90e3e16cd6"
   }
  }
 },
 "nbformat": 4,
 "nbformat_minor": 2
}
