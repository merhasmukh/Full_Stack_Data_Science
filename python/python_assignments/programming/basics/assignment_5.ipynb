{
 "cells": [
  {
   "cell_type": "markdown",
   "metadata": {},
   "source": [
    "    1. Write a Python Program to Find LCM?\n",
    "    2. Write a Python Program to Find HCF?\n",
    "    3. Write a Python Program to Convert Decimal to Binary, Octal and Hexadecimal?\n",
    "    4. Write a Python Program To Find ASCII value of a character?\n",
    "    5. Write a Python Program to Make a Simple Calculator with 4 basic mathematical operations?"
   ]
  },
  {
   "cell_type": "code",
   "execution_count": 5,
   "metadata": {},
   "outputs": [
    {
     "name": "stdout",
     "output_type": "stream",
     "text": [
      "enter first number: 58\n",
      "enter second number: 24\n",
      "LCM(58,24) is 696\n"
     ]
    }
   ],
   "source": [
    "# 1. Write a Python Program to Find LCM?\n",
    "\n",
    "try:\n",
    "    num1=int(input(\"enter first number: \"))\n",
    "    num2=int(input(\"enter second number: \"))\n",
    "    i=1\n",
    "    multiple_1=[]\n",
    "    multiple_2=[]\n",
    "    flag=0\n",
    "    while True:\n",
    "        multiple_1.append(num1 * i)\n",
    "        multiple_2.append(num2 * i)\n",
    "#         print(\"multiple_1\", multiple_1)\n",
    "#         print(\" multiple_2\", multiple_2)\n",
    "        i+=1\n",
    "#         print(\"iii\",i)\n",
    "        \n",
    "        for k in  multiple_1:\n",
    "            for j in  multiple_2:\n",
    "                if k==j:\n",
    "                    print(\"LCM({},{}) is {}\".format(num1,num2,k))\n",
    "                    flag=1\n",
    "                    break\n",
    " \n",
    "        if flag==1:\n",
    "            break\n",
    "                    \n",
    "except Exception as e:\n",
    "    print(\"exception occured\",str(e))\n",
    "            "
   ]
  },
  {
   "cell_type": "code",
   "execution_count": 9,
   "metadata": {},
   "outputs": [
    {
     "name": "stdout",
     "output_type": "stream",
     "text": [
      "HCF(45,78) is : 3 \n"
     ]
    }
   ],
   "source": [
    "# 2. Write a Python Program to Find HCF?\n",
    "\n",
    "try:\n",
    "    num1=int(input(\"enter first number: \"))\n",
    "    num2=int(input(\"enter second number: \"))\n",
    "    factors_1=[]\n",
    "    factors_2=[]\n",
    "    flag=0\n",
    "    for i in range(1,num1):\n",
    "        if num1%i==0:\n",
    "            factors_1.append(i)\n",
    "    for j in range(1, num2):\n",
    "        if num2%j==0:\n",
    "            factors_2.append(j)\n",
    "    # print(\"Factors 1 :\",factors_1)\n",
    "    # print(\"Factors 2 :\",factors_2)\n",
    "    for k in factors_1[::-1]:\n",
    "        for l in factors_2[::-1]:\n",
    "            if k==l:\n",
    "                flag=1\n",
    "                break\n",
    "            \n",
    "        if flag==1:\n",
    "            break\n",
    "                    \n",
    "    if flag==1:\n",
    "        print(\"HCF({},{}) is : {} \".format(num1,num2,k))\n",
    "      \n",
    "except Exception as e:\n",
    "    print(\"exception occured\",str(e))\n",
    "            \n"
   ]
  },
  {
   "cell_type": "code",
   "execution_count": 11,
   "metadata": {},
   "outputs": [
    {
     "name": "stdout",
     "output_type": "stream",
     "text": [
      "2 to Binary:10 \n",
      "2 to Octal:2 \n",
      "2 to HexaDecimal:2 \n"
     ]
    }
   ],
   "source": [
    "# 3. Write a Python Program to Convert Decimal to Binary, Octal and Hexadecimal?\n",
    "\n",
    "def decinalToBinary(num):\n",
    "    b_number=[]\n",
    "    binary_num=''\n",
    "    if num==1:\n",
    "        return 1\n",
    "    if num==0:\n",
    "        return 0\n",
    "    if num>1:\n",
    "        while(num>0):\n",
    "            rem=num%2\n",
    "            b_number.append(rem)\n",
    "            # print(rem)\n",
    "            num=num//2\n",
    "            # num=num\n",
    "        return binary_num.join(str(i) for i in b_number[::-1])   \n",
    "    else:\n",
    "        return \"enter positive number\"\n",
    "\n",
    "def decinalToOctal(num):\n",
    "    oct_number=[]\n",
    "    octal_num=''\n",
    "    if num==0:\n",
    "        return 0\n",
    "    if num>1:\n",
    "        while(num>0):\n",
    "            rem=num%8\n",
    "            oct_number.append(rem)\n",
    "            # print(rem)\n",
    "            num=num//8\n",
    "            # num=num\n",
    "        return octal_num.join(str(i) for i in oct_number[::-1])\n",
    "    else:\n",
    "        return \"enter positive number\"\n",
    "\n",
    "def decinalToHex(num):\n",
    "    hex_number=[]\n",
    "    hexa_decimal=[]\n",
    "    hexa_decimal_num=''\n",
    "    j=0\n",
    "    if num==0:\n",
    "        return 0\n",
    "    if num>1:\n",
    "        while(num>0):\n",
    "            rem=num%16\n",
    "            hex_number.append(rem)\n",
    "            # print(rem)\n",
    "            num=num//16\n",
    "            # num=num\n",
    "        h_num=[10,11,12,13,14,15]\n",
    "        h_digit=[\"A\",\"B\",\"C\",\"D\",\"E\",\"F\"]\n",
    "        for i in hex_number[::-1]:\n",
    "            if i in h_num:\n",
    "                j=h_digit[h_num.index(i)]\n",
    "                hexa_decimal.append(j)\n",
    "                # print(\"j\",j)\n",
    "            else:\n",
    "                hexa_decimal.append(i)\n",
    "\n",
    "        return hexa_decimal_num.join(str(i) for i in hexa_decimal)\n",
    "    else:\n",
    "        return \"enter positive number\"\n",
    "\n",
    "        \n",
    "\n",
    "try:\n",
    "    # print(\"hi\")\n",
    "    dec=int(input(\"Enter your decimal number\"))\n",
    "    print(\"{} to Binary:{} \".format(dec,decinalToBinary(dec)))\n",
    "    print(\"{} to Octal:{} \".format(dec,decinalToOctal(dec)))\n",
    "    print(\"{} to HexaDecimal:{} \".format(dec,decinalToHex(dec)))\n",
    "\n",
    "\n",
    "\n",
    "except Exception as e:\n",
    "    print(\"Exception occured\",str(e))\n",
    "    print(\"please enter integer only\")\n"
   ]
  },
  {
   "cell_type": "code",
   "execution_count": 30,
   "metadata": {},
   "outputs": [
    {
     "name": "stdout",
     "output_type": "stream",
     "text": [
      "ASCII value of   is 32\n"
     ]
    }
   ],
   "source": [
    "#    4. Write a Python Program To Find ASCII value of a character?\n",
    "\n",
    "try:\n",
    "    num=str(input(\"enter your number\"))\n",
    "    print(\"ASCII value of {} is {}\".format(num,ord(num)))\n",
    "    # pass\n",
    "except Exception as e:\n",
    "    print(\"exception occured\",str(e))\n",
    "    print(\"enter single character\")\n",
    "\n",
    "    "
   ]
  },
  {
   "cell_type": "code",
   "execution_count": 31,
   "metadata": {},
   "outputs": [
    {
     "name": "stdout",
     "output_type": "stream",
     "text": [
      "Addition : 8.0 + 9.0 = 17.0\n"
     ]
    }
   ],
   "source": [
    "#    5. Write a Python Program to Make a Simple Calculator with 4 basic mathematical operations?\n",
    "\n",
    "def add(x,y):\n",
    "    try:\n",
    "        ans=x+y\n",
    "        return ans\n",
    "    except Exception as e:\n",
    "        print(\"Exception in Addition\",str(e))\n",
    "\n",
    "\n",
    "\n",
    "def sub(x,y):\n",
    "    try:\n",
    "        ans=x-y\n",
    "        return ans\n",
    "    except Exception as e:\n",
    "        print(\"Exception in Substraction\",str(e))\n",
    "\n",
    "\n",
    "def div(x,y):\n",
    "    try:\n",
    "        ans=x/y\n",
    "        return ans\n",
    "    except Exception as e:\n",
    "        print(\"Exception in Division\",str(e))\n",
    "\n",
    "\n",
    "def mul(x,y):\n",
    "    try:\n",
    "        ans=x*y\n",
    "        return ans\n",
    "    except Exception as e:\n",
    "        print(\"Exception in Multiplication\",str(e))\n",
    "        \n",
    "\n",
    "        \n",
    "try:\n",
    "    num_1=float(input(\"enter first number\"))\n",
    "\n",
    "    operator=input(\"enter mathematical operator(+,-,/,*\")\n",
    "\n",
    "    num_2=float(input(\"enter second number\"))\n",
    "\n",
    "    # choice=(input(\"enter your choice(1-4) 1.Addition 2.Substraction 3.Multiplication 4.Division\")) \n",
    "    if operator=='+':\n",
    "        print(\"Addition : {} + {} = {}\".format(num_1,num_2,add(num_1,num_2)))\n",
    "    elif operator=='-':\n",
    "        print(\"Substraction : {} - {} = {}\".format(num_1,num_2,sub(num_1,num_2)))\n",
    "    elif operator=='*':\n",
    "        print(\"Multiplication : {} * {} = {}\".format(num_1,num_2,mul(num_1,num_2)))\n",
    "    elif operator=='/':\n",
    "        print(\"Division : {} / {} = {}\".format(num_1,num_2,div(num_1,num_2)))\n",
    "    else:\n",
    "        print(\"Invalid Choice...\")\n",
    "\n",
    "        \n",
    "except Exception as e:\n",
    "    print(\"Exception Occured\",str(e))\n",
    "    print(\"Please Enter digits only\",str(e))\n"
   ]
  }
 ],
 "metadata": {
  "kernelspec": {
   "display_name": "Python 3.10.6 64-bit",
   "language": "python",
   "name": "python3"
  },
  "language_info": {
   "codemirror_mode": {
    "name": "ipython",
    "version": 3
   },
   "file_extension": ".py",
   "mimetype": "text/x-python",
   "name": "python",
   "nbconvert_exporter": "python",
   "pygments_lexer": "ipython3",
   "version": "3.10.6"
  },
  "vscode": {
   "interpreter": {
    "hash": "31f2aee4e71d21fbe5cf8b01ff0e069b9275f58929596ceb00d14d90e3e16cd6"
   }
  }
 },
 "nbformat": 4,
 "nbformat_minor": 2
}
