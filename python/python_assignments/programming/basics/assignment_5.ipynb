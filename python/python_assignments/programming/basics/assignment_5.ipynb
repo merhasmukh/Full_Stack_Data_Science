{
 "cells": [
  {
   "cell_type": "markdown",
   "metadata": {},
   "source": [
    "    1. Write a Python Program to Find LCM?\n",
    "    2. Write a Python Program to Find HCF?\n",
    "    3. Write a Python Program to Convert Decimal to Binary, Octal and Hexadecimal?\n",
    "    4. Write a Python Program To Find ASCII value of a character?\n",
    "    5. Write a Python Program to Make a Simple Calculator with 4 basic mathematical operations?"
   ]
  },
  {
   "cell_type": "code",
   "execution_count": null,
   "metadata": {},
   "outputs": [],
   "source": []
  }
 ],
 "metadata": {
  "language_info": {
   "name": "python"
  },
  "orig_nbformat": 4
 },
 "nbformat": 4,
 "nbformat_minor": 2
}
