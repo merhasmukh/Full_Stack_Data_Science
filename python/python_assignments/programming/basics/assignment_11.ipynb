{
 "cells": [
  {
   "attachments": {},
   "cell_type": "markdown",
   "metadata": {},
   "source": [
    "1. Write a Python program to find words which are greater than given length k?\n",
    "2. Write a Python program for removing i-th character from a string?\n",
    "3. Write a Python program to split and join a string?\n",
    "4. Write a Python to check if a given string is binary string or not?\n",
    "5. Write a Python program to find uncommon words from two Strings?\n",
    "6. Write a Python to find all duplicate characters in string?\n",
    "7. Write a Python Program to check if a string contains any special character?"
   ]
  },
  {
   "cell_type": "code",
   "execution_count": 1,
   "metadata": {},
   "outputs": [
    {
     "name": "stdout",
     "output_type": "stream",
     "text": [
      "words greater than 5 lenght is ['Python', 'high-level,', 'general-purpose', 'programming', 'language.', 'design', 'philosophy', 'emphasizes', 'readability', 'significant', 'indentation.', 'Python', 'dynamically-typed', 'garbage-collected.', 'supports', 'multiple', 'programming', 'paradigms,', 'including', 'structured,', 'object-oriented', 'functional', 'programming.']\n"
     ]
    }
   ],
   "source": [
    "# 1. Write a Python program to find words which are greater than given length k?\n",
    "\n",
    "try:\n",
    "    paragraph=\"Python is a high-level, general-purpose programming language. \\\n",
    "        Its design philosophy emphasizes code readability with the use of significant indentation. \\\n",
    "        Python is dynamically-typed and garbage-collected. It supports multiple programming paradigms,\\\n",
    "        including structured, object-oriented and functional programming.\"\n",
    "    paragraph_list=paragraph.split(' ')\n",
    "\n",
    "\n",
    "    len_wd=int(input(\"enter length\"))\n",
    "    greater_len_wd=[]\n",
    "    for i in paragraph_list:\n",
    "        if len(i)>len_wd:\n",
    "            greater_len_wd.append(i)\n",
    "    \n",
    "\n",
    "    print(\"words greater than {} lenght is {}\".format(len_wd,greater_len_wd))\n",
    "except Exception as e:\n",
    "    print(\"{}\".format(str(e)))\n"
   ]
  },
  {
   "cell_type": "code",
   "execution_count": 2,
   "metadata": {},
   "outputs": [
    {
     "name": "stdout",
     "output_type": "stream",
     "text": [
      "8-th element is s \n",
      "Python i a high-level, general-purpose programming language.         Its design philosophy emphasizes code readability with the use of significant indentation.         Python is dynamically-typed and garbage-collected. It supports multiple programming paradigms,        including structured, object-oriented and functional programming.\n"
     ]
    }
   ],
   "source": [
    "# 2. Write a Python program for removing i-th character from a string?\n",
    "\n",
    "\n",
    "try:\n",
    "    paragraph=\"Python is a high-level, general-purpose programming language. \\\n",
    "        Its design philosophy emphasizes code readability with the use of significant indentation. \\\n",
    "        Python is dynamically-typed and garbage-collected. It supports multiple programming paradigms,\\\n",
    "        including structured, object-oriented and functional programming.\"\n",
    "\n",
    "    char_index=int(input(\"enter index of character..\"))\n",
    "    \n",
    "    print(\"{}-th element is {} \".format(char_index,paragraph[char_index]))\n",
    "\n",
    "    paragraph=paragraph.replace(paragraph[char_index],'',1)\n",
    "\n",
    "    print(paragraph)\n",
    "except Exception as e:\n",
    "    print(\"{}\".format(str(e)))\n"
   ]
  },
  {
   "cell_type": "code",
   "execution_count": 3,
   "metadata": {},
   "outputs": [
    {
     "name": "stdout",
     "output_type": "stream",
     "text": [
      "Splitted Paragraph :=====: ['Python is a high', 'level, general', 'purpose programming language.                 Its design philosophy emphasizes code readability with the use of significant indentation.                 Python is dynamically', 'typed and garbage', 'collected. It supports multiple programming paradigms,                including structured, object', 'oriented and functional programming.']\n",
      "After joining the string :=====: hasmukh mer sarva\n"
     ]
    }
   ],
   "source": [
    "# 3. Write a Python program to split and join a string?\n",
    "\n",
    "def join_string(*args):\n",
    "    return \" \".join(args)\n",
    "\n",
    "def split_string(string,split_by=' '):\n",
    "    return string.split(split_by)\n",
    "\n",
    "try:\n",
    "    paragraph=\"Python is a high-level, general-purpose programming language. \\\n",
    "                Its design philosophy emphasizes code readability with the use of significant indentation. \\\n",
    "                Python is dynamically-typed and garbage-collected. It supports multiple programming paradigms,\\\n",
    "                including structured, object-oriented and functional programming.\"\n",
    "\n",
    "    #split the given paragraph\n",
    "    split_paragraph=split_string(paragraph,'-')  # by-default split by space  \n",
    "    print(\"Splitted Paragraph :=====: {}\".format(split_paragraph))\n",
    "\n",
    "    #join the string\n",
    "    join_str=join_string('hasmukh',\"mer\",\"sarva\")\n",
    "    print(\"After joining the string :=====: {}\".format(join_str))\n",
    "\n",
    "except Exception as e:\n",
    "    print(\"{}\".format(str(e)))\n"
   ]
  },
  {
   "cell_type": "code",
   "execution_count": 4,
   "metadata": {},
   "outputs": [
    {
     "name": "stdout",
     "output_type": "stream",
     "text": [
      "sdsdasds string is not binary string\n"
     ]
    }
   ],
   "source": [
    "# 4. Write a Python to check if a given string is binary string or not?\n",
    "try:\n",
    "    your_string=input(\"enter your string\")\n",
    "    string_set=set(your_string)\n",
    "    b_string={'0','1'}\n",
    "    if string_set==b_string:\n",
    "        print(\"{} is binary string\".format(your_string))\n",
    "    else:\n",
    "        print(\"{} string is not binary string\".format(your_string))\n",
    "\n",
    "  \n",
    "\n",
    "except Exception as e:\n",
    "    print(\"{}\".format(str(e)))\n"
   ]
  },
  {
   "cell_type": "code",
   "execution_count": 5,
   "metadata": {},
   "outputs": [
    {
     "name": "stdout",
     "output_type": "stream",
     "text": [
      "uncommon words ==> ['hasmukh', 'sarva'] \n"
     ]
    }
   ],
   "source": [
    "# 5. Write a Python program to find uncommon words from two Strings?\n",
    "\n",
    "def uncommon_words(str1,str2):\n",
    "    u_words=[]\n",
    "    for i in str1.split():\n",
    "        if i not in str2.split():\n",
    "            u_words.append(i)\n",
    "    for i in str2.split():\n",
    "        if i not in str1.split():\n",
    "            u_words.append(i)\n",
    "               \n",
    "    return u_words\n",
    "\n",
    "\n",
    "try:\n",
    "    f_string=input(\"enter your first string\")\n",
    "    s_string=input(\"enter your second string\")\n",
    "\n",
    "\n",
    "    words=uncommon_words(f_string,s_string)\n",
    "    print(\"uncommon words ==> {} \".format(words))\n",
    "\n",
    "except Exception as e:\n",
    "    print(\"{}\".format(str(e)))"
   ]
  },
  {
   "cell_type": "code",
   "execution_count": 11,
   "metadata": {},
   "outputs": [
    {
     "name": "stdout",
     "output_type": "stream",
     "text": [
      "duplicate characters ==> ['h', 'r', 's', ' ', 'm', 'a'] \n"
     ]
    }
   ],
   "source": [
    "# 6. Write a Python to find all duplicate characters in string?\n",
    "\n",
    "def duplicate_char(str1):\n",
    "    all_char=[]\n",
    "    for i in str1:\n",
    "        all_char.append(i)\n",
    "    d_char=[]\n",
    "    for j in all_char:\n",
    "        if all_char.count(j)>1:\n",
    "            d_char.append(j)\n",
    "   \n",
    "    return list(set(d_char))\n",
    "\n",
    "\n",
    "try:\n",
    "    your_string=input(\"enter your first string\")\n",
    "    char=duplicate_char(your_string)\n",
    "    print(\"duplicate characters ==> {} \".format(char))\n",
    "\n",
    "except Exception as e:\n",
    "    print(\"{}\".format(str(e)))"
   ]
  },
  {
   "cell_type": "code",
   "execution_count": 16,
   "metadata": {},
   "outputs": [
    {
     "name": "stdout",
     "output_type": "stream",
     "text": [
      "contain special character ['@', '%']\n"
     ]
    }
   ],
   "source": [
    "# 7. Write a Python Program to check if a string contains any special character?\n",
    "import string\n",
    "def special_char(str1):\n",
    "    sp_char=[]\n",
    "    special_char=list(set(string.punctuation))\n",
    "    for i in str1:\n",
    "        if i in special_char:\n",
    "            sp_char.append(i)\n",
    "    \n",
    "    if len(sp_char)>=1:\n",
    "        return \"contain special character {}\".format(sp_char)\n",
    "    else:\n",
    "        return \"not contain any speacial character\"\n",
    "        \n",
    "\n",
    "\n",
    "try:\n",
    "    your_string=input(\"enter your first string\")\n",
    "    \n",
    "    char=special_char(your_string)\n",
    "    print(\"{}\".format(char))\n",
    "\n",
    "except Exception as e:\n",
    "    print(\"{}\".format(str(e)))"
   ]
  },
  {
   "cell_type": "code",
   "execution_count": null,
   "metadata": {},
   "outputs": [],
   "source": []
  }
 ],
 "metadata": {
  "kernelspec": {
   "display_name": "venv",
   "language": "python",
   "name": "python3"
  },
  "language_info": {
   "codemirror_mode": {
    "name": "ipython",
    "version": 3
   },
   "file_extension": ".py",
   "mimetype": "text/x-python",
   "name": "python",
   "nbconvert_exporter": "python",
   "pygments_lexer": "ipython3",
   "version": "3.10.6"
  },
  "orig_nbformat": 4,
  "vscode": {
   "interpreter": {
    "hash": "06b6a4a62caffedb8ad33d03a0010eb605baa5bfbd134e21acbf4ca8e88b72fc"
   }
  }
 },
 "nbformat": 4,
 "nbformat_minor": 2
}
