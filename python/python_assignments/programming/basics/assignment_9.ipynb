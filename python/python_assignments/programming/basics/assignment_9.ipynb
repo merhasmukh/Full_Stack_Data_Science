{
 "cells": [
  {
   "attachments": {},
   "cell_type": "markdown",
   "metadata": {},
   "source": [
    "1. Write a Python program to check if the given number is a Disarium Number?\n",
    "2. Write a Python program to print all disarium numbers between 1 to 100?\n",
    "3. Write a Python program to check if the given number is Happy Number?\n",
    "4. Write a Python program to print all happy numbers between 1 and 100?\n",
    "5. Write a Python program to determine whether the given number is a Harshad Number?\n",
    "6. Write a Python program to print all pronic numbers between 1 and 100?"
   ]
  },
  {
   "cell_type": "code",
   "execution_count": 12,
   "metadata": {},
   "outputs": [
    {
     "name": "stdout",
     "output_type": "stream",
     "text": [
      "not a Disarium Number\n"
     ]
    }
   ],
   "source": [
    "# 1. Write a Python program to check if the given number is a Disarium Number?\n",
    "\n",
    "def disarium_num(number):\n",
    "    j=1\n",
    "    sum=0\n",
    "    for i in str(number):\n",
    "        sum=sum+(int(i)**j)\n",
    "        j=j+1\n",
    "\n",
    "    if sum==number:\n",
    "        return True\n",
    "        \n",
    "    else:\n",
    "        return False\n",
    "\n",
    "   \n",
    "        \n",
    "try:\n",
    "    number=int(input(\"enter your number\"))\n",
    "    out=disarium_num(number)\n",
    "\n",
    "    if out==True:\n",
    "        print(\"{} is a Disarium Number\".format(number))\n",
    "    else:\n",
    "        print(\"not a Disarium Number\")\n",
    "        \n",
    "except Exception as e:\n",
    "    print(\"exception occured {}\".format(str(e)))"
   ]
  },
  {
   "cell_type": "code",
   "execution_count": 11,
   "metadata": {},
   "outputs": [
    {
     "name": "stdout",
     "output_type": "stream",
     "text": [
      "[1, 2, 3, 4, 5, 6, 7, 8, 9, 89] are disarium numbers\n"
     ]
    }
   ],
   "source": [
    "# 2. Write a Python program to print all disarium numbers between 1 to 100?\n",
    "\n",
    "try:\n",
    "    disarium_num=[]\n",
    "    for number in range(1,100):\n",
    "        j=1\n",
    "        sum=0\n",
    "        for i in str(number):\n",
    "            sum=sum+(int(i)**j) \n",
    "            j=j+1\n",
    "\n",
    "        if sum==number:\n",
    "            # print(\"{} is a Disarium Number\".format(number))\n",
    "            disarium_num.append(number)\n",
    "\n",
    "    print(\"{} are disarium numbers\".format(disarium_num))\n",
    "        \n",
    "except Exception as e:\n",
    "    print(\"exception occured {}\".format(str(e)))"
   ]
  },
  {
   "cell_type": "code",
   "execution_count": 49,
   "metadata": {},
   "outputs": [
    {
     "name": "stdout",
     "output_type": "stream",
     "text": [
      "13 is a Happy Number\n"
     ]
    }
   ],
   "source": [
    "# 3. Write a Python program to check if the given number is Happy Number?\n",
    "\n",
    "global seq\n",
    "seq=[]\n",
    "def happy_num(number):\n",
    "    global seq\n",
    "    sum=0\n",
    "    for i in str(number):\n",
    "        sum=sum+(int(i)**2)\n",
    "    \n",
    "    # print(\"Sum\",sum)\n",
    "    \n",
    "    if sum==1:\n",
    "        return True\n",
    "    else:\n",
    "        if sum in seq:\n",
    "            # print(\"Seq\",seq)\n",
    "            return False\n",
    "        else:\n",
    "            seq.append(sum)\n",
    "            return happy_num(sum)\n",
    "    \n",
    "\n",
    "\n",
    "try:\n",
    "    number=int(input(\"enter your number\"))\n",
    "    out=happy_num(number)\n",
    "\n",
    "    if out==True:\n",
    "        print(\"{} is a Happy Number\".format(number))\n",
    "    else:\n",
    "        print(\"not a Happy Number\")\n",
    "        \n",
    "except Exception as e:\n",
    "    print(\"exception occured {}\".format(str(e)))\n"
   ]
  },
  {
   "cell_type": "code",
   "execution_count": 52,
   "metadata": {},
   "outputs": [
    {
     "name": "stdout",
     "output_type": "stream",
     "text": [
      "Happy numbers [1, 7, 10, 13, 19, 23, 28, 31, 32, 44, 49, 68, 70, 79, 82, 86, 91, 94, 97]\n"
     ]
    }
   ],
   "source": [
    "# 4. Write a Python program to print all happy numbers between 1 and 100?\n",
    "\n",
    "\n",
    "def happy_num(number):\n",
    "    \n",
    "    sum=0\n",
    "    for i in str(number):\n",
    "        sum=sum+(int(i)**2)\n",
    "    \n",
    "    # print(\"Sum\",sum)\n",
    "    \n",
    "    if sum==1:\n",
    "        return True\n",
    "    else:\n",
    "        if sum in seq:\n",
    "            # print(\"Seq\",seq)\n",
    "            return False\n",
    "        else:\n",
    "            seq.append(sum)\n",
    "            return happy_num(sum)\n",
    "    \n",
    "\n",
    "\n",
    "try:\n",
    "    # number=int(input(\"enter your number\"))\n",
    "    happy_num_list=[]\n",
    "    for i in range(1,100):\n",
    "        global seq\n",
    "        seq=[]\n",
    "        out=happy_num(i)\n",
    "        # print(\"out\",i)\n",
    "        if out==True:\n",
    "            happy_num_list.append(i)  \n",
    "\n",
    "       \n",
    "    print(\"Happy numbers {}\".format(happy_num_list))\n",
    "except Exception as e:\n",
    "    print(\"exception occured {}\".format(str(e)))\n"
   ]
  },
  {
   "cell_type": "code",
   "execution_count": 57,
   "metadata": {},
   "outputs": [
    {
     "name": "stdout",
     "output_type": "stream",
     "text": [
      "152 is a Harshad Number\n"
     ]
    }
   ],
   "source": [
    "# 5. Write a Python program to determine whether the given number is a Harshad Number?\n",
    "\n",
    "\n",
    "def harshad_num(number):\n",
    "    \n",
    "    sum=0\n",
    "    for i in str(number):\n",
    "        sum=sum+(int(i))\n",
    "    \n",
    "    \n",
    "    if number%sum==0:\n",
    "        return True\n",
    "    else:\n",
    "        return False\n",
    "\n",
    "try:\n",
    "    number=int(input(\"enter your number\"))\n",
    "    out=harshad_num(number)\n",
    "\n",
    "    if out==True:\n",
    "        print(\"{} is a Harshad Number\".format(number))\n",
    "    else:\n",
    "        print(\"not a Harshad Number\")\n",
    "except Exception as e:\n",
    "    print(\"exception occured {}\".format(str(e)))"
   ]
  },
  {
   "cell_type": "code",
   "execution_count": 66,
   "metadata": {},
   "outputs": [
    {
     "name": "stdout",
     "output_type": "stream",
     "text": [
      "pronic numbers [2, 6, 12, 20, 30, 42, 56, 72, 90] \n"
     ]
    }
   ],
   "source": [
    "# 6. Write a Python program to print all pronic numbers between 1 and 100?\n",
    "\n",
    "\n",
    "def pronic_num(number):\n",
    "    status=0\n",
    "    for i in range(1,number):\n",
    "        if i*(i+1)==number:\n",
    "            status=1\n",
    "        else:\n",
    "            continue\n",
    "    if status==1:\n",
    "        return True\n",
    "    else:\n",
    "        return False\n",
    "\n",
    "try:\n",
    "    # number=int(input(\"enter your number\"))\n",
    "    pronic_num_list=[]\n",
    "    for i in range(1,100):\n",
    "\n",
    "        out=pronic_num(i)\n",
    "\n",
    "        if out==True:\n",
    "            pronic_num_list.append(i)\n",
    "          \n",
    "    print(\"pronic numbers {} \".format(pronic_num_list))\n",
    "except Exception as e:\n",
    "    print(\"exception occured {}\".format(str(e)))"
   ]
  },
  {
   "cell_type": "code",
   "execution_count": null,
   "metadata": {},
   "outputs": [],
   "source": []
  }
 ],
 "metadata": {
  "kernelspec": {
   "display_name": "venv",
   "language": "python",
   "name": "python3"
  },
  "language_info": {
   "codemirror_mode": {
    "name": "ipython",
    "version": 3
   },
   "file_extension": ".py",
   "mimetype": "text/x-python",
   "name": "python",
   "nbconvert_exporter": "python",
   "pygments_lexer": "ipython3",
   "version": "3.10.6"
  },
  "orig_nbformat": 4,
  "vscode": {
   "interpreter": {
    "hash": "06b6a4a62caffedb8ad33d03a0010eb605baa5bfbd134e21acbf4ca8e88b72fc"
   }
  }
 },
 "nbformat": 4,
 "nbformat_minor": 2
}
