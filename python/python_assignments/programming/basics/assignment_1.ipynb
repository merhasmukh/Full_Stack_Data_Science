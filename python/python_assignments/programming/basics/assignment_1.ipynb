{
 "cells": [
  {
   "cell_type": "markdown",
   "metadata": {},
   "source": [
    "1. Write a Python program to print \"Hello Python\"?\n",
    "2. Write a Python program to do arithmetical operations addition and division.?\n",
    "3. Write a Python program to find the area of a triangle?\n",
    "4. Write a Python program to swap two variables?\n",
    "5. Write a Python program to generate a random number?"
   ]
  },
  {
   "cell_type": "code",
   "execution_count": 1,
   "metadata": {},
   "outputs": [
    {
     "name": "stdout",
     "output_type": "stream",
     "text": [
      "Hello Python\n"
     ]
    }
   ],
   "source": [
    "#    1. Write a Python program to print \"Hello Python\"?\n",
    "\n",
    "print(\"Hello Python\")"
   ]
  },
  {
   "cell_type": "code",
   "execution_count": 4,
   "metadata": {},
   "outputs": [
    {
     "name": "stdout",
     "output_type": "stream",
     "text": [
      "14\n"
     ]
    }
   ],
   "source": [
    "#     2. Write a Python program to do arithmetical operations addition and division.?\n",
    "\n",
    "\n",
    "\n",
    "def addition_num(a,b):\n",
    "    return a+b\n",
    "\n",
    "\n",
    "def division_num(a,b):\n",
    "    return a/b\n",
    "    \n",
    "try:\n",
    "    a=int(input(\"enter first value\"))\n",
    "    b=int(input(\"enter second value\"))\n",
    "    choice=(input(\"enter + for addition and / for division\"))\n",
    "    if choice==\"+\":\n",
    "        print(addition_num(a,b))\n",
    "    elif choice==\"/\":\n",
    "        print(division_num(a,b))\n",
    "    else:\n",
    "        print(\"wrong choice..\")\n",
    "\n",
    "\n",
    "\n",
    "except Exception as e:\n",
    "    print(\"Exception occured:\" ,str(e))"
   ]
  },
  {
   "cell_type": "code",
   "execution_count": 6,
   "metadata": {},
   "outputs": [
    {
     "name": "stdout",
     "output_type": "stream",
     "text": [
      "20.0\n"
     ]
    }
   ],
   "source": [
    "#   3. Write a Python program to find the area of a triangle?\n",
    "\n",
    "try:\n",
    "    base=float(input(\"enter value of base\"))\n",
    "    height=float(input(\"enter value of base\"))\n",
    "    triangle_area=(1/2)*base*height\n",
    "    print(triangle_area)\n",
    "except Exception as e:\n",
    "    print(\"Exception occured..\",str(e))\n"
   ]
  },
  {
   "cell_type": "code",
   "execution_count": 8,
   "metadata": {},
   "outputs": [
    {
     "name": "stdout",
     "output_type": "stream",
     "text": [
      "value of a is  5\n",
      "value of b is  8\n",
      "*******After swap***************\n",
      "value of a is  8\n",
      "value of b is  5\n"
     ]
    }
   ],
   "source": [
    "# 4. Write a Python program to swap two variables?\n",
    "\n",
    "try:\n",
    "    a=int(input(\"enter value of a\"))\n",
    "    b=int(input(\"enter value of b\"))\n",
    "    print(\"value of a is \",a)\n",
    "    print(\"value of b is \",b)\n",
    "    a,b=b,a\n",
    "    print(\"*******After swap***************\")\n",
    "    print(\"value of a is \",a)\n",
    "    print(\"value of b is \",b)\n",
    "except Exception as e:\n",
    "    print(\"Exception occured\",str(e))\n",
    "\n"
   ]
  },
  {
   "cell_type": "code",
   "execution_count": 25,
   "metadata": {},
   "outputs": [
    {
     "name": "stdout",
     "output_type": "stream",
     "text": [
      "865\n"
     ]
    }
   ],
   "source": [
    "# 5. Write a Python program to generate a random number?\n",
    "\n",
    "\n",
    "from numpy import random\n",
    "\n",
    "x = random.randint(1000)\n",
    "\n",
    "print(x)"
   ]
  }
 ],
 "metadata": {
  "kernelspec": {
   "display_name": "Python 3.8.10 ('venv': venv)",
   "language": "python",
   "name": "python3"
  },
  "language_info": {
   "codemirror_mode": {
    "name": "ipython",
    "version": 3
   },
   "file_extension": ".py",
   "mimetype": "text/x-python",
   "name": "python",
   "nbconvert_exporter": "python",
   "pygments_lexer": "ipython3",
   "version": "3.8.10"
  },
  "orig_nbformat": 4,
  "vscode": {
   "interpreter": {
    "hash": "af46c2aa278825b7a34ad5ad00f0f724421c31409a90988f8a01623591b12991"
   }
  }
 },
 "nbformat": 4,
 "nbformat_minor": 2
}
