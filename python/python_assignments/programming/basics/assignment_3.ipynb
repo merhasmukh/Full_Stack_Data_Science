{
 "cells": [
  {
   "cell_type": "markdown",
   "metadata": {},
   "source": [
    "    1. Write a Python Program to Check if a Number is Positive, Negative or Zero?\n",
    "    2. Write a Python Program to Check if a Number is Odd or Even?\n",
    "    3. Write a Python Program to Check Leap Year?\n",
    "    4. Write a Python Program to Check Prime Number?\n",
    "    5. Write a Python Program to Print all Prime Numbers in an Interval of 1-10000?"
   ]
  },
  {
   "cell_type": "code",
   "execution_count": null,
   "metadata": {},
   "outputs": [],
   "source": []
  }
 ],
 "metadata": {
  "language_info": {
   "name": "python"
  },
  "orig_nbformat": 4
 },
 "nbformat": 4,
 "nbformat_minor": 2
}
