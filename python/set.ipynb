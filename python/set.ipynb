{
 "cells": [
  {
   "cell_type": "code",
   "execution_count": 1,
   "id": "7cce5aa5-210b-408e-9296-d18ce50ed077",
   "metadata": {},
   "outputs": [],
   "source": [
    "l=[2,2,2,2,2,45,23,2131,1212,98,\"hasm\",\"mer\",\"hasm\"]\n",
    "\n"
   ]
  },
  {
   "cell_type": "code",
   "execution_count": 4,
   "id": "73996379-1de9-42fa-aa6d-23c71f78394e",
   "metadata": {},
   "outputs": [
    {
     "data": {
      "text/plain": [
       "{1212, 2, 2131, 23, 45, 98, 'hasm', 'mer'}"
      ]
     },
     "execution_count": 4,
     "metadata": {},
     "output_type": "execute_result"
    }
   ],
   "source": [
    "s=set(l)\n",
    "s"
   ]
  },
  {
   "cell_type": "code",
   "execution_count": 8,
   "id": "24fda270-fcec-448c-a91f-1298ba4175dd",
   "metadata": {},
   "outputs": [
    {
     "name": "stdout",
     "output_type": "stream",
     "text": [
      "2\n",
      "98\n",
      "hasm\n",
      "mer\n",
      "45\n",
      "2131\n",
      "23\n",
      "1212\n"
     ]
    }
   ],
   "source": [
    "for i in s:\n",
    "    print(i)"
   ]
  },
  {
   "cell_type": "code",
   "execution_count": 9,
   "id": "f0861d19-0e01-4066-94f5-e54e5386171f",
   "metadata": {},
   "outputs": [
    {
     "data": {
      "text/plain": [
       "True"
      ]
     },
     "execution_count": 9,
     "metadata": {},
     "output_type": "execute_result"
    }
   ],
   "source": [
    "\"mer\" in s"
   ]
  },
  {
   "cell_type": "code",
   "execution_count": 11,
   "id": "46986c9f-c922-4052-b302-a482269976f6",
   "metadata": {},
   "outputs": [],
   "source": [
    "# s[7]"
   ]
  },
  {
   "cell_type": "code",
   "execution_count": 19,
   "id": "f7cbd4ca-ce40-47b3-a0c9-8cfec23a7048",
   "metadata": {},
   "outputs": [],
   "source": [
    "l=l + [['hasukh']]"
   ]
  },
  {
   "cell_type": "code",
   "execution_count": 20,
   "id": "7dc353b0-75b1-4d0f-90df-d8352110c2c4",
   "metadata": {},
   "outputs": [
    {
     "data": {
      "text/plain": [
       "[2, 2, 2, 2, 2, 45, 23, 2131, 1212, 98, 'hasm', 'mer', 'hasm', ['hasukh']]"
      ]
     },
     "execution_count": 20,
     "metadata": {},
     "output_type": "execute_result"
    }
   ],
   "source": [
    "l"
   ]
  },
  {
   "cell_type": "code",
   "execution_count": 25,
   "id": "9b3c9cd3-1106-43fa-920a-d67f41ae8c7d",
   "metadata": {},
   "outputs": [],
   "source": [
    "# set(l)\n"
   ]
  },
  {
   "cell_type": "code",
   "execution_count": 26,
   "id": "b6734941-0f8f-45f2-96e9-69e729ece919",
   "metadata": {},
   "outputs": [],
   "source": [
    "s=set()"
   ]
  },
  {
   "cell_type": "code",
   "execution_count": 28,
   "id": "e4b7294e-b5a8-466e-ba5f-56342db94b0d",
   "metadata": {},
   "outputs": [
    {
     "data": {
      "text/plain": [
       "{45}"
      ]
     },
     "execution_count": 28,
     "metadata": {},
     "output_type": "execute_result"
    }
   ],
   "source": [
    "s.add(45)\n",
    "s"
   ]
  },
  {
   "cell_type": "code",
   "execution_count": 29,
   "id": "29738fcd-468b-4673-9fc5-5bd381353455",
   "metadata": {},
   "outputs": [
    {
     "data": {
      "text/plain": [
       "{45, 'hasmukh'}"
      ]
     },
     "execution_count": 29,
     "metadata": {},
     "output_type": "execute_result"
    }
   ],
   "source": [
    "s.add(\"hasmukh\")\n",
    "s"
   ]
  },
  {
   "cell_type": "code",
   "execution_count": 30,
   "id": "abd54ea2-4ed0-4baf-9ecf-6d1a98c901d8",
   "metadata": {},
   "outputs": [
    {
     "data": {
      "text/plain": [
       "{'hasmukh'}"
      ]
     },
     "execution_count": 30,
     "metadata": {},
     "output_type": "execute_result"
    }
   ],
   "source": [
    "s.remove(45)\n",
    "s"
   ]
  },
  {
   "cell_type": "code",
   "execution_count": 31,
   "id": "3b3f3171-f623-41ad-9783-87eab8cc88ba",
   "metadata": {},
   "outputs": [
    {
     "data": {
      "text/plain": [
       "set()"
      ]
     },
     "execution_count": 31,
     "metadata": {},
     "output_type": "execute_result"
    }
   ],
   "source": [
    "s.clear()\n",
    "s"
   ]
  },
  {
   "cell_type": "code",
   "execution_count": 32,
   "id": "ac447f31-013d-4668-add8-e7cd7f7fc2f6",
   "metadata": {},
   "outputs": [
    {
     "data": {
      "text/plain": [
       "set()"
      ]
     },
     "execution_count": 32,
     "metadata": {},
     "output_type": "execute_result"
    }
   ],
   "source": [
    "s"
   ]
  },
  {
   "cell_type": "code",
   "execution_count": 33,
   "id": "7cf10604-7228-4768-abfd-487c9c9aa6d1",
   "metadata": {},
   "outputs": [],
   "source": [
    "s.add(45)\n",
    "s.add(78)\n",
    "s.add(\"hasmukh\")\n",
    "s.add(\"mer\")"
   ]
  },
  {
   "cell_type": "code",
   "execution_count": 34,
   "id": "e4dc0ba8-7d37-40e0-9884-0d20c3917c5a",
   "metadata": {},
   "outputs": [
    {
     "data": {
      "text/plain": [
       "{45, 78, 'hasmukh', 'mer'}"
      ]
     },
     "execution_count": 34,
     "metadata": {},
     "output_type": "execute_result"
    }
   ],
   "source": [
    "s"
   ]
  },
  {
   "cell_type": "code",
   "execution_count": 35,
   "id": "3762952c-fb53-4e7b-a843-6133d37dbebc",
   "metadata": {},
   "outputs": [],
   "source": [
    "s1={4,5,6,6,8}"
   ]
  },
  {
   "cell_type": "code",
   "execution_count": 36,
   "id": "933f156d-fa87-43aa-86ab-d2a589a4d74b",
   "metadata": {},
   "outputs": [
    {
     "data": {
      "text/plain": [
       "{4, 5, 6, 8}"
      ]
     },
     "execution_count": 36,
     "metadata": {},
     "output_type": "execute_result"
    }
   ],
   "source": [
    "s1"
   ]
  },
  {
   "cell_type": "code",
   "execution_count": 40,
   "id": "05ba83aa-b6d4-45dc-951f-78fc796353c6",
   "metadata": {},
   "outputs": [
    {
     "ename": "TypeError",
     "evalue": "unsupported operand type(s) for +: 'set' and 'set'",
     "output_type": "error",
     "traceback": [
      "\u001b[0;31m---------------------------------------------------------------------------\u001b[0m",
      "\u001b[0;31mTypeError\u001b[0m                                 Traceback (most recent call last)",
      "Input \u001b[0;32mIn [40]\u001b[0m, in \u001b[0;36m<cell line: 1>\u001b[0;34m()\u001b[0m\n\u001b[0;32m----> 1\u001b[0m \u001b[43ms1\u001b[49m\u001b[38;5;241;43m+\u001b[39;49m\u001b[43ms\u001b[49m\n",
      "\u001b[0;31mTypeError\u001b[0m: unsupported operand type(s) for +: 'set' and 'set'"
     ]
    }
   ],
   "source": [
    "# s1+s"
   ]
  },
  {
   "cell_type": "code",
   "execution_count": 43,
   "id": "586afe53-9a75-4413-a86a-775fd32b367b",
   "metadata": {},
   "outputs": [
    {
     "ename": "TypeError",
     "evalue": "unsupported operand type(s) for *: 'set' and 'int'",
     "output_type": "error",
     "traceback": [
      "\u001b[0;31m---------------------------------------------------------------------------\u001b[0m",
      "\u001b[0;31mTypeError\u001b[0m                                 Traceback (most recent call last)",
      "Input \u001b[0;32mIn [43]\u001b[0m, in \u001b[0;36m<cell line: 1>\u001b[0;34m()\u001b[0m\n\u001b[0;32m----> 1\u001b[0m \u001b[43ms\u001b[49m\u001b[38;5;241;43m*\u001b[39;49m\u001b[38;5;241;43m2\u001b[39;49m\n",
      "\u001b[0;31mTypeError\u001b[0m: unsupported operand type(s) for *: 'set' and 'int'"
     ]
    }
   ],
   "source": [
    "# s*2"
   ]
  },
  {
   "cell_type": "code",
   "execution_count": 44,
   "id": "7d93fb82-9869-4957-b1e3-5cfe61876cc3",
   "metadata": {},
   "outputs": [
    {
     "data": {
      "text/plain": [
       "(8, 4, 5, 6)"
      ]
     },
     "execution_count": 44,
     "metadata": {},
     "output_type": "execute_result"
    }
   ],
   "source": [
    "tuple(s1)"
   ]
  },
  {
   "cell_type": "code",
   "execution_count": 45,
   "id": "25d063d3-becf-4741-972f-84e0276b427d",
   "metadata": {},
   "outputs": [
    {
     "data": {
      "text/plain": [
       "['mer', 'hasmukh', 45, 78]"
      ]
     },
     "execution_count": 45,
     "metadata": {},
     "output_type": "execute_result"
    }
   ],
   "source": [
    "list(s)"
   ]
  },
  {
   "cell_type": "code",
   "execution_count": null,
   "id": "691af3fc-be52-4d78-b41d-1083c3525094",
   "metadata": {},
   "outputs": [],
   "source": []
  }
 ],
 "metadata": {
  "kernelspec": {
   "display_name": "Python 3 (ipykernel)",
   "language": "python",
   "name": "python3"
  },
  "language_info": {
   "codemirror_mode": {
    "name": "ipython",
    "version": 3
   },
   "file_extension": ".py",
   "mimetype": "text/x-python",
   "name": "python",
   "nbconvert_exporter": "python",
   "pygments_lexer": "ipython3",
   "version": "3.9.12"
  }
 },
 "nbformat": 4,
 "nbformat_minor": 5
}
