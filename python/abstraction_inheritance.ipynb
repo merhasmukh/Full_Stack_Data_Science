{
 "cells": [
  {
   "cell_type": "code",
   "execution_count": 3,
   "id": "2adec746-87b5-467b-857f-68f2b55327fa",
   "metadata": {},
   "outputs": [],
   "source": [
    "class test:\n",
    "    def __init__(self,a,b,c,d):\n",
    "        self.a=a\n",
    "        self.b=b\n",
    "        self.c=c\n",
    "        self.d=d\n",
    "    def test_custom(self,v):\n",
    "        return v-self.a\n",
    "    \n",
    "    def __str__(self):\n",
    "        return \"this is my test code for abstraction\""
   ]
  },
  {
   "cell_type": "code",
   "execution_count": 4,
   "id": "963f3696-d98a-4c5a-913b-1e8e7ca2eece",
   "metadata": {},
   "outputs": [],
   "source": [
    "o=test(4,7,78,5)"
   ]
  },
  {
   "cell_type": "code",
   "execution_count": 7,
   "id": "61e647df-898a-468a-8d25-000954cd4e45",
   "metadata": {},
   "outputs": [
    {
     "data": {
      "text/plain": [
       "-1"
      ]
     },
     "execution_count": 7,
     "metadata": {},
     "output_type": "execute_result"
    }
   ],
   "source": [
    "o.test_custom(3)"
   ]
  },
  {
   "cell_type": "code",
   "execution_count": 8,
   "id": "83189d3c-7755-4e0c-a3c4-c530ecdbdc76",
   "metadata": {},
   "outputs": [
    {
     "name": "stdout",
     "output_type": "stream",
     "text": [
      "this is my test code for abstraction\n"
     ]
    }
   ],
   "source": [
    "print(o)"
   ]
  },
  {
   "cell_type": "code",
   "execution_count": 9,
   "id": "e356cad3-77b5-4e02-a333-236133710b02",
   "metadata": {},
   "outputs": [],
   "source": [
    "class test:\n",
    "    def __init__(self,a,b,c,d):\n",
    "        self._a=a #protected\n",
    "        self.b=b\n",
    "        self.c=c\n",
    "        self.d=d\n",
    "    def test_custom(self,v):\n",
    "        return v-self.a\n",
    "    \n",
    "    def __str__(self):\n",
    "        return \"this is my test code for abstraction\""
   ]
  },
  {
   "cell_type": "code",
   "execution_count": 10,
   "id": "aa3e8737-b263-457e-8e17-f9a8c9ce4a54",
   "metadata": {},
   "outputs": [],
   "source": [
    "o=test(4,6,7,8)"
   ]
  },
  {
   "cell_type": "code",
   "execution_count": 11,
   "id": "55f1437b-cac9-4574-bc27-57e5bb08064e",
   "metadata": {},
   "outputs": [
    {
     "ename": "AttributeError",
     "evalue": "'test' object has no attribute 'a'",
     "output_type": "error",
     "traceback": [
      "\u001b[0;31m---------------------------------------------------------------------------\u001b[0m",
      "\u001b[0;31mAttributeError\u001b[0m                            Traceback (most recent call last)",
      "Input \u001b[0;32mIn [11]\u001b[0m, in \u001b[0;36m<cell line: 1>\u001b[0;34m()\u001b[0m\n\u001b[0;32m----> 1\u001b[0m \u001b[43mo\u001b[49m\u001b[38;5;241;43m.\u001b[39;49m\u001b[43ma\u001b[49m\n",
      "\u001b[0;31mAttributeError\u001b[0m: 'test' object has no attribute 'a'"
     ]
    }
   ],
   "source": [
    "o.a"
   ]
  },
  {
   "cell_type": "code",
   "execution_count": 13,
   "id": "9b34ed4e-5520-4515-9746-eda6d3ee98ec",
   "metadata": {},
   "outputs": [
    {
     "ename": "AttributeError",
     "evalue": "'test' object has no attribute 'a'",
     "output_type": "error",
     "traceback": [
      "\u001b[0;31m---------------------------------------------------------------------------\u001b[0m",
      "\u001b[0;31mAttributeError\u001b[0m                            Traceback (most recent call last)",
      "Input \u001b[0;32mIn [13]\u001b[0m, in \u001b[0;36m<cell line: 1>\u001b[0;34m()\u001b[0m\n\u001b[0;32m----> 1\u001b[0m \u001b[43mo\u001b[49m\u001b[38;5;241;43m.\u001b[39;49m\u001b[43mtest_custom\u001b[49m\u001b[43m(\u001b[49m\u001b[38;5;241;43m3\u001b[39;49m\u001b[43m)\u001b[49m\n",
      "Input \u001b[0;32mIn [9]\u001b[0m, in \u001b[0;36mtest.test_custom\u001b[0;34m(self, v)\u001b[0m\n\u001b[1;32m      7\u001b[0m \u001b[38;5;28;01mdef\u001b[39;00m \u001b[38;5;21mtest_custom\u001b[39m(\u001b[38;5;28mself\u001b[39m,v):\n\u001b[0;32m----> 8\u001b[0m     \u001b[38;5;28;01mreturn\u001b[39;00m v\u001b[38;5;241m-\u001b[39m\u001b[38;5;28;43mself\u001b[39;49m\u001b[38;5;241;43m.\u001b[39;49m\u001b[43ma\u001b[49m\n",
      "\u001b[0;31mAttributeError\u001b[0m: 'test' object has no attribute 'a'"
     ]
    }
   ],
   "source": [
    "o.test_custom(3)"
   ]
  },
  {
   "cell_type": "code",
   "execution_count": 12,
   "id": "d68b7fc9-f6b4-4d5c-851b-910061878d87",
   "metadata": {},
   "outputs": [
    {
     "data": {
      "text/plain": [
       "4"
      ]
     },
     "execution_count": 12,
     "metadata": {},
     "output_type": "execute_result"
    }
   ],
   "source": [
    "o._a"
   ]
  },
  {
   "cell_type": "code",
   "execution_count": 14,
   "id": "00dedb7a-e480-401b-8751-1bd258624fa7",
   "metadata": {},
   "outputs": [],
   "source": [
    "class test:\n",
    "    def __init__(self,a,b,c,d):\n",
    "        self.__a=a #private\n",
    "        self.b=b\n",
    "        self.c=c\n",
    "        self.d=d\n",
    "    def test_custom(self,v):\n",
    "        return v-self.__a\n",
    "    \n",
    "    def __str__(self):\n",
    "        return \"this is my test code for abstraction\""
   ]
  },
  {
   "cell_type": "code",
   "execution_count": 15,
   "id": "d1cb08d5-5f70-46cd-b16b-73927565a4c0",
   "metadata": {},
   "outputs": [],
   "source": [
    "o=test(4,6,7,8)"
   ]
  },
  {
   "cell_type": "code",
   "execution_count": 16,
   "id": "d5231647-76c0-471a-bfd4-b30866cc0f2f",
   "metadata": {},
   "outputs": [
    {
     "data": {
      "text/plain": [
       "-1"
      ]
     },
     "execution_count": 16,
     "metadata": {},
     "output_type": "execute_result"
    }
   ],
   "source": [
    "o.test_custom(3)"
   ]
  },
  {
   "cell_type": "code",
   "execution_count": 17,
   "id": "8d48f46b-501e-4faf-83d3-1800a9a2502c",
   "metadata": {},
   "outputs": [
    {
     "ename": "AttributeError",
     "evalue": "'test' object has no attribute '__a'",
     "output_type": "error",
     "traceback": [
      "\u001b[0;31m---------------------------------------------------------------------------\u001b[0m",
      "\u001b[0;31mAttributeError\u001b[0m                            Traceback (most recent call last)",
      "Input \u001b[0;32mIn [17]\u001b[0m, in \u001b[0;36m<cell line: 1>\u001b[0;34m()\u001b[0m\n\u001b[0;32m----> 1\u001b[0m \u001b[43mo\u001b[49m\u001b[38;5;241;43m.\u001b[39;49m\u001b[43m__a\u001b[49m\n",
      "\u001b[0;31mAttributeError\u001b[0m: 'test' object has no attribute '__a'"
     ]
    }
   ],
   "source": [
    "o.__a"
   ]
  },
  {
   "cell_type": "code",
   "execution_count": 19,
   "id": "49f1e24c-62ce-4e00-831b-df95d42d120a",
   "metadata": {},
   "outputs": [
    {
     "data": {
      "text/plain": [
       "4"
      ]
     },
     "execution_count": 19,
     "metadata": {},
     "output_type": "execute_result"
    }
   ],
   "source": [
    "o._test__a"
   ]
  },
  {
   "cell_type": "code",
   "execution_count": 20,
   "id": "f8845ebd-e7a3-42e4-9161-2093be2ba23d",
   "metadata": {},
   "outputs": [],
   "source": [
    "class test1(test):\n",
    "    def __init__(self,j,*args):\n",
    "        super(test1,self).__init__(*args)\n",
    "        self.j=j\n",
    "        "
   ]
  },
  {
   "cell_type": "code",
   "execution_count": 22,
   "id": "e1b1e758-54ad-4658-abbb-a2fbad97189d",
   "metadata": {},
   "outputs": [],
   "source": [
    "m=test1(4,9,0,8,8)"
   ]
  },
  {
   "cell_type": "code",
   "execution_count": 23,
   "id": "2689657e-c203-4efd-a0c7-eff4f02da566",
   "metadata": {},
   "outputs": [
    {
     "data": {
      "text/plain": [
       "4"
      ]
     },
     "execution_count": 23,
     "metadata": {},
     "output_type": "execute_result"
    }
   ],
   "source": [
    "m.j"
   ]
  },
  {
   "cell_type": "code",
   "execution_count": 27,
   "id": "df65d3c4-6836-44c0-8c7d-1076b5632be5",
   "metadata": {},
   "outputs": [
    {
     "data": {
      "text/plain": [
       "9"
      ]
     },
     "execution_count": 27,
     "metadata": {},
     "output_type": "execute_result"
    }
   ],
   "source": [
    "m._test__a"
   ]
  },
  {
   "cell_type": "code",
   "execution_count": 12,
   "id": "80a4bf61-99df-4107-9e1f-1e69a32be006",
   "metadata": {},
   "outputs": [],
   "source": [
    "class Ineuron:\n",
    "    company_website=\"https://ineuron.ai/\"\n",
    "    name=\"iNeuron\"\n",
    "    def contact_details(self):\n",
    "        print(\"please contact us\",self.company_website)\n",
    "        \n",
    "        \n",
    "        \n",
    "class Datascience(Ineuron):\n",
    "    def __init__(self):\n",
    "        self.year_enstablishement=2018\n",
    "        \n",
    "    def est_details(self):\n",
    "        print(\"{0} company was instablished in {1}\".format(self.name,self.year_enstablishement))\n",
    "    "
   ]
  },
  {
   "cell_type": "code",
   "execution_count": 13,
   "id": "93dfb47b-a8df-4ebb-ae18-921618b1bb37",
   "metadata": {},
   "outputs": [
    {
     "name": "stdout",
     "output_type": "stream",
     "text": [
      "iNeuron company was instablished in 2018\n"
     ]
    }
   ],
   "source": [
    "ds=Datascience()\n",
    "\n",
    "ds.est_details()"
   ]
  },
  {
   "cell_type": "code",
   "execution_count": 16,
   "id": "09bd8bc2-5e7a-4c99-b257-8b0af74dd5b8",
   "metadata": {},
   "outputs": [
    {
     "name": "stdout",
     "output_type": "stream",
     "text": [
      "multi_task\n",
      "Name: iNeuron\n"
     ]
    }
   ],
   "source": [
    "class OS:\n",
    "    multi_task=True\n",
    "    os_name='Windows OS'\n",
    "    \n",
    "    \n",
    "class windows(OS,Ineuron):\n",
    "    def __init__(self):\n",
    "        if self.multi_task is True:\n",
    "            print(\"multi_task\")\n",
    "        print(\"Name: {}\".format(self.name))\n",
    "        \n",
    "windows=windows()"
   ]
  },
  {
   "cell_type": "code",
   "execution_count": 17,
   "id": "9b62ea43-0396-45ca-87e1-68e373f438ba",
   "metadata": {},
   "outputs": [
    {
     "name": "stdout",
     "output_type": "stream",
     "text": [
      "multi_task\n",
      "Name: hasmukh\n"
     ]
    }
   ],
   "source": [
    "class OS:\n",
    "    multi_task=True\n",
    "    os_name='Windows OS'\n",
    "    name=\"hasmukh\"\n",
    "    \n",
    "    \n",
    "class windows(OS,Ineuron):\n",
    "    def __init__(self):\n",
    "        if self.multi_task is True:\n",
    "            print(\"multi_task\")\n",
    "        print(\"Name: {}\".format(self.name))\n",
    "        \n",
    "windows=windows()"
   ]
  },
  {
   "cell_type": "code",
   "execution_count": 24,
   "id": "36c55de0-8869-418d-a5af-b00fd9a9cc6c",
   "metadata": {},
   "outputs": [
    {
     "name": "stdout",
     "output_type": "stream",
     "text": [
      "multi_task\n",
      "Name: iNeuron\n"
     ]
    }
   ],
   "source": [
    "#Multiple Inheritance\n",
    "\n",
    "\n",
    "\n",
    "class windows(Ineuron,OS):\n",
    "    def __init__(self):\n",
    "        if self.multi_task is True:\n",
    "            print(\"multi_task\")\n",
    "        print(\"Name: {}\".format(self.name))\n",
    "        \n",
    "windows=windows()"
   ]
  },
  {
   "cell_type": "code",
   "execution_count": 25,
   "id": "df6f748c-3853-4623-8ab7-fd55cd44e520",
   "metadata": {},
   "outputs": [],
   "source": [
    "#multilevel Inheritance\n",
    "\n",
    "class iNeuron:\n",
    "    num_of_courses=12\n",
    "    \n",
    "class Datascience(iNeuron):\n",
    "    course_type=\"Data-Science\"\n",
    "\n",
    "class AI(Datascience):\n",
    "    def __init__(self):\n",
    "        self.company=\"iNeuron\"\n",
    "        print(\"Tha company {0} offers total {1} different types of course  most trending course is {2}\".format(self.company,self.num_of_courses,self.course_type))"
   ]
  },
  {
   "cell_type": "code",
   "execution_count": 26,
   "id": "d8e08942-325d-49ad-931d-1093cd572fed",
   "metadata": {},
   "outputs": [
    {
     "name": "stdout",
     "output_type": "stream",
     "text": [
      "Tha company iNeuron offers total 12 different types of course  most trending course is Data-Science\n"
     ]
    }
   ],
   "source": [
    "ai=AI()"
   ]
  },
  {
   "cell_type": "code",
   "execution_count": null,
   "id": "f51f11b4-027b-4b35-b32d-a815d660d6c3",
   "metadata": {},
   "outputs": [],
   "source": []
  },
  {
   "cell_type": "code",
   "execution_count": 27,
   "id": "ca60ea0b-20c4-49cf-acdb-2fd16a93bba6",
   "metadata": {},
   "outputs": [],
   "source": [
    "#Encapsulation"
   ]
  },
  {
   "cell_type": "code",
   "execution_count": 29,
   "id": "1c806b82-c3fe-479c-a3c6-0dd98e773442",
   "metadata": {},
   "outputs": [],
   "source": [
    "class test:\n",
    "    def __init__(self,a,b,c):\n",
    "        self.a=a\n",
    "        self.b=b\n",
    "        self.c=c\n",
    "        \n",
    "    def __str__(self):\n",
    "        return \"this is  the return form my test class\"\n",
    "    \n",
    "    \n",
    "    \n",
    "class test1:\n",
    "    def __init__(self,a,b,c):\n",
    "        self.a=a\n",
    "        self.b=b\n",
    "        self.c=c\n",
    "        \n",
    "    def __str__(self):\n",
    "        return \"this is  the return form my test1 class\"\n",
    "    \n",
    "    \n",
    "class test2:\n",
    "    def __init__(self,a,b,c):\n",
    "        self.a=a\n",
    "        self.b=b\n",
    "        self.c=c\n",
    "        \n",
    "    def __str__(self):\n",
    "        return \"this is  the return form my test2 class\"\n",
    "    \n",
    "class final:\n",
    "    def __init__(self,x,y,z):\n",
    "        self.x=x\n",
    "        self.y=y\n",
    "        self.z=z\n",
    "        \n",
    "    def __str__(self):\n",
    "        return str(self.x)+\"\\n\"+str(self.y)+\"\\n\"+str(self.z)"
   ]
  },
  {
   "cell_type": "code",
   "execution_count": 30,
   "id": "492a3e96-1dd4-4777-ae90-624056348a4c",
   "metadata": {},
   "outputs": [],
   "source": [
    "t=test(4,5,6)\n",
    "t1=test1(7,8,9)\n",
    "t2=test2(10,4,5)"
   ]
  },
  {
   "cell_type": "code",
   "execution_count": 32,
   "id": "6685601d-a7a8-4c79-b016-f6f8fd5c8d1c",
   "metadata": {},
   "outputs": [],
   "source": [
    "f=final(t,t1,t2)"
   ]
  },
  {
   "cell_type": "code",
   "execution_count": 34,
   "id": "6a0e7825-dd03-4c7b-a475-9af145ccb0ef",
   "metadata": {},
   "outputs": [
    {
     "name": "stdout",
     "output_type": "stream",
     "text": [
      "this is  the return form my test class\n",
      "this is  the return form my test1 class\n",
      "this is  the return form my test2 class\n"
     ]
    }
   ],
   "source": [
    "print(f)"
   ]
  },
  {
   "cell_type": "code",
   "execution_count": null,
   "id": "df8c4c4c-23a8-4f85-88bc-a9617e31fc5e",
   "metadata": {},
   "outputs": [],
   "source": []
  }
 ],
 "metadata": {
  "kernelspec": {
   "display_name": "Python 3 (ipykernel)",
   "language": "python",
   "name": "python3"
  },
  "language_info": {
   "codemirror_mode": {
    "name": "ipython",
    "version": 3
   },
   "file_extension": ".py",
   "mimetype": "text/x-python",
   "name": "python",
   "nbconvert_exporter": "python",
   "pygments_lexer": "ipython3",
   "version": "3.9.12"
  }
 },
 "nbformat": 4,
 "nbformat_minor": 5
}
