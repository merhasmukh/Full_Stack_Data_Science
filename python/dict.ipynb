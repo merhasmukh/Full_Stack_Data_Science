{
 "cells": [
  {
   "cell_type": "code",
   "execution_count": 1,
   "id": "7b0d5162-ece9-44e5-b39e-abeb3bb617b5",
   "metadata": {},
   "outputs": [],
   "source": [
    "x={}"
   ]
  },
  {
   "cell_type": "code",
   "execution_count": 2,
   "id": "3952755a-19e0-4aca-9d69-015cb9cce114",
   "metadata": {},
   "outputs": [
    {
     "data": {
      "text/plain": [
       "dict"
      ]
     },
     "execution_count": 2,
     "metadata": {},
     "output_type": "execute_result"
    }
   ],
   "source": [
    "type(x)"
   ]
  },
  {
   "cell_type": "code",
   "execution_count": 3,
   "id": "a71b0115-754e-4cde-a97a-e8ef82cebd6f",
   "metadata": {},
   "outputs": [],
   "source": [
    "x1={45}"
   ]
  },
  {
   "cell_type": "code",
   "execution_count": 4,
   "id": "0c34badd-02c3-413c-a675-e54d488bc6de",
   "metadata": {},
   "outputs": [
    {
     "data": {
      "text/plain": [
       "set"
      ]
     },
     "execution_count": 4,
     "metadata": {},
     "output_type": "execute_result"
    }
   ],
   "source": [
    "type(x1)"
   ]
  },
  {
   "cell_type": "code",
   "execution_count": 5,
   "id": "2bfdaa1f-4b21-4630-b44d-aee7d09faf74",
   "metadata": {},
   "outputs": [
    {
     "data": {
      "text/plain": [
       "dict"
      ]
     },
     "execution_count": 5,
     "metadata": {},
     "output_type": "execute_result"
    }
   ],
   "source": [
    "d={\"name\":\"hasmukh\",\"age\":308}\n",
    "type(d)"
   ]
  },
  {
   "cell_type": "code",
   "execution_count": 6,
   "id": "61e39a5c-f2a4-435e-aa9b-5af7dfb4f1dd",
   "metadata": {},
   "outputs": [
    {
     "data": {
      "text/plain": [
       "{'name': 'hasmukh mer', 'age': 56, True: 'hasmukh', 45: 'yes'}"
      ]
     },
     "execution_count": 6,
     "metadata": {},
     "output_type": "execute_result"
    }
   ],
   "source": [
    "d1={\"name\":\"hasmukh\",\"age\":56,\"name\":\"hasmukh mer\",True:\"hasmukh\",45:\"yes\"}\n",
    "d1"
   ]
  },
  {
   "cell_type": "code",
   "execution_count": 7,
   "id": "22a7a59c-a358-4a37-8be5-c8d5c1a8f7de",
   "metadata": {},
   "outputs": [
    {
     "data": {
      "text/plain": [
       "{'name': {'n1': 'hasmukh', 'n2': 'mer'},\n",
       " 'age': 56,\n",
       " True: 'hasmukh',\n",
       " 45: 'yes',\n",
       " 'marks': [67, 76, 78],\n",
       " 'sub': {'english', 'math', 'science'}}"
      ]
     },
     "execution_count": 7,
     "metadata": {},
     "output_type": "execute_result"
    }
   ],
   "source": [
    "d1={\"name\":{\"n1\":\"hasmukh\",\"n2\":\"mer\"},\"age\":56\n",
    "    ,True:\"hasmukh\",45:\"yes\",\"marks\":[67,76,78],\"sub\":{\"math\",\"english\",\"science\"}}\n",
    "d1"
   ]
  },
  {
   "cell_type": "code",
   "execution_count": 8,
   "id": "fcc5a686-af99-4c84-87cb-36d33b78c45c",
   "metadata": {},
   "outputs": [
    {
     "data": {
      "text/plain": [
       "{'n1': 'hasmukh', 'n2': 'mer'}"
      ]
     },
     "execution_count": 8,
     "metadata": {},
     "output_type": "execute_result"
    }
   ],
   "source": [
    "d1['name']"
   ]
  },
  {
   "cell_type": "code",
   "execution_count": 9,
   "id": "25ef2d1c-d282-43b2-8185-66aff011b658",
   "metadata": {},
   "outputs": [
    {
     "data": {
      "text/plain": [
       "76"
      ]
     },
     "execution_count": 9,
     "metadata": {},
     "output_type": "execute_result"
    }
   ],
   "source": [
    "d1['marks'][1]"
   ]
  },
  {
   "cell_type": "code",
   "execution_count": 10,
   "id": "e1e17546-0e48-4110-871f-eabf4307c889",
   "metadata": {},
   "outputs": [
    {
     "data": {
      "text/plain": [
       "'mer'"
      ]
     },
     "execution_count": 10,
     "metadata": {},
     "output_type": "execute_result"
    }
   ],
   "source": [
    "d1['name']['n2']"
   ]
  },
  {
   "cell_type": "code",
   "execution_count": 11,
   "id": "18dee867-b4c1-4125-be5d-47448cafaa96",
   "metadata": {},
   "outputs": [
    {
     "data": {
      "text/plain": [
       "{'name': 'hasmukh', 'age': 308}"
      ]
     },
     "execution_count": 11,
     "metadata": {},
     "output_type": "execute_result"
    }
   ],
   "source": [
    "d"
   ]
  },
  {
   "cell_type": "code",
   "execution_count": 12,
   "id": "18391d69-5817-465a-9385-8e51f2a13889",
   "metadata": {},
   "outputs": [
    {
     "data": {
      "text/plain": [
       "{'name': {'n1': 'hasmukh', 'n2': 'mer'},\n",
       " 'age': 56,\n",
       " True: 'hasmukh',\n",
       " 45: 'yes',\n",
       " 'marks': [67, 76, 78],\n",
       " 'sub': {'english', 'math', 'science'}}"
      ]
     },
     "execution_count": 12,
     "metadata": {},
     "output_type": "execute_result"
    }
   ],
   "source": [
    "d1"
   ]
  },
  {
   "cell_type": "code",
   "execution_count": 14,
   "id": "5978f34b-7670-4064-aeb0-36643f1ed999",
   "metadata": {},
   "outputs": [],
   "source": [
    "# d + d1"
   ]
  },
  {
   "cell_type": "code",
   "execution_count": 15,
   "id": "42dc174e-3c56-4dca-b8cf-5970c546f1a9",
   "metadata": {},
   "outputs": [],
   "source": [
    "# d *2"
   ]
  },
  {
   "cell_type": "code",
   "execution_count": 16,
   "id": "8c9ae294-c7fd-49a9-856c-e5ffcc6563f3",
   "metadata": {},
   "outputs": [
    {
     "data": {
      "text/plain": [
       "{'name': 'hasmukh', 'age': 308}"
      ]
     },
     "execution_count": 16,
     "metadata": {},
     "output_type": "execute_result"
    }
   ],
   "source": [
    "d"
   ]
  },
  {
   "cell_type": "code",
   "execution_count": 18,
   "id": "cdf063a1-7475-471c-93f0-b35ce477af6f",
   "metadata": {},
   "outputs": [],
   "source": [
    "d['age']=25"
   ]
  },
  {
   "cell_type": "code",
   "execution_count": 19,
   "id": "89062269-aac1-4c3a-b9d7-7e06f9d79d91",
   "metadata": {},
   "outputs": [
    {
     "data": {
      "text/plain": [
       "{'name': 'hasmukh', 'age': 25}"
      ]
     },
     "execution_count": 19,
     "metadata": {},
     "output_type": "execute_result"
    }
   ],
   "source": [
    "d"
   ]
  },
  {
   "cell_type": "code",
   "execution_count": 20,
   "id": "0e84d588-56e7-4911-9bd9-e219ee9fbe7f",
   "metadata": {},
   "outputs": [
    {
     "data": {
      "text/plain": [
       "dict_keys(['name', 'age', True, 45, 'marks', 'sub'])"
      ]
     },
     "execution_count": 20,
     "metadata": {},
     "output_type": "execute_result"
    }
   ],
   "source": [
    "d1.keys()"
   ]
  },
  {
   "cell_type": "code",
   "execution_count": 21,
   "id": "f3dbda86-0602-47df-8bea-f97d656d504a",
   "metadata": {},
   "outputs": [
    {
     "data": {
      "text/plain": [
       "True"
      ]
     },
     "execution_count": 21,
     "metadata": {},
     "output_type": "execute_result"
    }
   ],
   "source": [
    "'name' in d1.keys()"
   ]
  },
  {
   "cell_type": "code",
   "execution_count": 22,
   "id": "40a63034-a11c-4ad2-9916-16fcf5f508fa",
   "metadata": {},
   "outputs": [
    {
     "name": "stdout",
     "output_type": "stream",
     "text": [
      "name\n",
      "age\n",
      "True\n",
      "45\n",
      "marks\n",
      "sub\n"
     ]
    }
   ],
   "source": [
    "for i in d1:\n",
    "    print(i)"
   ]
  },
  {
   "cell_type": "code",
   "execution_count": 23,
   "id": "df7a9a4b-6842-4d41-86a1-2c0a4652a113",
   "metadata": {},
   "outputs": [
    {
     "name": "stdout",
     "output_type": "stream",
     "text": [
      "{'n1': 'hasmukh', 'n2': 'mer'}\n",
      "56\n",
      "hasmukh\n",
      "yes\n",
      "[67, 76, 78]\n",
      "{'science', 'math', 'english'}\n"
     ]
    }
   ],
   "source": [
    "for i in d1:\n",
    "    print(d1[i])"
   ]
  },
  {
   "cell_type": "code",
   "execution_count": 24,
   "id": "a6914114-2018-4d8a-8bb1-510b08d03351",
   "metadata": {},
   "outputs": [
    {
     "name": "stdout",
     "output_type": "stream",
     "text": [
      "<class 'dict'>\n",
      "<class 'int'>\n",
      "<class 'str'>\n",
      "<class 'str'>\n",
      "<class 'list'>\n",
      "<class 'set'>\n"
     ]
    }
   ],
   "source": [
    "for i in d1:\n",
    "    print(type(d1[i]))"
   ]
  },
  {
   "cell_type": "code",
   "execution_count": 25,
   "id": "eeab52ef-5152-485d-83e0-c04eee5c7369",
   "metadata": {},
   "outputs": [
    {
     "data": {
      "text/plain": [
       "dict_items([('name', {'n1': 'hasmukh', 'n2': 'mer'}), ('age', 56), (True, 'hasmukh'), (45, 'yes'), ('marks', [67, 76, 78]), ('sub', {'science', 'math', 'english'})])"
      ]
     },
     "execution_count": 25,
     "metadata": {},
     "output_type": "execute_result"
    }
   ],
   "source": [
    "d1.items()"
   ]
  },
  {
   "cell_type": "code",
   "execution_count": 26,
   "id": "fa1730c1-4701-45b2-8891-80c5958d3494",
   "metadata": {},
   "outputs": [
    {
     "name": "stdout",
     "output_type": "stream",
     "text": [
      "('name', {'n1': 'hasmukh', 'n2': 'mer'})\n",
      "('age', 56)\n",
      "(True, 'hasmukh')\n",
      "(45, 'yes')\n",
      "('marks', [67, 76, 78])\n",
      "('sub', {'science', 'math', 'english'})\n"
     ]
    }
   ],
   "source": [
    "for i in d1.items():\n",
    "    print(i)"
   ]
  },
  {
   "cell_type": "code",
   "execution_count": 27,
   "id": "699f0abe-fe9d-49b8-84dc-f675120984da",
   "metadata": {},
   "outputs": [
    {
     "name": "stdout",
     "output_type": "stream",
     "text": [
      "name\n",
      "age\n",
      "True\n",
      "45\n",
      "marks\n",
      "sub\n"
     ]
    }
   ],
   "source": [
    "for i in d1.items():\n",
    "    print(i[0])# keys"
   ]
  },
  {
   "cell_type": "code",
   "execution_count": 28,
   "id": "f4db05b2-6afd-4be6-acbc-97a9dd74dc47",
   "metadata": {},
   "outputs": [
    {
     "name": "stdout",
     "output_type": "stream",
     "text": [
      "{'n1': 'hasmukh', 'n2': 'mer'}\n",
      "56\n",
      "hasmukh\n",
      "yes\n",
      "[67, 76, 78]\n",
      "{'science', 'math', 'english'}\n"
     ]
    }
   ],
   "source": [
    "for i in d1.items():\n",
    "    print(i[1])#values"
   ]
  },
  {
   "cell_type": "code",
   "execution_count": 29,
   "id": "b7c07805-af0d-4bbd-85a1-51dbc464bcc8",
   "metadata": {},
   "outputs": [
    {
     "data": {
      "text/plain": [
       "6"
      ]
     },
     "execution_count": 29,
     "metadata": {},
     "output_type": "execute_result"
    }
   ],
   "source": [
    "len(d1)"
   ]
  },
  {
   "cell_type": "markdown",
   "id": "2b430bc1",
   "metadata": {},
   "source": [
    "Task:\n",
    "\n",
    "(1) take input as a paragraph by using input function\n",
    "(2) convert all of this input into list\n",
    "(3) remove all the duplicate elementes from your list\n",
    "(4) use above distinct elements as a key for dictionary and assign your name as value to all the keys for dictionary\n",
    "(5) try to print type of all the values of dictionary\n",
    "(6) try to print list of all the keys"
   ]
  },
  {
   "cell_type": "code",
   "execution_count": 30,
   "id": "2573a6fd-3d20-4adc-b81f-1c7d59c198eb",
   "metadata": {},
   "outputs": [],
   "source": [
    "# Task 1\n",
    "paragraph=input(\"enter your paragraph\")"
   ]
  },
  {
   "cell_type": "code",
   "execution_count": 31,
   "id": "9f5b57e4",
   "metadata": {},
   "outputs": [
    {
     "data": {
      "text/plain": [
       "\"Earth is the third planet from the Sun and the only astronomical object known to harbor life. While large volumes of water can be found throughout the Solar System, only Earth sustains liquid surface water. About 71% of Earth's surface is made up of the ocean, dwarfing Earth's polar ice, lakes, and rivers. The remaining 29% of Earth's surface is land, consisting of continents and islands. Earth's surface layer is formed of several slowly moving tectonic plates, interacting to produce mountain ranges, volcanoes, and earthquakes. Earth's liquid outer core generates the magnetic field that shapes Earth's magnetosphere, deflecting destructive solar winds.\""
      ]
     },
     "execution_count": 31,
     "metadata": {},
     "output_type": "execute_result"
    }
   ],
   "source": [
    "paragraph"
   ]
  },
  {
   "cell_type": "code",
   "execution_count": 32,
   "id": "6050acd1",
   "metadata": {},
   "outputs": [
    {
     "data": {
      "text/plain": [
       "['Earth',\n",
       " 'is',\n",
       " 'the',\n",
       " 'third',\n",
       " 'planet',\n",
       " 'from',\n",
       " 'the',\n",
       " 'Sun',\n",
       " 'and',\n",
       " 'the',\n",
       " 'only',\n",
       " 'astronomical',\n",
       " 'object',\n",
       " 'known',\n",
       " 'to',\n",
       " 'harbor',\n",
       " 'life.',\n",
       " 'While',\n",
       " 'large',\n",
       " 'volumes',\n",
       " 'of',\n",
       " 'water',\n",
       " 'can',\n",
       " 'be',\n",
       " 'found',\n",
       " 'throughout',\n",
       " 'the',\n",
       " 'Solar',\n",
       " 'System,',\n",
       " 'only',\n",
       " 'Earth',\n",
       " 'sustains',\n",
       " 'liquid',\n",
       " 'surface',\n",
       " 'water.',\n",
       " 'About',\n",
       " '71%',\n",
       " 'of',\n",
       " \"Earth's\",\n",
       " 'surface',\n",
       " 'is',\n",
       " 'made',\n",
       " 'up',\n",
       " 'of',\n",
       " 'the',\n",
       " 'ocean,',\n",
       " 'dwarfing',\n",
       " \"Earth's\",\n",
       " 'polar',\n",
       " 'ice,',\n",
       " 'lakes,',\n",
       " 'and',\n",
       " 'rivers.',\n",
       " 'The',\n",
       " 'remaining',\n",
       " '29%',\n",
       " 'of',\n",
       " \"Earth's\",\n",
       " 'surface',\n",
       " 'is',\n",
       " 'land,',\n",
       " 'consisting',\n",
       " 'of',\n",
       " 'continents',\n",
       " 'and',\n",
       " 'islands.',\n",
       " \"Earth's\",\n",
       " 'surface',\n",
       " 'layer',\n",
       " 'is',\n",
       " 'formed',\n",
       " 'of',\n",
       " 'several',\n",
       " 'slowly',\n",
       " 'moving',\n",
       " 'tectonic',\n",
       " 'plates,',\n",
       " 'interacting',\n",
       " 'to',\n",
       " 'produce',\n",
       " 'mountain',\n",
       " 'ranges,',\n",
       " 'volcanoes,',\n",
       " 'and',\n",
       " 'earthquakes.',\n",
       " \"Earth's\",\n",
       " 'liquid',\n",
       " 'outer',\n",
       " 'core',\n",
       " 'generates',\n",
       " 'the',\n",
       " 'magnetic',\n",
       " 'field',\n",
       " 'that',\n",
       " 'shapes',\n",
       " \"Earth's\",\n",
       " 'magnetosphere,',\n",
       " 'deflecting',\n",
       " 'destructive',\n",
       " 'solar',\n",
       " 'winds.']"
      ]
     },
     "execution_count": 32,
     "metadata": {},
     "output_type": "execute_result"
    }
   ],
   "source": [
    "# Task 2\n",
    "para_list=paragraph.split()\n",
    "para_list"
   ]
  },
  {
   "cell_type": "code",
   "execution_count": 33,
   "id": "4a2dd4c2",
   "metadata": {},
   "outputs": [
    {
     "data": {
      "text/plain": [
       "['sustains',\n",
       " 'can',\n",
       " 'only',\n",
       " 'known',\n",
       " 'earthquakes.',\n",
       " 'moving',\n",
       " 'object',\n",
       " 'polar',\n",
       " 'slowly',\n",
       " 'from',\n",
       " 'interacting',\n",
       " 'water.',\n",
       " 'consisting',\n",
       " 'tectonic',\n",
       " 'life.',\n",
       " 'water',\n",
       " 'volcanoes,',\n",
       " 'deflecting',\n",
       " 'field',\n",
       " 'liquid',\n",
       " 'throughout',\n",
       " 'rivers.',\n",
       " 'the',\n",
       " 'Solar',\n",
       " 'While',\n",
       " 'volumes',\n",
       " '71%',\n",
       " '29%',\n",
       " 'land,',\n",
       " 'is',\n",
       " 'formed',\n",
       " 'found',\n",
       " 'that',\n",
       " 'harbor',\n",
       " 'Sun',\n",
       " \"Earth's\",\n",
       " 'Earth',\n",
       " 'The',\n",
       " 'several',\n",
       " 'plates,',\n",
       " 'ranges,',\n",
       " 'shapes',\n",
       " 'and',\n",
       " 'large',\n",
       " 'up',\n",
       " 'islands.',\n",
       " 'destructive',\n",
       " 'produce',\n",
       " 'winds.',\n",
       " 'ocean,',\n",
       " 'dwarfing',\n",
       " 'remaining',\n",
       " 'magnetosphere,',\n",
       " 'be',\n",
       " 'layer',\n",
       " 'made',\n",
       " 'outer',\n",
       " 'surface',\n",
       " 'generates',\n",
       " 'About',\n",
       " 'solar',\n",
       " 'to',\n",
       " 'of',\n",
       " 'third',\n",
       " 'continents',\n",
       " 'System,',\n",
       " 'astronomical',\n",
       " 'core',\n",
       " 'magnetic',\n",
       " 'lakes,',\n",
       " 'ice,',\n",
       " 'mountain',\n",
       " 'planet']"
      ]
     },
     "execution_count": 33,
     "metadata": {},
     "output_type": "execute_result"
    }
   ],
   "source": [
    "#Task 3\n",
    "uni_para_list=list(set(para_list))\n",
    "uni_para_list"
   ]
  },
  {
   "cell_type": "code",
   "execution_count": 34,
   "id": "51c68b24",
   "metadata": {},
   "outputs": [
    {
     "data": {
      "text/plain": [
       "(101, 73)"
      ]
     },
     "execution_count": 34,
     "metadata": {},
     "output_type": "execute_result"
    }
   ],
   "source": [
    "len(para_list),len(uni_para_list)"
   ]
  },
  {
   "cell_type": "code",
   "execution_count": 38,
   "id": "bda37048",
   "metadata": {},
   "outputs": [],
   "source": [
    "#Task 4\n",
    "d1=dict()\n",
    "for i in uni_para_list:\n",
    "    d1[i]=\"hasmukh\"\n",
    "d1"
   ]
  },
  {
   "cell_type": "code",
   "execution_count": 41,
   "id": "761c75e8",
   "metadata": {},
   "outputs": [
    {
     "name": "stdout",
     "output_type": "stream",
     "text": [
      "<class 'str'>\n",
      "<class 'str'>\n",
      "<class 'str'>\n",
      "<class 'str'>\n",
      "<class 'str'>\n",
      "<class 'str'>\n",
      "<class 'str'>\n",
      "<class 'str'>\n",
      "<class 'str'>\n",
      "<class 'str'>\n",
      "<class 'str'>\n",
      "<class 'str'>\n",
      "<class 'str'>\n",
      "<class 'str'>\n",
      "<class 'str'>\n",
      "<class 'str'>\n",
      "<class 'str'>\n",
      "<class 'str'>\n",
      "<class 'str'>\n",
      "<class 'str'>\n",
      "<class 'str'>\n",
      "<class 'str'>\n",
      "<class 'str'>\n",
      "<class 'str'>\n",
      "<class 'str'>\n",
      "<class 'str'>\n",
      "<class 'str'>\n",
      "<class 'str'>\n",
      "<class 'str'>\n",
      "<class 'str'>\n",
      "<class 'str'>\n",
      "<class 'str'>\n",
      "<class 'str'>\n",
      "<class 'str'>\n",
      "<class 'str'>\n",
      "<class 'str'>\n",
      "<class 'str'>\n",
      "<class 'str'>\n",
      "<class 'str'>\n",
      "<class 'str'>\n",
      "<class 'str'>\n",
      "<class 'str'>\n",
      "<class 'str'>\n",
      "<class 'str'>\n",
      "<class 'str'>\n",
      "<class 'str'>\n",
      "<class 'str'>\n",
      "<class 'str'>\n",
      "<class 'str'>\n",
      "<class 'str'>\n",
      "<class 'str'>\n",
      "<class 'str'>\n",
      "<class 'str'>\n",
      "<class 'str'>\n",
      "<class 'str'>\n",
      "<class 'str'>\n",
      "<class 'str'>\n",
      "<class 'str'>\n",
      "<class 'str'>\n",
      "<class 'str'>\n",
      "<class 'str'>\n",
      "<class 'str'>\n",
      "<class 'str'>\n",
      "<class 'str'>\n",
      "<class 'str'>\n",
      "<class 'str'>\n",
      "<class 'str'>\n",
      "<class 'str'>\n",
      "<class 'str'>\n",
      "<class 'str'>\n",
      "<class 'str'>\n",
      "<class 'str'>\n",
      "<class 'str'>\n"
     ]
    }
   ],
   "source": [
    "#Task 5\n",
    "for i in d1.keys():\n",
    "    print(type(i))"
   ]
  },
  {
   "cell_type": "code",
   "execution_count": 42,
   "id": "7ad4d7cc",
   "metadata": {},
   "outputs": [
    {
     "data": {
      "text/plain": [
       "['sustains',\n",
       " 'can',\n",
       " 'only',\n",
       " 'known',\n",
       " 'earthquakes.',\n",
       " 'moving',\n",
       " 'object',\n",
       " 'polar',\n",
       " 'slowly',\n",
       " 'from',\n",
       " 'interacting',\n",
       " 'water.',\n",
       " 'consisting',\n",
       " 'tectonic',\n",
       " 'life.',\n",
       " 'water',\n",
       " 'volcanoes,',\n",
       " 'deflecting',\n",
       " 'field',\n",
       " 'liquid',\n",
       " 'throughout',\n",
       " 'rivers.',\n",
       " 'the',\n",
       " 'Solar',\n",
       " 'While',\n",
       " 'volumes',\n",
       " '71%',\n",
       " '29%',\n",
       " 'land,',\n",
       " 'is',\n",
       " 'formed',\n",
       " 'found',\n",
       " 'that',\n",
       " 'harbor',\n",
       " 'Sun',\n",
       " \"Earth's\",\n",
       " 'Earth',\n",
       " 'The',\n",
       " 'several',\n",
       " 'plates,',\n",
       " 'ranges,',\n",
       " 'shapes',\n",
       " 'and',\n",
       " 'large',\n",
       " 'up',\n",
       " 'islands.',\n",
       " 'destructive',\n",
       " 'produce',\n",
       " 'winds.',\n",
       " 'ocean,',\n",
       " 'dwarfing',\n",
       " 'remaining',\n",
       " 'magnetosphere,',\n",
       " 'be',\n",
       " 'layer',\n",
       " 'made',\n",
       " 'outer',\n",
       " 'surface',\n",
       " 'generates',\n",
       " 'About',\n",
       " 'solar',\n",
       " 'to',\n",
       " 'of',\n",
       " 'third',\n",
       " 'continents',\n",
       " 'System,',\n",
       " 'astronomical',\n",
       " 'core',\n",
       " 'magnetic',\n",
       " 'lakes,',\n",
       " 'ice,',\n",
       " 'mountain',\n",
       " 'planet']"
      ]
     },
     "execution_count": 42,
     "metadata": {},
     "output_type": "execute_result"
    }
   ],
   "source": [
    "#Task 6\n",
    "\n",
    "list(d1.keys())"
   ]
  },
  {
   "cell_type": "code",
   "execution_count": 43,
   "id": "46003a23",
   "metadata": {},
   "outputs": [
    {
     "data": {
      "text/plain": [
       "{0: 0, 1: 1, 2: 4, 3: 9, 4: 16, 5: 25, 6: 36, 7: 49, 8: 64, 9: 81}"
      ]
     },
     "execution_count": 43,
     "metadata": {},
     "output_type": "execute_result"
    }
   ],
   "source": [
    "my_dict={}\n",
    "\n",
    "for i in range(10):\n",
    "    my_dict[i]=i*i\n",
    "\n",
    "\n",
    "my_dict"
   ]
  },
  {
   "cell_type": "code",
   "execution_count": 44,
   "id": "7641659b",
   "metadata": {},
   "outputs": [
    {
     "data": {
      "text/plain": [
       "{0: 0, 1: 1, 2: 4, 3: 9, 4: 16, 5: 25, 6: 36, 7: 49, 8: 64, 9: 81}"
      ]
     },
     "execution_count": 44,
     "metadata": {},
     "output_type": "execute_result"
    }
   ],
   "source": [
    "{i:i*i for i in range(10)}"
   ]
  },
  {
   "cell_type": "code",
   "execution_count": null,
   "id": "bd04f72d",
   "metadata": {},
   "outputs": [],
   "source": []
  }
 ],
 "metadata": {
  "kernelspec": {
   "display_name": "Python 3.8.10 64-bit",
   "language": "python",
   "name": "python3"
  },
  "language_info": {
   "codemirror_mode": {
    "name": "ipython",
    "version": 3
   },
   "file_extension": ".py",
   "mimetype": "text/x-python",
   "name": "python",
   "nbconvert_exporter": "python",
   "pygments_lexer": "ipython3",
   "version": "3.8.10"
  },
  "vscode": {
   "interpreter": {
    "hash": "916dbcbb3f70747c44a77c7bcd40155683ae19c65e1c03b4aa3499c5328201f1"
   }
  }
 },
 "nbformat": 4,
 "nbformat_minor": 5
}
