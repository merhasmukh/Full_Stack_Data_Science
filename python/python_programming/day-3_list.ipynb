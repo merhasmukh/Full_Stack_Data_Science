{
 "cells": [
  {
   "cell_type": "code",
   "execution_count": 1,
   "metadata": {},
   "outputs": [
    {
     "data": {
      "text/plain": [
       "['hasmukh', 452851545, 'botad']"
      ]
     },
     "execution_count": 1,
     "metadata": {},
     "output_type": "execute_result"
    }
   ],
   "source": [
    "l=[\"hasmukh\",452851545,\"botad\"]\n",
    "l"
   ]
  },
  {
   "cell_type": "code",
   "execution_count": 3,
   "metadata": {},
   "outputs": [
    {
     "data": {
      "text/plain": [
       "list"
      ]
     },
     "execution_count": 3,
     "metadata": {},
     "output_type": "execute_result"
    }
   ],
   "source": [
    "type(l)"
   ]
  },
  {
   "cell_type": "code",
   "execution_count": 4,
   "metadata": {},
   "outputs": [
    {
     "data": {
      "text/plain": [
       "'hasmukh'"
      ]
     },
     "execution_count": 4,
     "metadata": {},
     "output_type": "execute_result"
    }
   ],
   "source": [
    "l[0]"
   ]
  },
  {
   "cell_type": "code",
   "execution_count": 5,
   "metadata": {},
   "outputs": [
    {
     "data": {
      "text/plain": [
       "'botad'"
      ]
     },
     "execution_count": 5,
     "metadata": {},
     "output_type": "execute_result"
    }
   ],
   "source": [
    "l[2]"
   ]
  },
  {
   "cell_type": "code",
   "execution_count": 6,
   "metadata": {},
   "outputs": [
    {
     "data": {
      "text/plain": [
       "list"
      ]
     },
     "execution_count": 6,
     "metadata": {},
     "output_type": "execute_result"
    }
   ],
   "source": [
    "l1=[]\n",
    "type(l1)"
   ]
  },
  {
   "cell_type": "code",
   "execution_count": 7,
   "metadata": {},
   "outputs": [
    {
     "data": {
      "text/plain": [
       "list"
      ]
     },
     "execution_count": 7,
     "metadata": {},
     "output_type": "execute_result"
    }
   ],
   "source": [
    "l2=list()\n",
    "type(l2)"
   ]
  },
  {
   "cell_type": "code",
   "execution_count": 8,
   "metadata": {},
   "outputs": [
    {
     "data": {
      "text/plain": [
       "[]"
      ]
     },
     "execution_count": 8,
     "metadata": {},
     "output_type": "execute_result"
    }
   ],
   "source": [
    "l2"
   ]
  },
  {
   "cell_type": "code",
   "execution_count": 9,
   "metadata": {},
   "outputs": [],
   "source": [
    "l3=[\"hasmukh\",656454456,5.566,[\"hasmukh\",123],65+5j,4.5685]"
   ]
  },
  {
   "cell_type": "code",
   "execution_count": 10,
   "metadata": {},
   "outputs": [
    {
     "data": {
      "text/plain": [
       "['hasmukh', 656454456, 5.566, ['hasmukh', 123], (65+5j), 4.5685]"
      ]
     },
     "execution_count": 10,
     "metadata": {},
     "output_type": "execute_result"
    }
   ],
   "source": [
    "l3"
   ]
  },
  {
   "cell_type": "code",
   "execution_count": 11,
   "metadata": {},
   "outputs": [
    {
     "data": {
      "text/plain": [
       "['hasmukh', 123]"
      ]
     },
     "execution_count": 11,
     "metadata": {},
     "output_type": "execute_result"
    }
   ],
   "source": [
    "l3[3]"
   ]
  },
  {
   "cell_type": "code",
   "execution_count": 12,
   "metadata": {},
   "outputs": [
    {
     "data": {
      "text/plain": [
       "123"
      ]
     },
     "execution_count": 12,
     "metadata": {},
     "output_type": "execute_result"
    }
   ],
   "source": [
    "l3[3][1]"
   ]
  },
  {
   "cell_type": "code",
   "execution_count": 15,
   "metadata": {},
   "outputs": [
    {
     "name": "stdout",
     "output_type": "stream",
     "text": [
      "<class 'str'>\n",
      "<class 'int'>\n",
      "<class 'float'>\n",
      "<class 'list'>\n",
      "<class 'complex'>\n",
      "<class 'float'>\n"
     ]
    }
   ],
   "source": [
    "for i in l3:\n",
    "    print(type(i))"
   ]
  },
  {
   "cell_type": "code",
   "execution_count": 16,
   "metadata": {},
   "outputs": [
    {
     "name": "stdout",
     "output_type": "stream",
     "text": [
      "<class 'str'>\n",
      "<class 'int'>\n"
     ]
    }
   ],
   "source": [
    "for i in l3:\n",
    "    if type(i)==list:\n",
    "        for j in i:\n",
    "            print(type(j))"
   ]
  },
  {
   "cell_type": "code",
   "execution_count": null,
   "metadata": {},
   "outputs": [],
   "source": []
  },
  {
   "cell_type": "code",
   "execution_count": 41,
   "id": "65a6234b-8b06-4ae1-a08d-fca72113cd4f",
   "metadata": {},
   "outputs": [
    {
     "data": {
      "text/plain": [
       "['hasmukh', 'mer', 12, 45, 46, ['mer', 78, 7.7]]"
      ]
     },
     "execution_count": 41,
     "metadata": {},
     "output_type": "execute_result"
    }
   ],
   "source": [
    "l=[\"hasmukh\",\"mer\",12,45,46,[\"mer\",78,7.7]]\n",
    "l"
   ]
  },
  {
   "cell_type": "code",
   "execution_count": 42,
   "id": "252a37a0-bff8-418a-aa6c-5748ee673351",
   "metadata": {},
   "outputs": [
    {
     "data": {
      "text/plain": [
       "46"
      ]
     },
     "execution_count": 42,
     "metadata": {},
     "output_type": "execute_result"
    }
   ],
   "source": [
    "l[4]"
   ]
  },
  {
   "cell_type": "code",
   "execution_count": 43,
   "id": "9fa374b1-177d-4cc4-bd8a-95cf017b7a7a",
   "metadata": {},
   "outputs": [
    {
     "data": {
      "text/plain": [
       "[]"
      ]
     },
     "execution_count": 43,
     "metadata": {},
     "output_type": "execute_result"
    }
   ],
   "source": [
    "l[0:3:-1]"
   ]
  },
  {
   "cell_type": "code",
   "execution_count": 44,
   "id": "37d9f9fa-5164-4e7a-8b25-072cb40771d8",
   "metadata": {},
   "outputs": [
    {
     "data": {
      "text/plain": [
       "['hasmukh', 'mer', 12]"
      ]
     },
     "execution_count": 44,
     "metadata": {},
     "output_type": "execute_result"
    }
   ],
   "source": [
    "l[0:3]"
   ]
  },
  {
   "cell_type": "code",
   "execution_count": 45,
   "id": "75dde578-55b6-4077-917e-96c7c20ef80a",
   "metadata": {},
   "outputs": [
    {
     "data": {
      "text/plain": [
       "[['mer', 78, 7.7], 46, 45, 12, 'mer', 'hasmukh']"
      ]
     },
     "execution_count": 45,
     "metadata": {},
     "output_type": "execute_result"
    }
   ],
   "source": [
    "l[::-1]"
   ]
  },
  {
   "cell_type": "code",
   "execution_count": 46,
   "id": "50ffa716-273a-42fd-9a80-9fed17ba0307",
   "metadata": {},
   "outputs": [
    {
     "data": {
      "text/plain": [
       "[['mer', 78, 7.7], 45, 'mer']"
      ]
     },
     "execution_count": 46,
     "metadata": {},
     "output_type": "execute_result"
    }
   ],
   "source": [
    "l[::-2]"
   ]
  },
  {
   "cell_type": "code",
   "execution_count": 47,
   "id": "d24ec6a9-c05e-484c-adef-92e24ffef583",
   "metadata": {},
   "outputs": [
    {
     "data": {
      "text/plain": [
       "[45, 12, 'mer']"
      ]
     },
     "execution_count": 47,
     "metadata": {},
     "output_type": "execute_result"
    }
   ],
   "source": [
    "l[3:0:-1]\n"
   ]
  },
  {
   "cell_type": "code",
   "execution_count": 48,
   "id": "58bfcef9-8620-4481-9727-15db2a89fe66",
   "metadata": {},
   "outputs": [
    {
     "data": {
      "text/plain": [
       "['h', 'a', 's']"
      ]
     },
     "execution_count": 48,
     "metadata": {},
     "output_type": "execute_result"
    }
   ],
   "source": [
    "h=\"has\"\n",
    "\n",
    "list(h)\n"
   ]
  },
  {
   "cell_type": "code",
   "execution_count": 49,
   "id": "ba695b81-6b6f-4309-9d2a-327e66ef47f4",
   "metadata": {},
   "outputs": [],
   "source": [
    "h=[\"has\"]"
   ]
  },
  {
   "cell_type": "code",
   "execution_count": 50,
   "id": "816f428c-d3ba-49c0-a1e1-7c105822c79e",
   "metadata": {},
   "outputs": [
    {
     "data": {
      "text/plain": [
       "['hasmukh', 'mer', 12, 45, 46, ['mer', 78, 7.7], 'has']"
      ]
     },
     "execution_count": 50,
     "metadata": {},
     "output_type": "execute_result"
    }
   ],
   "source": [
    "l+h"
   ]
  },
  {
   "cell_type": "code",
   "execution_count": 51,
   "id": "c6e6c6d1-6e29-424b-8639-76b09491c430",
   "metadata": {},
   "outputs": [
    {
     "data": {
      "text/plain": [
       "['hasmukh',\n",
       " 'mer',\n",
       " 12,\n",
       " 45,\n",
       " 46,\n",
       " ['mer', 78, 7.7],\n",
       " 'hasmukh',\n",
       " 'mer',\n",
       " 12,\n",
       " 45,\n",
       " 46,\n",
       " ['mer', 78, 7.7]]"
      ]
     },
     "execution_count": 51,
     "metadata": {},
     "output_type": "execute_result"
    }
   ],
   "source": [
    "l * 2"
   ]
  },
  {
   "cell_type": "code",
   "execution_count": 52,
   "id": "ee9f446d-55f7-4580-ad77-292be5bda849",
   "metadata": {},
   "outputs": [
    {
     "data": {
      "text/plain": [
       "6"
      ]
     },
     "execution_count": 52,
     "metadata": {},
     "output_type": "execute_result"
    }
   ],
   "source": [
    "len(l)"
   ]
  },
  {
   "cell_type": "code",
   "execution_count": 53,
   "id": "7b76c4e1-6522-4c03-ac60-8747dec20651",
   "metadata": {},
   "outputs": [
    {
     "data": {
      "text/plain": [
       "True"
      ]
     },
     "execution_count": 53,
     "metadata": {},
     "output_type": "execute_result"
    }
   ],
   "source": [
    "\"mer\" in l"
   ]
  },
  {
   "cell_type": "code",
   "execution_count": 54,
   "id": "c11ec263-d186-4681-ac90-934b5e09e5eb",
   "metadata": {},
   "outputs": [
    {
     "data": {
      "text/plain": [
       "True"
      ]
     },
     "execution_count": 54,
     "metadata": {},
     "output_type": "execute_result"
    }
   ],
   "source": [
    "\"has\" in h"
   ]
  },
  {
   "cell_type": "code",
   "execution_count": 55,
   "id": "f34adf37-fada-439b-946a-4f2c4f4819b7",
   "metadata": {},
   "outputs": [
    {
     "data": {
      "text/plain": [
       "['has']"
      ]
     },
     "execution_count": 55,
     "metadata": {},
     "output_type": "execute_result"
    }
   ],
   "source": [
    "h"
   ]
  },
  {
   "cell_type": "code",
   "execution_count": 56,
   "id": "5c3046b7-46d9-4dfc-887b-8d4ec8d19b3c",
   "metadata": {},
   "outputs": [
    {
     "data": {
      "text/plain": [
       "False"
      ]
     },
     "execution_count": 56,
     "metadata": {},
     "output_type": "execute_result"
    }
   ],
   "source": [
    "\"has\" in l"
   ]
  },
  {
   "cell_type": "code",
   "execution_count": 57,
   "id": "43beaced-c492-42e9-a6c1-147c86d99035",
   "metadata": {},
   "outputs": [
    {
     "name": "stdout",
     "output_type": "stream",
     "text": [
      "hasmukh\n",
      "mer\n",
      "12\n",
      "45\n",
      "46\n",
      "['mer', 78, 7.7]\n"
     ]
    }
   ],
   "source": [
    "for i in l:\n",
    "    print(i)"
   ]
  },
  {
   "cell_type": "code",
   "execution_count": 58,
   "id": "87d35c4b-90e2-4698-b9c5-86c39a050a3d",
   "metadata": {},
   "outputs": [
    {
     "name": "stdout",
     "output_type": "stream",
     "text": [
      "not a list hasmukh\n",
      "not a list mer\n",
      "not a list 12\n",
      "not a list 45\n",
      "not a list 46\n",
      "this is a list ['mer', 78, 7.7]\n"
     ]
    }
   ],
   "source": [
    "for i in l:\n",
    "    if type(i)==list:\n",
    "        print(\"this is a list\",i)\n",
    "    else:\n",
    "        print(\"not a list\",i)"
   ]
  },
  {
   "cell_type": "code",
   "execution_count": 59,
   "id": "9db2859d-e7e8-4c3c-84fd-d338567fd254",
   "metadata": {},
   "outputs": [],
   "source": [
    "l1=[\"sarva\",\"botad\",45,78,809,[\"23\",34]]"
   ]
  },
  {
   "cell_type": "code",
   "execution_count": 60,
   "id": "886a52ca-6d94-4c04-a04b-59318b00f713",
   "metadata": {},
   "outputs": [
    {
     "data": {
      "text/plain": [
       "['hasmukh',\n",
       " 'mer',\n",
       " 12,\n",
       " 45,\n",
       " 46,\n",
       " ['mer', 78, 7.7],\n",
       " 'sarva',\n",
       " 'botad',\n",
       " 45,\n",
       " 78,\n",
       " 809,\n",
       " ['23', 34]]"
      ]
     },
     "execution_count": 60,
     "metadata": {},
     "output_type": "execute_result"
    }
   ],
   "source": [
    "l+l1"
   ]
  },
  {
   "cell_type": "code",
   "execution_count": 61,
   "id": "7836e9a0-34a3-4aae-b13b-b87252bd77d7",
   "metadata": {},
   "outputs": [
    {
     "data": {
      "text/plain": [
       "12"
      ]
     },
     "execution_count": 61,
     "metadata": {},
     "output_type": "execute_result"
    }
   ],
   "source": [
    "len(l+l1)"
   ]
  },
  {
   "cell_type": "code",
   "execution_count": 62,
   "id": "a4e6eef7-4cef-4c0d-b6ba-963faa65019c",
   "metadata": {},
   "outputs": [
    {
     "data": {
      "text/plain": [
       "10"
      ]
     },
     "execution_count": 62,
     "metadata": {},
     "output_type": "execute_result"
    }
   ],
   "source": [
    "max([1,5,8,6,9,6,3,5,10])"
   ]
  },
  {
   "cell_type": "code",
   "execution_count": 63,
   "id": "3c58526d-473f-4b25-b26b-194fe1bf3d8c",
   "metadata": {},
   "outputs": [
    {
     "data": {
      "text/plain": [
       "'mer'"
      ]
     },
     "execution_count": 63,
     "metadata": {},
     "output_type": "execute_result"
    }
   ],
   "source": [
    "max([\"has\",\"mer\",\"hasmukh\"])"
   ]
  },
  {
   "cell_type": "code",
   "execution_count": 64,
   "id": "8ec1886d-2392-4cd4-943f-9f7365b38809",
   "metadata": {},
   "outputs": [
    {
     "data": {
      "text/plain": [
       "1"
      ]
     },
     "execution_count": 64,
     "metadata": {},
     "output_type": "execute_result"
    }
   ],
   "source": [
    "min([1,5,8,6,9,6,3,5,10])"
   ]
  },
  {
   "cell_type": "code",
   "execution_count": 65,
   "id": "12ca75ea-2ad3-4f4c-b96e-fe9214b3e6b2",
   "metadata": {},
   "outputs": [
    {
     "data": {
      "text/plain": [
       "'has'"
      ]
     },
     "execution_count": 65,
     "metadata": {},
     "output_type": "execute_result"
    }
   ],
   "source": [
    "min([\"has\",\"mer\",\"hasmukh\",\"hasm\"])"
   ]
  },
  {
   "cell_type": "code",
   "execution_count": 66,
   "id": "110b9625-a897-4128-b435-68acd78266da",
   "metadata": {},
   "outputs": [
    {
     "data": {
      "text/plain": [
       "['hasmukh', 'mer', 12, 45, 46, ['mer', 78, 7.7]]"
      ]
     },
     "execution_count": 66,
     "metadata": {},
     "output_type": "execute_result"
    }
   ],
   "source": [
    "l"
   ]
  },
  {
   "cell_type": "code",
   "execution_count": 67,
   "id": "6d539c5e-d519-45b0-bed9-96ae586bb1af",
   "metadata": {},
   "outputs": [],
   "source": [
    "l.append(\"botad\")"
   ]
  },
  {
   "cell_type": "code",
   "execution_count": 68,
   "id": "f24fb8a1-51e7-4547-8985-5dfb818926f9",
   "metadata": {},
   "outputs": [
    {
     "data": {
      "text/plain": [
       "['hasmukh', 'mer', 12, 45, 46, ['mer', 78, 7.7], 'botad']"
      ]
     },
     "execution_count": 68,
     "metadata": {},
     "output_type": "execute_result"
    }
   ],
   "source": [
    "l"
   ]
  },
  {
   "cell_type": "code",
   "execution_count": 69,
   "id": "0b67a7cf-8a42-4c50-8900-879e3404293d",
   "metadata": {},
   "outputs": [],
   "source": [
    "l.append([1,5,6,9,45])"
   ]
  },
  {
   "cell_type": "code",
   "execution_count": 70,
   "id": "ce629c8b-959d-4520-8abf-01ca1b7f2b01",
   "metadata": {},
   "outputs": [
    {
     "data": {
      "text/plain": [
       "['hasmukh', 'mer', 12, 45, 46, ['mer', 78, 7.7], 'botad', [1, 5, 6, 9, 45]]"
      ]
     },
     "execution_count": 70,
     "metadata": {},
     "output_type": "execute_result"
    }
   ],
   "source": [
    "l"
   ]
  },
  {
   "cell_type": "code",
   "execution_count": 71,
   "id": "16b2592e-a28b-40d5-aba4-fc55680d191f",
   "metadata": {},
   "outputs": [
    {
     "data": {
      "text/plain": [
       "['hasmukh',\n",
       " 'mer',\n",
       " 'hi',\n",
       " 12,\n",
       " 45,\n",
       " 46,\n",
       " ['mer', 78, 7.7],\n",
       " 'botad',\n",
       " [1, 5, 6, 9, 45]]"
      ]
     },
     "execution_count": 71,
     "metadata": {},
     "output_type": "execute_result"
    }
   ],
   "source": [
    "l.insert(2,\"hi\")\n",
    "l"
   ]
  },
  {
   "cell_type": "code",
   "execution_count": 72,
   "id": "748edcb8-a4b0-40d0-8965-ac08be923e35",
   "metadata": {},
   "outputs": [
    {
     "data": {
      "text/plain": [
       "['hasmukh',\n",
       " 'mer',\n",
       " 'hi',\n",
       " 12,\n",
       " 45,\n",
       " 46,\n",
       " ['mer', 78, 7.7],\n",
       " 'botad',\n",
       " 'hasmukh2',\n",
       " [1, 5, 6, 9, 45]]"
      ]
     },
     "execution_count": 72,
     "metadata": {},
     "output_type": "execute_result"
    }
   ],
   "source": [
    "l.insert(-1,\"hasmukh2\")\n",
    "l"
   ]
  },
  {
   "cell_type": "code",
   "execution_count": 73,
   "id": "622b9970-fac6-460d-8bad-390a07450ec9",
   "metadata": {},
   "outputs": [
    {
     "data": {
      "text/plain": [
       "1"
      ]
     },
     "execution_count": 73,
     "metadata": {},
     "output_type": "execute_result"
    }
   ],
   "source": [
    "l.count(\"mer\")"
   ]
  },
  {
   "cell_type": "code",
   "execution_count": 74,
   "id": "0863d507-980c-4da0-9166-6bf3f958819d",
   "metadata": {},
   "outputs": [],
   "source": [
    "l=[1,2,3,4,5]"
   ]
  },
  {
   "cell_type": "code",
   "execution_count": 75,
   "id": "8fe53a97-4bdd-4998-81f9-b122da4e4c7f",
   "metadata": {},
   "outputs": [],
   "source": [
    "l.append([2,4,5])"
   ]
  },
  {
   "cell_type": "code",
   "execution_count": 76,
   "id": "84c9a1e0-e352-40df-810b-d9634717576a",
   "metadata": {},
   "outputs": [
    {
     "data": {
      "text/plain": [
       "[1, 2, 3, 4, 5, [2, 4, 5]]"
      ]
     },
     "execution_count": 76,
     "metadata": {},
     "output_type": "execute_result"
    }
   ],
   "source": [
    "l"
   ]
  },
  {
   "cell_type": "code",
   "execution_count": 77,
   "id": "cdc53eea-f0b6-48c4-904e-c9ea3517b4d5",
   "metadata": {},
   "outputs": [],
   "source": [
    "l.extend([5,6,7])"
   ]
  },
  {
   "cell_type": "code",
   "execution_count": 78,
   "id": "302bfb2b-8ca5-4529-8b56-608f10177ea7",
   "metadata": {},
   "outputs": [
    {
     "data": {
      "text/plain": [
       "[1, 2, 3, 4, 5, [2, 4, 5], 5, 6, 7]"
      ]
     },
     "execution_count": 78,
     "metadata": {},
     "output_type": "execute_result"
    }
   ],
   "source": [
    "l"
   ]
  },
  {
   "cell_type": "code",
   "execution_count": 79,
   "id": "6e356679-4c32-4ab8-96ac-98b50ecd20c8",
   "metadata": {},
   "outputs": [],
   "source": [
    "# l.extend(450)"
   ]
  },
  {
   "cell_type": "code",
   "execution_count": 80,
   "id": "055d9cc6-82e1-4fbd-8989-eb5e710cbc7a",
   "metadata": {},
   "outputs": [
    {
     "data": {
      "text/plain": [
       "[1, 2, 3, 4, 5, [2, 4, 5], 5, 6, 7]"
      ]
     },
     "execution_count": 80,
     "metadata": {},
     "output_type": "execute_result"
    }
   ],
   "source": [
    "l"
   ]
  },
  {
   "cell_type": "code",
   "execution_count": 81,
   "id": "a6e911e2-6481-41f0-aac2-85da15e8d74a",
   "metadata": {},
   "outputs": [
    {
     "data": {
      "text/plain": [
       "7"
      ]
     },
     "execution_count": 81,
     "metadata": {},
     "output_type": "execute_result"
    }
   ],
   "source": [
    "l.index(6)"
   ]
  },
  {
   "cell_type": "code",
   "execution_count": 82,
   "id": "04130582-281a-487e-80ec-70b4540c1b16",
   "metadata": {},
   "outputs": [
    {
     "data": {
      "text/plain": [
       "7"
      ]
     },
     "execution_count": 82,
     "metadata": {},
     "output_type": "execute_result"
    }
   ],
   "source": [
    "l.pop()\n"
   ]
  },
  {
   "cell_type": "code",
   "execution_count": 83,
   "id": "2fc31f2b-b4a5-423e-9d5b-262d1f4e1e00",
   "metadata": {},
   "outputs": [
    {
     "data": {
      "text/plain": [
       "[1, 2, 3, 4, 5, [2, 4, 5], 5, 6]"
      ]
     },
     "execution_count": 83,
     "metadata": {},
     "output_type": "execute_result"
    }
   ],
   "source": [
    "l"
   ]
  },
  {
   "cell_type": "code",
   "execution_count": 84,
   "id": "d87f80eb-0bd7-4b67-9edd-85a3d8a1d963",
   "metadata": {},
   "outputs": [
    {
     "data": {
      "text/plain": [
       "5"
      ]
     },
     "execution_count": 84,
     "metadata": {},
     "output_type": "execute_result"
    }
   ],
   "source": [
    "l.pop(4)"
   ]
  },
  {
   "cell_type": "code",
   "execution_count": 85,
   "id": "69575a0a-6637-44bc-abcd-a4e61726a46d",
   "metadata": {},
   "outputs": [
    {
     "data": {
      "text/plain": [
       "[1, 2, 3, 4, [2, 4, 5], 5, 6]"
      ]
     },
     "execution_count": 85,
     "metadata": {},
     "output_type": "execute_result"
    }
   ],
   "source": [
    "l"
   ]
  },
  {
   "cell_type": "code",
   "execution_count": 86,
   "id": "c1801a48-a69f-4f97-be02-d7027a46b27d",
   "metadata": {},
   "outputs": [],
   "source": [
    "l.remove(5)"
   ]
  },
  {
   "cell_type": "code",
   "execution_count": 87,
   "id": "f7c5a241-d11a-4569-b739-69748537abae",
   "metadata": {},
   "outputs": [
    {
     "data": {
      "text/plain": [
       "[1, 2, 3, 4, [2, 4, 5], 6]"
      ]
     },
     "execution_count": 87,
     "metadata": {},
     "output_type": "execute_result"
    }
   ],
   "source": [
    "l"
   ]
  },
  {
   "cell_type": "code",
   "execution_count": 88,
   "id": "64e6b75b-2e9b-4a39-80f1-a1a1f24806bb",
   "metadata": {},
   "outputs": [],
   "source": [
    "l.remove(2)"
   ]
  },
  {
   "cell_type": "code",
   "execution_count": 89,
   "id": "b3774cef-fccf-48d2-b641-c915aa9875f2",
   "metadata": {},
   "outputs": [
    {
     "data": {
      "text/plain": [
       "[1, 3, 4, [2, 4, 5], 6]"
      ]
     },
     "execution_count": 89,
     "metadata": {},
     "output_type": "execute_result"
    }
   ],
   "source": [
    "l"
   ]
  },
  {
   "cell_type": "code",
   "execution_count": 90,
   "id": "2f82b3e2-7705-4601-8337-166dd354dee5",
   "metadata": {},
   "outputs": [],
   "source": [
    "l.reverse()\n"
   ]
  },
  {
   "cell_type": "code",
   "execution_count": 91,
   "id": "c1433320-9ea3-4536-b298-cdc4b6480c28",
   "metadata": {},
   "outputs": [
    {
     "data": {
      "text/plain": [
       "[6, [2, 4, 5], 4, 3, 1]"
      ]
     },
     "execution_count": 91,
     "metadata": {},
     "output_type": "execute_result"
    }
   ],
   "source": [
    "l"
   ]
  },
  {
   "cell_type": "code",
   "execution_count": 92,
   "id": "7bfafb45-6b7b-4717-ba1a-041dd3f44201",
   "metadata": {},
   "outputs": [],
   "source": [
    "l=[4,5,89,45,56,26,32]\n",
    "l.sort()"
   ]
  },
  {
   "cell_type": "code",
   "execution_count": 93,
   "id": "4f4aacd6-6073-4e11-9526-5ef4c45c6c03",
   "metadata": {},
   "outputs": [
    {
     "data": {
      "text/plain": [
       "[4, 5, 26, 32, 45, 56, 89]"
      ]
     },
     "execution_count": 93,
     "metadata": {},
     "output_type": "execute_result"
    }
   ],
   "source": [
    "l"
   ]
  },
  {
   "cell_type": "markdown",
   "id": "72e659c5-fab3-4f11-8deb-78c8aa305bda",
   "metadata": {},
   "source": [
    "(1) append 2 more list one one complex number in this list in between existing list.\n",
    "(2) if your nested list contain string then find its index in nested list and print it then remove the string.\n",
    "(3) you have to extract 2nd element of each  nested list."
   ]
  },
  {
   "cell_type": "code",
   "execution_count": 129,
   "id": "78cfdcbc-c0c5-4e57-a133-e7457655d9d8",
   "metadata": {},
   "outputs": [
    {
     "data": {
      "text/plain": [
       "[[1, 3, 4], ['has', 'mer', 'sarva'], ['mer', 45], 'has', 43, 5, 6, 9]"
      ]
     },
     "execution_count": 129,
     "metadata": {},
     "output_type": "execute_result"
    }
   ],
   "source": [
    "l=[[1,3,4],[\"has\",\"mer\",\"sarva\"],[\"mer\",45],\"has\",43,5,6,9]\n",
    "\n",
    "l"
   ]
  },
  {
   "cell_type": "code",
   "execution_count": 95,
   "id": "08d923db-292f-49c9-a707-df8a46a7605e",
   "metadata": {},
   "outputs": [],
   "source": [
    "l.append([23+78j,\"hasmukh\"])\n",
    "l.append([\"mer\",56,67+10j])"
   ]
  },
  {
   "cell_type": "code",
   "execution_count": null,
   "id": "e2daaec5-cc30-4e13-b1ae-d0ac188dddeb",
   "metadata": {},
   "outputs": [],
   "source": []
  },
  {
   "cell_type": "code",
   "execution_count": 96,
   "id": "4676103c-a7cc-439c-9ce3-c38a16763a9c",
   "metadata": {},
   "outputs": [
    {
     "data": {
      "text/plain": [
       "[[1, 3, 4],\n",
       " ['has', 'mer', 'sarva'],\n",
       " ['mer', 45],\n",
       " 'has',\n",
       " 43,\n",
       " 5,\n",
       " 6,\n",
       " 9,\n",
       " [(23+78j), 'hasmukh'],\n",
       " ['mer', 56, (67+10j)]]"
      ]
     },
     "execution_count": 96,
     "metadata": {},
     "output_type": "execute_result"
    }
   ],
   "source": [
    "l"
   ]
  },
  {
   "cell_type": "code",
   "execution_count": 130,
   "id": "7ccba71d-3a34-4b37-9b10-f19a9f8043aa",
   "metadata": {},
   "outputs": [
    {
     "name": "stdout",
     "output_type": "stream",
     "text": [
      "list [1, 3, 4]\n",
      "list ['has', 'mer', 'sarva']\n",
      "String in nested list at index 0\n",
      "String in nested list at index 1\n",
      "String in nested list at index 2\n",
      "String in nested list is  has\n",
      "String in nested list is  mer\n",
      "String in nested list is  sarva\n",
      "list ['mer', 45]\n",
      "String in nested list at index 0\n",
      "String in nested list is  mer\n"
     ]
    },
    {
     "data": {
      "text/plain": [
       "[[1, 3, 4], [], [45], 'has', 43, 5, 6, 9]"
      ]
     },
     "execution_count": 130,
     "metadata": {},
     "output_type": "execute_result"
    }
   ],
   "source": [
    "\n",
    "for i in l:\n",
    "    if type(i)==list:\n",
    "        print(\"list\",i)\n",
    "        j=0\n",
    "        while j < len(i):\n",
    "            if type(i[j]) is str:\n",
    "                print(\"String in nested list at index\",j)\n",
    "            j=j+1\n",
    "        j=0\n",
    "        while j < len(i):\n",
    "            if type(i[j]) is str:\n",
    "                print(\"String in nested list is \",i[j])\n",
    "                i.remove(i[j])\n",
    "                continue\n",
    "            j=j+1\n",
    "l\n",
    "        \n",
    "          \n",
    "        "
   ]
  },
  {
   "cell_type": "code",
   "execution_count": 127,
   "id": "1a1b9901-4bf5-4522-bd16-b037229a99ac",
   "metadata": {},
   "outputs": [
    {
     "data": {
      "text/plain": [
       "[[1, 3, 4], ['mer'], [45], 'has', 43, 5, 6, 9]"
      ]
     },
     "execution_count": 127,
     "metadata": {},
     "output_type": "execute_result"
    }
   ],
   "source": [
    "l\n"
   ]
  },
  {
   "cell_type": "code",
   "execution_count": 99,
   "id": "137370f4-6caa-4c95-82c6-fe7d1ddbc8e3",
   "metadata": {},
   "outputs": [
    {
     "data": {
      "text/plain": [
       "[[1, 3, 4],\n",
       " ['has', 'mer', 'sarva'],\n",
       " ['mer', 45],\n",
       " 'has',\n",
       " 43,\n",
       " 5,\n",
       " 6,\n",
       " 9,\n",
       " [(23+78j), 'hasmukh'],\n",
       " ['mer', 56, (67+10j)]]"
      ]
     },
     "execution_count": 99,
     "metadata": {},
     "output_type": "execute_result"
    }
   ],
   "source": [
    "l"
   ]
  },
  {
   "cell_type": "code",
   "execution_count": 100,
   "id": "67bb5703-2de1-4bd0-83c6-fb71d9191007",
   "metadata": {},
   "outputs": [
    {
     "name": "stdout",
     "output_type": "stream",
     "text": [
      "3\n",
      "mer\n",
      "45\n",
      "hasmukh\n",
      "56\n"
     ]
    }
   ],
   "source": [
    "for i in l:\n",
    "    if type(i)==list:\n",
    "        print(i[1])"
   ]
  },
  {
   "cell_type": "code",
   "execution_count": 101,
   "id": "906543f9-fded-4fdb-ae8d-02004f052ed0",
   "metadata": {},
   "outputs": [
    {
     "name": "stdin",
     "output_type": "stream",
     "text": [
      " 89\n",
      " 85\n",
      " 45\n",
      " 41\n",
      " 23\n"
     ]
    },
    {
     "name": "stdout",
     "output_type": "stream",
     "text": [
      "[89, 85, 45, 41, 23]\n"
     ]
    }
   ],
   "source": [
    "l=[]\n",
    "for i in range(5):\n",
    "    l.append(int(input()))\n",
    "print(l)"
   ]
  },
  {
   "cell_type": "code",
   "execution_count": 131,
   "id": "e5f80848-b948-4b77-b256-372eefb7167c",
   "metadata": {},
   "outputs": [
    {
     "data": {
      "text/plain": [
       "[[1, 3, 4], [], [45], 'has', 43, 5, 6, 9]"
      ]
     },
     "execution_count": 131,
     "metadata": {},
     "output_type": "execute_result"
    }
   ],
   "source": [
    "l"
   ]
  },
  {
   "cell_type": "code",
   "execution_count": 132,
   "id": "859bbc29-fde0-4987-8189-4e274f33d003",
   "metadata": {},
   "outputs": [
    {
     "data": {
      "text/plain": [
       "['h', 'a', 's', 'm', 'u', 'k', 'h']"
      ]
     },
     "execution_count": 132,
     "metadata": {},
     "output_type": "execute_result"
    }
   ],
   "source": [
    "l1=[]\n",
    "\n",
    "for i in \"hasmukh\":\n",
    "    l1.append(i)\n",
    "    \n",
    "l1"
   ]
  },
  {
   "cell_type": "code",
   "execution_count": 134,
   "id": "fcf06a81-0d99-4ddf-ab41-f3561202017d",
   "metadata": {},
   "outputs": [
    {
     "data": {
      "text/plain": [
       "['m', 'e', 'r']"
      ]
     },
     "execution_count": 134,
     "metadata": {},
     "output_type": "execute_result"
    }
   ],
   "source": [
    "[i for i in \"mer\"] #list comprehension"
   ]
  },
  {
   "cell_type": "code",
   "execution_count": 135,
   "id": "0ca57f8b-c1d7-4be5-b54c-021c5186ebc7",
   "metadata": {},
   "outputs": [
    {
     "data": {
      "text/plain": [
       "[0, 2, 4, 6, 8]"
      ]
     },
     "execution_count": 135,
     "metadata": {},
     "output_type": "execute_result"
    }
   ],
   "source": [
    "l=[]\n",
    "for i in range(10):\n",
    "    if i%2 == 0:\n",
    "        l.append(i)\n",
    "l"
   ]
  },
  {
   "cell_type": "code",
   "execution_count": 139,
   "id": "2e0ba3b8-a953-47c2-a99e-870b8615cbdc",
   "metadata": {},
   "outputs": [
    {
     "data": {
      "text/plain": [
       "[0, 2, 4, 6, 8]"
      ]
     },
     "execution_count": 139,
     "metadata": {},
     "output_type": "execute_result"
    }
   ],
   "source": [
    "[i for i in range(10) if i%2==0]\n"
   ]
  },
  {
   "cell_type": "code",
   "execution_count": 140,
   "id": "6c983b1f-8da4-41bf-8a90-4c6cc5fb03f0",
   "metadata": {},
   "outputs": [],
   "source": [
    "l=[]\n",
    "for i in range(10):\n",
    "    if i%2 == 0:\n",
    "        l.append(\"even\")\n",
    "    else:\n",
    "        l.append(\"odd\")"
   ]
  },
  {
   "cell_type": "code",
   "execution_count": 141,
   "id": "31ab5bcd-07d9-45d7-8eda-7ad95bceb69c",
   "metadata": {},
   "outputs": [
    {
     "data": {
      "text/plain": [
       "['even', 'odd', 'even', 'odd', 'even', 'odd', 'even', 'odd', 'even', 'odd']"
      ]
     },
     "execution_count": 141,
     "metadata": {},
     "output_type": "execute_result"
    }
   ],
   "source": [
    "l"
   ]
  },
  {
   "cell_type": "code",
   "execution_count": 142,
   "id": "7f339004-406f-4efa-a70f-c9c45bc21413",
   "metadata": {},
   "outputs": [
    {
     "data": {
      "text/plain": [
       "['even', 'odd', 'even', 'odd', 'even', 'odd', 'even', 'odd', 'even', 'odd']"
      ]
     },
     "execution_count": 142,
     "metadata": {},
     "output_type": "execute_result"
    }
   ],
   "source": [
    "[\"even\" if i%2==0 else \"odd\" for i in range(10)]"
   ]
  },
  {
   "cell_type": "code",
   "execution_count": 1,
   "id": "fb5e7799-81b0-4cb2-bf36-7622bf6967a3",
   "metadata": {},
   "outputs": [
    {
     "data": {
      "text/plain": [
       "[[0, 1, 2], [0, 1, 2], [0, 1, 2]]"
      ]
     },
     "execution_count": 1,
     "metadata": {},
     "output_type": "execute_result"
    }
   ],
   "source": [
    "mat=[]\n",
    "\n",
    "for i in range(3):\n",
    "    mat.append([])\n",
    "    for j in range(3):\n",
    "        mat[i].append(j)\n",
    "mat"
   ]
  },
  {
   "cell_type": "code",
   "execution_count": 2,
   "id": "dd0f5c5f-3a75-4726-92eb-5dddf5d6acea",
   "metadata": {},
   "outputs": [
    {
     "data": {
      "text/plain": [
       "[[0, 1, 2], [0, 1, 2], [0, 1, 2]]"
      ]
     },
     "execution_count": 2,
     "metadata": {},
     "output_type": "execute_result"
    }
   ],
   "source": [
    "[[j for j in range(3)] for i in range(3)]"
   ]
  },
  {
   "cell_type": "code",
   "execution_count": 9,
   "id": "a6fa8025-b22c-49a4-954f-1ae08603d1d3",
   "metadata": {},
   "outputs": [
    {
     "data": {
      "text/plain": [
       "[0, 6]"
      ]
     },
     "execution_count": 9,
     "metadata": {},
     "output_type": "execute_result"
    }
   ],
   "source": [
    "[i for i in range(8) if i%2==0 if i%3==0]"
   ]
  },
  {
   "cell_type": "code",
   "execution_count": 11,
   "id": "7334eb72-ae34-46e4-9467-6dce34400345",
   "metadata": {},
   "outputs": [
    {
     "data": {
      "text/plain": [
       "[0, 6]"
      ]
     },
     "execution_count": 11,
     "metadata": {},
     "output_type": "execute_result"
    }
   ],
   "source": [
    "l=[]\n",
    "for i in range(8):\n",
    "    if i%2==0:\n",
    "        if i%3==0:\n",
    "            l.append(i)\n",
    "l"
   ]
  },
  {
   "cell_type": "code",
   "execution_count": 15,
   "id": "54c3b3b9-bb2d-419d-a921-b37cb18db985",
   "metadata": {},
   "outputs": [],
   "source": [
    "l=[]\n",
    "for i in range(10):\n",
    "    l.append(i)"
   ]
  },
  {
   "cell_type": "code",
   "execution_count": 22,
   "id": "641b851e-4cba-45fc-8772-f646a873cebd",
   "metadata": {},
   "outputs": [
    {
     "data": {
      "text/plain": [
       "[0, 1, 2, 3, 4, 5, 6, 7, 8, 9]"
      ]
     },
     "execution_count": 22,
     "metadata": {},
     "output_type": "execute_result"
    }
   ],
   "source": [
    "l"
   ]
  },
  {
   "cell_type": "code",
   "execution_count": 23,
   "id": "b49453ef-034c-4872-a438-8a1ac9870b7a",
   "metadata": {},
   "outputs": [],
   "source": [
    "res1=[\"yes\" if i==1 else \"no\" if i==2 else \"test\" for i in l] "
   ]
  },
  {
   "cell_type": "code",
   "execution_count": 17,
   "id": "ea3aff67-8577-4cb0-bcbd-33b159402b62",
   "metadata": {},
   "outputs": [],
   "source": [
    "res=[]\n",
    "for i in l:\n",
    "    if i==1:\n",
    "        res.append(\"yes\")\n",
    "    elif i==2:\n",
    "        res.append(\"no\")\n",
    "    else:\n",
    "        res.append(\"test\")"
   ]
  },
  {
   "cell_type": "code",
   "execution_count": 18,
   "id": "28d54995-9965-43b9-b05d-de95e2c989ba",
   "metadata": {},
   "outputs": [
    {
     "data": {
      "text/plain": [
       "['test', 'yes', 'no', 'test', 'test', 'test', 'test', 'test', 'test', 'test']"
      ]
     },
     "execution_count": 18,
     "metadata": {},
     "output_type": "execute_result"
    }
   ],
   "source": [
    "res"
   ]
  },
  {
   "cell_type": "code",
   "execution_count": 24,
   "id": "36b3376b-785b-4d6f-b970-22ab645593e0",
   "metadata": {},
   "outputs": [
    {
     "data": {
      "text/plain": [
       "True"
      ]
     },
     "execution_count": 24,
     "metadata": {},
     "output_type": "execute_result"
    }
   ],
   "source": [
    "res1==res"
   ]
  },
  {
   "cell_type": "code",
   "execution_count": 26,
   "id": "46b8dff9-9e53-4259-b4db-beb674d81e71",
   "metadata": {},
   "outputs": [],
   "source": [
    "# res?"
   ]
  },
  {
   "cell_type": "code",
   "execution_count": 27,
   "id": "068510d3-6872-495a-a2ff-330915bff437",
   "metadata": {},
   "outputs": [
    {
     "name": "stdout",
     "output_type": "stream",
     "text": [
      "Object `h` not found.\n"
     ]
    }
   ],
   "source": []
  },
  {
   "cell_type": "code",
   "execution_count": null,
   "id": "9fa3b908-d208-4ce1-abe9-1eb7aeb32956",
   "metadata": {},
   "outputs": [],
   "source": []
  }
 ],
 "metadata": {
  "kernelspec": {
   "display_name": "Python 3.8.10 64-bit",
   "language": "python",
   "name": "python3"
  },
  "language_info": {
   "codemirror_mode": {
    "name": "ipython",
    "version": 3
   },
   "file_extension": ".py",
   "mimetype": "text/x-python",
   "name": "python",
   "nbconvert_exporter": "python",
   "pygments_lexer": "ipython3",
   "version": "3.8.10"
  },
  "vscode": {
   "interpreter": {
    "hash": "916dbcbb3f70747c44a77c7bcd40155683ae19c65e1c03b4aa3499c5328201f1"
   }
  }
 },
 "nbformat": 4,
 "nbformat_minor": 2
}
