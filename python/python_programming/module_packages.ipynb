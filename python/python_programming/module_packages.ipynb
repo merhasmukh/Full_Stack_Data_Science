{
 "cells": [
  {
   "cell_type": "code",
   "execution_count": 1,
   "id": "2b25415e-5676-447c-ab73-58004e704faf",
   "metadata": {},
   "outputs": [],
   "source": [
    "#import inbuilt module\n",
    "\n",
    "import math"
   ]
  },
  {
   "cell_type": "code",
   "execution_count": 2,
   "id": "bef12e64-e77c-4ae8-9973-e1cd050a2756",
   "metadata": {},
   "outputs": [
    {
     "data": {
      "text/plain": [
       "2.0"
      ]
     },
     "execution_count": 2,
     "metadata": {},
     "output_type": "execute_result"
    }
   ],
   "source": [
    "math.sqrt(4)"
   ]
  },
  {
   "cell_type": "code",
   "execution_count": 3,
   "id": "b5f1f285-e6b5-4eb1-bd08-b50b7597766c",
   "metadata": {},
   "outputs": [],
   "source": [
    "from math import sqrt\n",
    "\n"
   ]
  },
  {
   "cell_type": "code",
   "execution_count": 7,
   "id": "3b1abdfe-4187-4515-b0f7-366b469f017d",
   "metadata": {},
   "outputs": [
    {
     "data": {
      "text/plain": [
       "2.23606797749979"
      ]
     },
     "execution_count": 7,
     "metadata": {},
     "output_type": "execute_result"
    }
   ],
   "source": [
    "sqrt(5)"
   ]
  },
  {
   "cell_type": "code",
   "execution_count": 9,
   "id": "9e678a95-cc9f-4473-8fc9-8b6c229a2e7c",
   "metadata": {},
   "outputs": [],
   "source": [
    "from  math import sqrt,pi"
   ]
  },
  {
   "cell_type": "code",
   "execution_count": 10,
   "id": "d10d8dd9-ec76-4d3a-8016-0c9116c95de3",
   "metadata": {},
   "outputs": [
    {
     "data": {
      "text/plain": [
       "3.1622776601683795"
      ]
     },
     "execution_count": 10,
     "metadata": {},
     "output_type": "execute_result"
    }
   ],
   "source": [
    "sqrt(10)"
   ]
  },
  {
   "cell_type": "code",
   "execution_count": 11,
   "id": "96febdee-b776-40e2-afe1-4689297f9208",
   "metadata": {},
   "outputs": [
    {
     "data": {
      "text/plain": [
       "3.141592653589793"
      ]
     },
     "execution_count": 11,
     "metadata": {},
     "output_type": "execute_result"
    }
   ],
   "source": [
    "pi\n"
   ]
  },
  {
   "cell_type": "code",
   "execution_count": 12,
   "id": "0b0b1f2b-3d54-488e-84c1-e5c4a1949324",
   "metadata": {},
   "outputs": [],
   "source": [
    "from math import *"
   ]
  },
  {
   "cell_type": "code",
   "execution_count": 13,
   "id": "2ba1f2b1-5816-4f96-b7f8-e9ae2f57796d",
   "metadata": {},
   "outputs": [
    {
     "data": {
      "text/plain": [
       "3.141592653589793"
      ]
     },
     "execution_count": 13,
     "metadata": {},
     "output_type": "execute_result"
    }
   ],
   "source": [
    "pi"
   ]
  },
  {
   "cell_type": "code",
   "execution_count": 14,
   "id": "d3eb2a87-f977-4ec8-b0ff-04196b25bbb4",
   "metadata": {},
   "outputs": [
    {
     "data": {
      "text/plain": [
       "0.0"
      ]
     },
     "execution_count": 14,
     "metadata": {},
     "output_type": "execute_result"
    }
   ],
   "source": [
    "sin(0)"
   ]
  },
  {
   "cell_type": "code",
   "execution_count": 15,
   "id": "349e46fc-637c-4891-8e4b-cbb8ed2ac7c9",
   "metadata": {},
   "outputs": [
    {
     "data": {
      "text/plain": [
       "1.0"
      ]
     },
     "execution_count": 15,
     "metadata": {},
     "output_type": "execute_result"
    }
   ],
   "source": [
    "cos(0)\n"
   ]
  },
  {
   "cell_type": "code",
   "execution_count": 16,
   "id": "5d1083d7-ed84-4463-bb6e-93f74eab678e",
   "metadata": {},
   "outputs": [
    {
     "data": {
      "text/plain": [
       "11.0"
      ]
     },
     "execution_count": 16,
     "metadata": {},
     "output_type": "execute_result"
    }
   ],
   "source": [
    "sqrt(121)"
   ]
  },
  {
   "cell_type": "code",
   "execution_count": 1,
   "id": "3e8cd4eb-0d22-4807-88b5-1ec244353028",
   "metadata": {},
   "outputs": [
    {
     "data": {
      "text/plain": [
       "'/home/mhgn0001gm52ine/Full_Stack_Data_Science/python'"
      ]
     },
     "execution_count": 1,
     "metadata": {},
     "output_type": "execute_result"
    }
   ],
   "source": [
    "pwd()"
   ]
  },
  {
   "cell_type": "code",
   "execution_count": 7,
   "id": "879ebea8-f549-4139-8ec6-f9533e48c713",
   "metadata": {},
   "outputs": [],
   "source": [
    "import test #see test.py file"
   ]
  },
  {
   "cell_type": "code",
   "execution_count": 8,
   "id": "ee4f646c-eb5f-4622-bbeb-f4e7aa741c6b",
   "metadata": {},
   "outputs": [
    {
     "data": {
      "text/plain": [
       "120"
      ]
     },
     "execution_count": 8,
     "metadata": {},
     "output_type": "execute_result"
    }
   ],
   "source": [
    "test.fact(5)"
   ]
  },
  {
   "cell_type": "code",
   "execution_count": 9,
   "id": "25057257-0bc5-4141-b942-dc207b8b3aff",
   "metadata": {},
   "outputs": [],
   "source": [
    "import test"
   ]
  },
  {
   "cell_type": "code",
   "execution_count": 10,
   "id": "ca59f528-448a-47fb-a9a3-f49b7942435b",
   "metadata": {},
   "outputs": [],
   "source": [
    "import imp"
   ]
  },
  {
   "cell_type": "code",
   "execution_count": 11,
   "id": "0bdd7b6a-990a-4896-916a-0462027fd7be",
   "metadata": {},
   "outputs": [
    {
     "name": "stdout",
     "output_type": "stream",
     "text": [
      "hello\n",
      "factorial\n"
     ]
    },
    {
     "data": {
      "text/plain": [
       "<module 'test' from '/home/mhgn0001gm52ine/Full_Stack_Data_Science/python/test.py'>"
      ]
     },
     "execution_count": 11,
     "metadata": {},
     "output_type": "execute_result"
    }
   ],
   "source": [
    "imp.reload(test)"
   ]
  },
  {
   "cell_type": "code",
   "execution_count": 1,
   "id": "e8261795-6611-4a34-a2e7-990dc3750571",
   "metadata": {},
   "outputs": [],
   "source": [
    "import calc"
   ]
  },
  {
   "cell_type": "code",
   "execution_count": 3,
   "id": "2491657b-4252-4544-bb5a-7e7c658313f0",
   "metadata": {},
   "outputs": [
    {
     "data": {
      "text/plain": [
       "46"
      ]
     },
     "execution_count": 3,
     "metadata": {},
     "output_type": "execute_result"
    }
   ],
   "source": [
    "calc.add_num(1,45)"
   ]
  },
  {
   "cell_type": "code",
   "execution_count": 4,
   "id": "3f3a45df-4e04-4bb9-8ae5-0fc445ae9bb6",
   "metadata": {},
   "outputs": [
    {
     "data": {
      "text/plain": [
       "32"
      ]
     },
     "execution_count": 4,
     "metadata": {},
     "output_type": "execute_result"
    }
   ],
   "source": [
    "calc.mul_sun(4,8)"
   ]
  },
  {
   "cell_type": "code",
   "execution_count": 5,
   "id": "be4e5811-917b-43fa-a930-3e8b2aead0e5",
   "metadata": {},
   "outputs": [
    {
     "data": {
      "text/plain": [
       "32"
      ]
     },
     "execution_count": 5,
     "metadata": {},
     "output_type": "execute_result"
    }
   ],
   "source": [
    "calc.power_num(2,5)"
   ]
  },
  {
   "cell_type": "code",
   "execution_count": 6,
   "id": "ae001f0c-846e-434a-9f29-929f9fc63d92",
   "metadata": {},
   "outputs": [],
   "source": [
    "import test2"
   ]
  },
  {
   "cell_type": "code",
   "execution_count": 7,
   "id": "25164cec-2a8f-4a2c-915b-9867bd39f865",
   "metadata": {},
   "outputs": [
    {
     "data": {
      "text/plain": [
       "['ml', 'dl', 'stats', 'cv']"
      ]
     },
     "execution_count": 7,
     "metadata": {},
     "output_type": "execute_result"
    }
   ],
   "source": [
    "test2.get_course()"
   ]
  },
  {
   "cell_type": "code",
   "execution_count": 8,
   "id": "1ab0375d-e1df-466c-8420-160a58231047",
   "metadata": {},
   "outputs": [
    {
     "data": {
      "text/plain": [
       "'this is my class'"
      ]
     },
     "execution_count": 8,
     "metadata": {},
     "output_type": "execute_result"
    }
   ],
   "source": [
    "test2.get_msg()"
   ]
  },
  {
   "cell_type": "code",
   "execution_count": 9,
   "id": "1c010861-7a6c-4c1b-b099-b870f831f3c6",
   "metadata": {},
   "outputs": [
    {
     "data": {
      "text/plain": [
       "'hasmukh'"
      ]
     },
     "execution_count": 9,
     "metadata": {},
     "output_type": "execute_result"
    }
   ],
   "source": [
    "test2.get_name()"
   ]
  },
  {
   "cell_type": "code",
   "execution_count": null,
   "id": "1570408c-7bb0-4551-b69f-f067233639f3",
   "metadata": {},
   "outputs": [],
   "source": []
  }
 ],
 "metadata": {
  "kernelspec": {
   "display_name": "Python 3 (ipykernel)",
   "language": "python",
   "name": "python3"
  },
  "language_info": {
   "codemirror_mode": {
    "name": "ipython",
    "version": 3
   },
   "file_extension": ".py",
   "mimetype": "text/x-python",
   "name": "python",
   "nbconvert_exporter": "python",
   "pygments_lexer": "ipython3",
   "version": "3.9.12"
  }
 },
 "nbformat": 4,
 "nbformat_minor": 5
}
