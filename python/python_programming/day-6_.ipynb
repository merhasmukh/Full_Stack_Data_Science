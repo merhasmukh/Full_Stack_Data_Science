{
 "cells": [
  {
   "cell_type": "code",
   "execution_count": 2,
   "metadata": {},
   "outputs": [
    {
     "name": "stdout",
     "output_type": "stream",
     "text": [
      "this is a valid statements\n"
     ]
    }
   ],
   "source": [
    "a=10\n",
    "b=20\n",
    "\n",
    "if a==10 and b >=20:\n",
    "    print(\"this is a valid statements\")\n",
    "else:\n",
    "    print(\"not a valid statements\")"
   ]
  },
  {
   "cell_type": "code",
   "execution_count": 6,
   "metadata": {},
   "outputs": [
    {
     "name": "stdout",
     "output_type": "stream",
     "text": [
      "this is a valid statements\n"
     ]
    }
   ],
   "source": [
    "a=10\n",
    "b=20\n",
    "\n",
    "if a==10 or b<20:\n",
    "    print(\"this is a valid statements\")\n",
    "else:\n",
    "    print(\"not a valid statements\")"
   ]
  },
  {
   "cell_type": "markdown",
   "metadata": {},
   "source": [
    "task:\n",
    "\n",
    "take an input from your keyboard as your name and first name and then validate it by using if conditions...."
   ]
  },
  {
   "cell_type": "code",
   "execution_count": 8,
   "metadata": {},
   "outputs": [
    {
     "name": "stdout",
     "output_type": "stream",
     "text": [
      "you entered correct details \n"
     ]
    }
   ],
   "source": [
    "name=str(input(\"enter your name\"))\n",
    "surename=str(input(\"enter your surename\"))\n",
    "\n",
    "\n",
    "if name==\"hasmukh\" and surename==\"mer\":\n",
    "    print(\"you entered correct details \")\n",
    "else:\n",
    "    print(\"you entered wrong detilas.\")"
   ]
  },
  {
   "cell_type": "code",
   "execution_count": 2,
   "metadata": {},
   "outputs": [
    {
     "name": "stdout",
     "output_type": "stream",
     "text": [
      "currrent speed 0\n",
      "currrent speed 1\n",
      "currrent speed 2\n",
      "currrent speed 3\n",
      "currrent speed 4\n",
      "currrent speed 5\n",
      "currrent speed 6\n",
      "currrent speed 7\n",
      "currrent speed 8\n",
      "currrent speed 9\n",
      "currrent speed 10\n",
      "currrent speed 11\n",
      "currrent speed 12\n",
      "currrent speed 13\n",
      "currrent speed 14\n",
      "currrent speed 15\n",
      "currrent speed 16\n",
      "currrent speed 17\n",
      "currrent speed 18\n",
      "currrent speed 19\n",
      "currrent speed 20\n",
      "currrent speed 21\n",
      "currrent speed 22\n",
      "currrent speed 23\n",
      "currrent speed 24\n",
      "currrent speed 25\n",
      "currrent speed 26\n",
      "currrent speed 27\n",
      "currrent speed 28\n",
      "currrent speed 29\n",
      "currrent speed 30\n",
      "currrent speed 31\n",
      "currrent speed 32\n",
      "currrent speed 33\n",
      "currrent speed 34\n",
      "currrent speed 35\n",
      "currrent speed 36\n",
      "currrent speed 37\n",
      "currrent speed 38\n",
      "currrent speed 39\n",
      "currrent speed 40\n",
      "currrent speed 41\n",
      "currrent speed 42\n",
      "currrent speed 43\n",
      "currrent speed 44\n",
      "currrent speed 45\n",
      "currrent speed 46\n",
      "currrent speed 47\n",
      "currrent speed 48\n",
      "currrent speed 49\n",
      "currrent speed 50\n",
      "currrent speed 51\n",
      "currrent speed 52\n",
      "currrent speed 53\n",
      "currrent speed 54\n",
      "currrent speed 55\n",
      "currrent speed 56\n",
      "currrent speed 57\n",
      "currrent speed 58\n",
      "currrent speed 59\n",
      "currrent speed 60\n",
      "currrent speed 61\n",
      "currrent speed 62\n",
      "currrent speed 63\n",
      "currrent speed 64\n",
      "currrent speed 65\n",
      "currrent speed 66\n",
      "currrent speed 67\n",
      "currrent speed 68\n",
      "currrent speed 69\n",
      "currrent speed 70\n",
      "currrent speed 71\n",
      "currrent speed 72\n",
      "currrent speed 73\n",
      "currrent speed 74\n",
      "currrent speed 75\n",
      "currrent speed 76\n",
      "currrent speed 77\n",
      "currrent speed 78\n",
      "currrent speed 79\n",
      "currrent speed 80\n",
      "currrent speed 81\n",
      "currrent speed 82\n",
      "currrent speed 83\n",
      "currrent speed 84\n",
      "currrent speed 85\n",
      "currrent speed 86\n",
      "currrent speed 87\n",
      "currrent speed 88\n",
      "currrent speed 89\n",
      "currrent speed 90\n",
      "currrent speed 91\n",
      "currrent speed 92\n",
      "currrent speed 93\n",
      "currrent speed 94\n",
      "currrent speed 95\n",
      "currrent speed 96\n",
      "currrent speed 97\n",
      "currrent speed 98\n",
      "currrent speed 99\n",
      "currrent speed 100\n"
     ]
    }
   ],
   "source": [
    "initial_speed=0\n",
    "final_speed=100\n",
    "while initial_speed <= final_speed:\n",
    "    print(\"currrent speed\",initial_speed)\n",
    "    initial_speed+=1"
   ]
  },
  {
   "cell_type": "code",
   "execution_count": 3,
   "metadata": {},
   "outputs": [
    {
     "name": "stdout",
     "output_type": "stream",
     "text": [
      "0\n",
      "1\n",
      "2\n",
      "3\n",
      "4\n",
      "5\n",
      "6\n",
      "7\n",
      "8\n",
      "9\n",
      "10\n",
      "11\n",
      "12\n",
      "13\n",
      "14\n",
      "15\n"
     ]
    }
   ],
   "source": [
    "i=0\n",
    "j=16\n",
    "while i<16:\n",
    "    print(i)\n",
    "    i+=1"
   ]
  },
  {
   "cell_type": "code",
   "execution_count": 3,
   "metadata": {},
   "outputs": [
    {
     "name": "stdout",
     "output_type": "stream",
     "text": [
      "0\n",
      "1\n",
      "2\n",
      "3\n",
      "4\n",
      "JJ 0\n",
      "JJ 1\n",
      "Else J Executed...\n",
      "No 10 rs notes are available\n"
     ]
    }
   ],
   "source": [
    "notes=5\n",
    "i=0\n",
    "j=0\n",
    "while i <notes:\n",
    "    print(i)\n",
    "    i+=1\n",
    "else:\n",
    "    while j<2:\n",
    "        print(\"JJ\",j)\n",
    "        j+=1\n",
    "    else:\n",
    "        print(\"Else J Executed...\")\n",
    "    \n",
    "    print(\"No 10 rs notes are available\")"
   ]
  },
  {
   "cell_type": "code",
   "execution_count": null,
   "metadata": {},
   "outputs": [],
   "source": []
  }
 ],
 "metadata": {
  "kernelspec": {
   "display_name": "Python 3.8.10 64-bit",
   "language": "python",
   "name": "python3"
  },
  "language_info": {
   "codemirror_mode": {
    "name": "ipython",
    "version": 3
   },
   "file_extension": ".py",
   "mimetype": "text/x-python",
   "name": "python",
   "nbconvert_exporter": "python",
   "pygments_lexer": "ipython3",
   "version": "3.8.10"
  },
  "orig_nbformat": 4,
  "vscode": {
   "interpreter": {
    "hash": "916dbcbb3f70747c44a77c7bcd40155683ae19c65e1c03b4aa3499c5328201f1"
   }
  }
 },
 "nbformat": 4,
 "nbformat_minor": 2
}
