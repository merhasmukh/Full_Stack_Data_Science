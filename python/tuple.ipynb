{
 "cells": [
  {
   "cell_type": "code",
   "execution_count": 35,
   "id": "2fc10ea7-836f-483a-9dc1-cca27d3109c3",
   "metadata": {},
   "outputs": [
    {
     "data": {
      "text/plain": [
       "tuple"
      ]
     },
     "execution_count": 35,
     "metadata": {},
     "output_type": "execute_result"
    }
   ],
   "source": [
    "t=()\n",
    "type(t)"
   ]
  },
  {
   "cell_type": "code",
   "execution_count": 36,
   "id": "fd17a68a-a122-4e91-96bd-973868037273",
   "metadata": {},
   "outputs": [
    {
     "data": {
      "text/plain": [
       "('hasmukh', 34, 45, 23, 67, 6.7, 'mer')"
      ]
     },
     "execution_count": 36,
     "metadata": {},
     "output_type": "execute_result"
    }
   ],
   "source": [
    "t1=(\"hasmukh\",34,45,23,67,6.7,\"mer\")\n",
    "t1"
   ]
  },
  {
   "cell_type": "code",
   "execution_count": 37,
   "id": "7273a543-111d-4f74-bc69-fa2883564846",
   "metadata": {},
   "outputs": [
    {
     "data": {
      "text/plain": [
       "'mer'"
      ]
     },
     "execution_count": 37,
     "metadata": {},
     "output_type": "execute_result"
    }
   ],
   "source": [
    "t1[6]"
   ]
  },
  {
   "cell_type": "code",
   "execution_count": 38,
   "id": "d32d6627-6063-47c5-bfca-1e0d1c6351a2",
   "metadata": {},
   "outputs": [
    {
     "data": {
      "text/plain": [
       "('mer', 6.7, 67, 23, 45, 34, 'hasmukh')"
      ]
     },
     "execution_count": 38,
     "metadata": {},
     "output_type": "execute_result"
    }
   ],
   "source": [
    "t1[::-1]"
   ]
  },
  {
   "cell_type": "code",
   "execution_count": 39,
   "id": "e644da08-d817-4e6b-998b-c3f006d1c7a2",
   "metadata": {},
   "outputs": [
    {
     "data": {
      "text/plain": [
       "(34, 45, 23, 67)"
      ]
     },
     "execution_count": 39,
     "metadata": {},
     "output_type": "execute_result"
    }
   ],
   "source": [
    "t1[1:5]"
   ]
  },
  {
   "cell_type": "code",
   "execution_count": 40,
   "id": "907879e3-3c37-483a-821e-948fa3332525",
   "metadata": {},
   "outputs": [],
   "source": [
    "# t1[4]=\"hi\" "
   ]
  },
  {
   "cell_type": "code",
   "execution_count": 41,
   "id": "c5a03cf3-4b57-487f-82ad-4cbe0ceb6113",
   "metadata": {},
   "outputs": [
    {
     "data": {
      "text/plain": [
       "('hasmukh', 34, 45, 23, 67, 6.7, 'mer', 4, 5, 6, 7)"
      ]
     },
     "execution_count": 41,
     "metadata": {},
     "output_type": "execute_result"
    }
   ],
   "source": [
    "t2=(4,5,6,7)\n",
    "\n",
    "t1+t2"
   ]
  },
  {
   "cell_type": "code",
   "execution_count": 42,
   "id": "ff53a97b-fb5f-4d56-8fa4-b8a174c577ce",
   "metadata": {},
   "outputs": [
    {
     "data": {
      "text/plain": [
       "('hasmukh', 34, 45, 23, 67, 6.7, 'mer', 'hasmukh', 34, 45, 23, 67, 6.7, 'mer')"
      ]
     },
     "execution_count": 42,
     "metadata": {},
     "output_type": "execute_result"
    }
   ],
   "source": [
    "t1 * 2"
   ]
  },
  {
   "cell_type": "code",
   "execution_count": 43,
   "id": "b94a38d3-93c5-41c6-8fb5-64f70c1541fa",
   "metadata": {},
   "outputs": [
    {
     "data": {
      "text/plain": [
       "True"
      ]
     },
     "execution_count": 43,
     "metadata": {},
     "output_type": "execute_result"
    }
   ],
   "source": [
    "\"mer\" in t1"
   ]
  },
  {
   "cell_type": "code",
   "execution_count": 44,
   "id": "ca101691-0ad1-4fb0-b874-3ff800c0ef71",
   "metadata": {},
   "outputs": [
    {
     "data": {
      "text/plain": [
       "False"
      ]
     },
     "execution_count": 44,
     "metadata": {},
     "output_type": "execute_result"
    }
   ],
   "source": [
    "\"dsfasfd\" in t1"
   ]
  },
  {
   "cell_type": "code",
   "execution_count": 45,
   "id": "c8eb6288-0a87-4a6c-9a42-dfba5248dfc6",
   "metadata": {},
   "outputs": [],
   "source": [
    "# max(t1)"
   ]
  },
  {
   "cell_type": "code",
   "execution_count": 46,
   "id": "fb2cfaa8-7cd5-45f1-b17d-c389b26b51b9",
   "metadata": {},
   "outputs": [
    {
     "data": {
      "text/plain": [
       "8765"
      ]
     },
     "execution_count": 46,
     "metadata": {},
     "output_type": "execute_result"
    }
   ],
   "source": [
    "t2=(1,45,6,7,7,888,8765)\n",
    "max(t2)"
   ]
  },
  {
   "cell_type": "code",
   "execution_count": 47,
   "id": "e5091cc6-5e87-4efb-bf9a-8099f4b79bec",
   "metadata": {},
   "outputs": [
    {
     "data": {
      "text/plain": [
       "2"
      ]
     },
     "execution_count": 47,
     "metadata": {},
     "output_type": "execute_result"
    }
   ],
   "source": [
    "t2.count(7)"
   ]
  },
  {
   "cell_type": "code",
   "execution_count": 48,
   "id": "65bc16c5-3db9-4eae-9d2b-ce7b59069c39",
   "metadata": {},
   "outputs": [
    {
     "data": {
      "text/plain": [
       "1"
      ]
     },
     "execution_count": 48,
     "metadata": {},
     "output_type": "execute_result"
    }
   ],
   "source": [
    "t2.count(45)"
   ]
  },
  {
   "cell_type": "code",
   "execution_count": 49,
   "id": "4100cd22-7878-4338-95b9-1beb7fafc2b4",
   "metadata": {},
   "outputs": [
    {
     "data": {
      "text/plain": [
       "3"
      ]
     },
     "execution_count": 49,
     "metadata": {},
     "output_type": "execute_result"
    }
   ],
   "source": [
    "t2.index(7)"
   ]
  },
  {
   "cell_type": "code",
   "execution_count": 50,
   "id": "8b5c9a46-1a61-45a9-b244-7a71d5eec747",
   "metadata": {},
   "outputs": [
    {
     "data": {
      "text/plain": [
       "1"
      ]
     },
     "execution_count": 50,
     "metadata": {},
     "output_type": "execute_result"
    }
   ],
   "source": [
    "min(t2)"
   ]
  },
  {
   "cell_type": "code",
   "execution_count": 51,
   "id": "614bee8b-b0d9-4ff8-8606-336892aa1011",
   "metadata": {},
   "outputs": [
    {
     "data": {
      "text/plain": [
       "('hasmukh', 34, 45, 23, 67, 6.7, 'mer')"
      ]
     },
     "execution_count": 51,
     "metadata": {},
     "output_type": "execute_result"
    }
   ],
   "source": [
    "t1"
   ]
  },
  {
   "cell_type": "code",
   "execution_count": 52,
   "id": "233dc982-28e6-4ea9-8af1-8fc43b34b7b1",
   "metadata": {},
   "outputs": [
    {
     "data": {
      "text/plain": [
       "('hasmukh', 34, 45, 'sarva', 23, 67, 6.7, 'mer')"
      ]
     },
     "execution_count": 52,
     "metadata": {},
     "output_type": "execute_result"
    }
   ],
   "source": [
    "t3=list(t1)\n",
    "t3.insert(3,\"sarva\")\n",
    "t1=tuple(t3)\n",
    "t1"
   ]
  },
  {
   "cell_type": "code",
   "execution_count": 53,
   "id": "0ef656eb-d579-4f46-bd24-cd17ab315b84",
   "metadata": {},
   "outputs": [],
   "source": [
    "t=((4,5,6,7,8),[\"hasmukh\",56,67,89],98,3434,[1,2,3,4,45])\n"
   ]
  },
  {
   "cell_type": "code",
   "execution_count": 54,
   "id": "5cb80485-7cd2-452f-9556-4606048b8d6e",
   "metadata": {},
   "outputs": [
    {
     "data": {
      "text/plain": [
       "2"
      ]
     },
     "execution_count": 54,
     "metadata": {},
     "output_type": "execute_result"
    }
   ],
   "source": [
    "t[4][1]"
   ]
  },
  {
   "cell_type": "code",
   "execution_count": 55,
   "id": "e6baeb28-52d5-4c56-ae3d-43301d7375ca",
   "metadata": {},
   "outputs": [
    {
     "data": {
      "text/plain": [
       "'hasmukh'"
      ]
     },
     "execution_count": 55,
     "metadata": {},
     "output_type": "execute_result"
    }
   ],
   "source": [
    "t[1][0]"
   ]
  },
  {
   "cell_type": "code",
   "execution_count": 56,
   "id": "599574e2-dd0e-4b55-a2ff-a7b1d647ca01",
   "metadata": {},
   "outputs": [
    {
     "data": {
      "text/plain": [
       "((4, 5, 6, 7, 8), ['hasmukh', 56, 67, 89], 98, 3434, [1, 2, 3, 4, 45])"
      ]
     },
     "execution_count": 56,
     "metadata": {},
     "output_type": "execute_result"
    }
   ],
   "source": [
    "t"
   ]
  },
  {
   "cell_type": "code",
   "execution_count": 57,
   "id": "76416f60-cd23-48ae-b767-9bbc86aaf8db",
   "metadata": {},
   "outputs": [
    {
     "name": "stdout",
     "output_type": "stream",
     "text": [
      "(4, 5, 6, 7, 8)\n",
      "['hasmukh', 56, 67, 89]\n",
      "98\n",
      "3434\n",
      "[1, 2, 3, 4, 45]\n"
     ]
    }
   ],
   "source": [
    "for i in t:\n",
    "    print(i)"
   ]
  },
  {
   "cell_type": "code",
   "execution_count": 58,
   "id": "b4553069-88b4-4327-9ed6-44f9448b193b",
   "metadata": {},
   "outputs": [
    {
     "data": {
      "text/plain": [
       "('hasmukh', 34, 45, 'sarva', 23, 67, 6.7, 'mer')"
      ]
     },
     "execution_count": 58,
     "metadata": {},
     "output_type": "execute_result"
    }
   ],
   "source": [
    "t1"
   ]
  },
  {
   "cell_type": "code",
   "execution_count": 59,
   "id": "a7cb3d59-4c24-4143-b595-1762a83f39fa",
   "metadata": {},
   "outputs": [
    {
     "name": "stdin",
     "output_type": "stream",
     "text": [
      "enter your name mer\n"
     ]
    },
    {
     "name": "stdout",
     "output_type": "stream",
     "text": [
      "your name is present in tuple\n"
     ]
    }
   ],
   "source": [
    "i=input(\"enter your name\")\n",
    "\n",
    "\n",
    "if i in t1:\n",
    "    print(\"your name is present in tuple\")\n",
    "else:\n",
    "    print(\"your name is not present \")"
   ]
  },
  {
   "cell_type": "code",
   "execution_count": 60,
   "id": "3a896d51-7319-4b99-bfa7-58a7b3e5676d",
   "metadata": {},
   "outputs": [],
   "source": [
    "del(t)"
   ]
  },
  {
   "cell_type": "code",
   "execution_count": 61,
   "id": "422e007f-381c-42e0-9de1-3cab4532c8cf",
   "metadata": {},
   "outputs": [
    {
     "ename": "NameError",
     "evalue": "name 't' is not defined",
     "output_type": "error",
     "traceback": [
      "\u001b[0;31m---------------------------------------------------------------------------\u001b[0m",
      "\u001b[0;31mNameError\u001b[0m                                 Traceback (most recent call last)",
      "Input \u001b[0;32mIn [61]\u001b[0m, in \u001b[0;36m<cell line: 1>\u001b[0;34m()\u001b[0m\n\u001b[0;32m----> 1\u001b[0m \u001b[43mt\u001b[49m\n",
      "\u001b[0;31mNameError\u001b[0m: name 't' is not defined"
     ]
    }
   ],
   "source": [
    "t"
   ]
  },
  {
   "cell_type": "code",
   "execution_count": null,
   "id": "68521d05-5cbb-46bc-a181-5389f85bc885",
   "metadata": {},
   "outputs": [],
   "source": []
  }
 ],
 "metadata": {
  "kernelspec": {
   "display_name": "Python 3 (ipykernel)",
   "language": "python",
   "name": "python3"
  },
  "language_info": {
   "codemirror_mode": {
    "name": "ipython",
    "version": 3
   },
   "file_extension": ".py",
   "mimetype": "text/x-python",
   "name": "python",
   "nbconvert_exporter": "python",
   "pygments_lexer": "ipython3",
   "version": "3.9.12"
  }
 },
 "nbformat": 4,
 "nbformat_minor": 5
}
