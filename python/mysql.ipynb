{
 "cells": [
  {
   "cell_type": "code",
   "execution_count": 2,
   "metadata": {},
   "outputs": [],
   "source": [
    "import mysql.connector as connection"
   ]
  },
  {
   "cell_type": "code",
   "execution_count": 8,
   "metadata": {},
   "outputs": [
    {
     "name": "stdout",
     "output_type": "stream",
     "text": [
      "[('information_schema',), ('mysql',), ('performance_schema',), ('sys',)]\n"
     ]
    }
   ],
   "source": [
    "import mysql.connector as connection\n",
    "\n",
    "try:\n",
    "    mydb=connection.connect(host=\"localhost\",user=\"root\",passwd=\"password\",use_pure=True)\n",
    "    query=\"show databases;\"\n",
    "\n",
    "    cursor=mydb.cursor()\n",
    "    cursor.execute(query)\n",
    "    print(cursor.fetchall())\n",
    "except Exception as e:\n",
    "    print(e)\n",
    "    mydb.close()\n"
   ]
  },
  {
   "cell_type": "code",
   "execution_count": 22,
   "metadata": {},
   "outputs": [],
   "source": [
    "conn=connection.connect(host=\"localhost\",user=\"root\",passwd=\"password\",use_pure=True)\n",
    "cursor=conn.cursor()\n",
    "cursor.execute(\"show databases\")\n",
    "res= cursor.fetchall()\n",
    "\n"
   ]
  },
  {
   "cell_type": "code",
   "execution_count": 23,
   "metadata": {},
   "outputs": [],
   "source": [
    "res= cursor.fetchall()\n",
    "# cursor.fetchall()"
   ]
  },
  {
   "cell_type": "code",
   "execution_count": 24,
   "metadata": {},
   "outputs": [
    {
     "data": {
      "text/plain": [
       "[('information_schema',), ('mysql',), ('performance_schema',), ('sys',)]"
      ]
     },
     "execution_count": 24,
     "metadata": {},
     "output_type": "execute_result"
    }
   ],
   "source": [
    "res"
   ]
  },
  {
   "cell_type": "code",
   "execution_count": 27,
   "metadata": {},
   "outputs": [
    {
     "data": {
      "text/plain": [
       "'information_schema'"
      ]
     },
     "execution_count": 27,
     "metadata": {},
     "output_type": "execute_result"
    }
   ],
   "source": [
    "res[0][0]"
   ]
  },
  {
   "cell_type": "code",
   "execution_count": 32,
   "metadata": {},
   "outputs": [
    {
     "name": "stdout",
     "output_type": "stream",
     "text": [
      "information_schema\n",
      "mysql\n",
      "performance_schema\n",
      "sys\n"
     ]
    }
   ],
   "source": [
    "for i in res:\n",
    "    print(i[0])"
   ]
  },
  {
   "cell_type": "code",
   "execution_count": 33,
   "metadata": {},
   "outputs": [
    {
     "name": "stdout",
     "output_type": "stream",
     "text": [
      "databse created..!!\n"
     ]
    }
   ],
   "source": [
    "import mysql.connector as connection\n",
    "\n",
    "try:\n",
    "    mydb=connection.connect(host=\"localhost\",user=\"root\",passwd=\"password\",use_pure=True)\n",
    "    query=\"create database student;\"\n",
    "\n",
    "    cursor=mydb.cursor()\n",
    "    cursor.execute(query)\n",
    "    print(\"databse created..!!\")\n",
    "    mydb.close()\n",
    "    # print(cursor.fetchall())\n",
    "except Exception as e:\n",
    "    print(e)\n",
    "    mydb.close()\n"
   ]
  },
  {
   "cell_type": "code",
   "execution_count": 34,
   "metadata": {},
   "outputs": [],
   "source": [
    "conn=connection.connect(host=\"localhost\",user=\"root\",passwd=\"password\",use_pure=True)\n",
    "cursor=conn.cursor()\n",
    "cursor.execute(\"show databases\")\n",
    "res= cursor.fetchall()\n",
    "res"
   ]
  },
  {
   "cell_type": "code",
   "execution_count": 35,
   "metadata": {},
   "outputs": [
    {
     "data": {
      "text/plain": [
       "[('information_schema',),\n",
       " ('mysql',),\n",
       " ('performance_schema',),\n",
       " ('student',),\n",
       " ('sys',)]"
      ]
     },
     "execution_count": 35,
     "metadata": {},
     "output_type": "execute_result"
    }
   ],
   "source": []
  },
  {
   "cell_type": "code",
   "execution_count": 38,
   "metadata": {},
   "outputs": [
    {
     "name": "stdout",
     "output_type": "stream",
     "text": [
      "True\n"
     ]
    }
   ],
   "source": [
    "import mysql.connector as connection \n",
    "\n",
    "try:\n",
    "    mydb=connection.connect(host=\"localhost\",database=\"student\",user=\"root\",passwd=\"password\",use_pure=True)\n",
    "\n",
    "    print(mydb.is_connected())\n",
    "\n",
    "    query=\"create table StudentDetails (Studentid INT(10) AUTO_INCREMENT PRIMARY KEY , FirstName VARCHAR(60),\" \\\n",
    "        \"LastName VARCHAR(60), RegistrationDate DATE,Class VARCHAR(20), Section VARCHAR(10))\"\n",
    "\n",
    "    cursor = mydb.cursor()\n",
    "    cursor.execute(query)\n",
    "    mydb.close()\n",
    "\n",
    "except Exception as e:\n",
    "    mydb.close()\n",
    "    print(str(e))"
   ]
  },
  {
   "cell_type": "code",
   "execution_count": 39,
   "metadata": {},
   "outputs": [
    {
     "data": {
      "text/plain": [
       "[('information_schema',),\n",
       " ('mysql',),\n",
       " ('performance_schema',),\n",
       " ('student',),\n",
       " ('sys',)]"
      ]
     },
     "execution_count": 39,
     "metadata": {},
     "output_type": "execute_result"
    }
   ],
   "source": [
    "conn=connection.connect(host=\"localhost\",user=\"root\",passwd=\"password\",use_pure=True)\n",
    "cursor=conn.cursor()\n",
    "cursor.execute(\"show databases\")\n",
    "res= cursor.fetchall()\n",
    "res"
   ]
  },
  {
   "cell_type": "code",
   "execution_count": 40,
   "metadata": {},
   "outputs": [
    {
     "name": "stdout",
     "output_type": "stream",
     "text": [
      "True\n"
     ]
    }
   ],
   "source": [
    "import mysql.connector as connection \n",
    "\n",
    "try:\n",
    "    mydb=connection.connect(host=\"localhost\",database=\"student\",user=\"root\",passwd=\"password\",use_pure=True)\n",
    "\n",
    "    print(mydb.is_connected())\n",
    "\n",
    "    query=\"create table test (x1 INT(5),x2 VARCHAR(20),x3 DATE)\"\n",
    "\n",
    "    cursor = mydb.cursor()\n",
    "    cursor.execute(query)\n",
    "    mydb.close()\n",
    "\n",
    "except Exception as e:\n",
    "    mydb.close()\n",
    "    print(str(e))"
   ]
  },
  {
   "cell_type": "code",
   "execution_count": 44,
   "metadata": {},
   "outputs": [
    {
     "name": "stdout",
     "output_type": "stream",
     "text": [
      "True\n",
      "[]\n"
     ]
    }
   ],
   "source": [
    "import mysql.connector as connection \n",
    "\n",
    "try:\n",
    "    mydb=connection.connect(host=\"localhost\",database=\"student\",user=\"root\",passwd=\"password\",use_pure=True)\n",
    "\n",
    "    print(mydb.is_connected())\n",
    "\n",
    "    query=\"select * from test\"\n",
    "\n",
    "    cursor = mydb.cursor()\n",
    "    cursor.execute(query)\n",
    "    print(cursor.fetchall())\n",
    "\n",
    "    mydb.close()\n",
    "\n",
    "except Exception as e:\n",
    "    mydb.close()\n",
    "    print(str(e))"
   ]
  },
  {
   "cell_type": "code",
   "execution_count": 48,
   "metadata": {},
   "outputs": [
    {
     "name": "stdout",
     "output_type": "stream",
     "text": [
      "True\n",
      "[]\n"
     ]
    }
   ],
   "source": [
    "import mysql.connector as connection \n",
    "\n",
    "try:\n",
    "    mydb=connection.connect(host=\"localhost\",database=\"student\",user=\"root\",passwd=\"password\",use_pure=True)\n",
    "\n",
    "    print(mydb.is_connected())\n",
    "\n",
    "    query=\"insert into test values(100,'hasmukh','2022-10-25')\"\n",
    "\n",
    "    cursor = mydb.cursor()\n",
    "    cursor.execute(query)\n",
    "    mydb.commit()\n",
    "    print(cursor.fetchall())\n",
    "\n",
    "    mydb.close()\n",
    "\n",
    "except Exception as e:\n",
    "    mydb.close()\n",
    "    print(str(e))"
   ]
  },
  {
   "cell_type": "code",
   "execution_count": 1,
   "metadata": {},
   "outputs": [
    {
     "name": "stdout",
     "output_type": "stream",
     "text": [
      "True\n",
      "[(100, 'hasmukh', datetime.date(2022, 10, 25))]\n"
     ]
    }
   ],
   "source": [
    "import mysql.connector as connection \n",
    "\n",
    "try:\n",
    "    mydb=connection.connect(host=\"localhost\",database=\"student\",user=\"root\",passwd=\"password\",use_pure=True)\n",
    "\n",
    "    print(mydb.is_connected())\n",
    "\n",
    "    query=\"select * from test\"\n",
    "\n",
    "    cursor = mydb.cursor()\n",
    "    cursor.execute(query)\n",
    "    print(cursor.fetchall())\n",
    "\n",
    "    mydb.close()\n",
    "\n",
    "except Exception as e:\n",
    "    mydb.close()\n",
    "    print(str(e))"
   ]
  },
  {
   "cell_type": "code",
   "execution_count": 2,
   "metadata": {},
   "outputs": [
    {
     "ename": "ModuleNotFoundError",
     "evalue": "No module named 'pandas'",
     "output_type": "error",
     "traceback": [
      "\u001b[0;31m---------------------------------------------------------------------------\u001b[0m",
      "\u001b[0;31mModuleNotFoundError\u001b[0m                       Traceback (most recent call last)",
      "Cell \u001b[0;32mIn [2], line 1\u001b[0m\n\u001b[0;32m----> 1\u001b[0m \u001b[39mimport\u001b[39;00m \u001b[39mpandas\u001b[39;00m \u001b[39mas\u001b[39;00m \u001b[39mpd\u001b[39;00m\n",
      "\u001b[0;31mModuleNotFoundError\u001b[0m: No module named 'pandas'"
     ]
    }
   ],
   "source": [
    "import pandas as pd"
   ]
  },
  {
   "cell_type": "code",
   "execution_count": null,
   "metadata": {},
   "outputs": [],
   "source": []
  }
 ],
 "metadata": {
  "kernelspec": {
   "display_name": "Python 3.8.10 ('venv': venv)",
   "language": "python",
   "name": "python3"
  },
  "language_info": {
   "codemirror_mode": {
    "name": "ipython",
    "version": 3
   },
   "file_extension": ".py",
   "mimetype": "text/x-python",
   "name": "python",
   "nbconvert_exporter": "python",
   "pygments_lexer": "ipython3",
   "version": "3.8.10"
  },
  "orig_nbformat": 4,
  "vscode": {
   "interpreter": {
    "hash": "af46c2aa278825b7a34ad5ad00f0f724421c31409a90988f8a01623591b12991"
   }
  }
 },
 "nbformat": 4,
 "nbformat_minor": 2
}
