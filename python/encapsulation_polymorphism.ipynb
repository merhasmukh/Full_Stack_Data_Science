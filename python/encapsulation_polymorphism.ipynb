{
 "cells": [
  {
   "cell_type": "code",
   "execution_count": 2,
   "id": "d582202c-8c33-46e2-b06a-188927fe3bac",
   "metadata": {},
   "outputs": [],
   "source": [
    "class test:\n",
    "    def __init__(self,a,b,c):\n",
    "        self.a=a\n",
    "        self.b=b\n",
    "        self.c=c\n",
    "        \n",
    "    def __str__(self):\n",
    "        return \"this is  the return form my test class\"\n",
    "    \n",
    "    \n",
    "    \n",
    "class test1:\n",
    "    def __init__(self,a,b,c):\n",
    "        self.a=a\n",
    "        self.b=b\n",
    "        self.c=c\n",
    "        \n",
    "    def __str__(self):\n",
    "        return \"this is  the return form my test1 class\"\n",
    "    \n",
    "    \n",
    "class test2:\n",
    "    def __init__(self,a,b,c):\n",
    "        self.a=a\n",
    "        self.b=b\n",
    "        self.c=c\n",
    "        \n",
    "    def __str__(self):\n",
    "        return \"this is  the return form my test2 class\"\n",
    "    \n",
    "class final:\n",
    "    def __init__(self,x,y,z):\n",
    "        self.x=x\n",
    "        self.y=y\n",
    "        self.z=z\n",
    "        \n",
    "    def __str__(self):\n",
    "        return str(self.x)+\"\\n\"+str(self.y)+\"\\n\"+str(self.z)"
   ]
  },
  {
   "cell_type": "code",
   "execution_count": 3,
   "id": "bfddb880-ebdf-4ec6-a03a-27ea27c57883",
   "metadata": {},
   "outputs": [],
   "source": [
    "t=test(4,5,6)\n",
    "t1=test1(7,8,9)\n",
    "t2=test2(10,4,5)"
   ]
  },
  {
   "cell_type": "code",
   "execution_count": 4,
   "id": "b059515d-9bf0-4246-94ab-fa2f495c6949",
   "metadata": {},
   "outputs": [],
   "source": [
    "f=final(t,t1,t2)"
   ]
  },
  {
   "cell_type": "code",
   "execution_count": 5,
   "id": "6f059d6a-6361-47a2-b545-e195dcb6a1d4",
   "metadata": {},
   "outputs": [
    {
     "name": "stdout",
     "output_type": "stream",
     "text": [
      "this is  the return form my test class\n",
      "this is  the return form my test1 class\n",
      "this is  the return form my test2 class\n"
     ]
    }
   ],
   "source": [
    "print(f)"
   ]
  },
  {
   "cell_type": "code",
   "execution_count": 7,
   "id": "2f1d2558-9cd6-4667-902f-122ceb992b64",
   "metadata": {},
   "outputs": [],
   "source": [
    "class  Tyres:\n",
    "    def __init__(self,branch,belted_bias,opt_pressure):\n",
    "        self.branch=branch\n",
    "        self.belted_bias=belted_bias\n",
    "        self.opt_pressure=opt_pressure\n",
    "    \n",
    "    def __str__(self):\n",
    "        return (\"Tyre: \\n \\tBranch: \" + self.branch+\n",
    "                \"\\n \\tBelted-bias:\"+ str(self.belted_bias)+\n",
    "                \"\\n \\tOptimal pressure: \" + str(self.opt_pressure))\n",
    "    \n",
    "\n",
    "class Engine:\n",
    "    def __init__(self,fuel_type,noise_level):\n",
    "        self.fuel_type=fuel_type\n",
    "        self.noise_level=noise_level\n",
    "    \n",
    "    def __str__(self):\n",
    "        return (\"Engine: \\n \\tFuel type: \" + self.fuel_type +\n",
    "                \"\\n \\tNoise level: \" + str(self.noise_level))\n",
    "    \n",
    "\n",
    "class Body:\n",
    "    def __init__(self,size):\n",
    "        self.size=size\n",
    "    \n",
    "    def __str__(self):\n",
    "        return \"Body: \\n \\tSize: \" + self.size\n",
    "\n",
    "\n",
    "class Car:\n",
    "    def __init__(self,tyres,engine,body):\n",
    "        self.tyres=tyres\n",
    "        self.engine=engine\n",
    "        self.body=body\n",
    "        \n",
    "    def __str__(self):\n",
    "        return str(self.tyres)+ \"\\n\" +str(self.engine)+ \"\\n\" + str(self.body)"
   ]
  },
  {
   "cell_type": "code",
   "execution_count": 8,
   "id": "c13d3fa9-366c-42ca-bd01-6a5d580d822b",
   "metadata": {},
   "outputs": [
    {
     "name": "stdout",
     "output_type": "stream",
     "text": [
      "Tyre: \n",
      " \tBranch: Pireli\n",
      " \tBelted-bias:True\n",
      " \tOptimal pressure: 2.0\n",
      "Engine: \n",
      " \tFuel type: Diesel\n",
      " \tNoise level: 3\n",
      "Body: \n",
      " \tSize: Medium\n"
     ]
    }
   ],
   "source": [
    "t=Tyres(\"Pireli\",True,2.0)\n",
    "e=Engine(\"Diesel\",3)\n",
    "b=Body(\"Medium\")\n",
    "c=Car(t,e,b)\n",
    "print(c)"
   ]
  },
  {
   "cell_type": "code",
   "execution_count": 10,
   "id": "ae71824e-a749-4c07-9fce-f7940a508a29",
   "metadata": {},
   "outputs": [
    {
     "name": "stdout",
     "output_type": "stream",
     "text": [
      "sdfsd is a Laika born in 1958.\n"
     ]
    }
   ],
   "source": [
    "class Dog:\n",
    "    def __init__(self,name,year_of_birth,breed):\n",
    "        self._name=name\n",
    "        self._year_of_birth=year_of_birth\n",
    "        self._breed=breed\n",
    "        \n",
    "    def __str__(self):\n",
    "        return \"%s is a %s born in %d.\"%(self._name,self._breed,self._year_of_birth)\n",
    "    \n",
    "\n",
    "dfsdffd=Dog(\"sdfsd\",1958,\"Laika\")\n",
    "print(dfsdffd)"
   ]
  },
  {
   "cell_type": "code",
   "execution_count": 15,
   "id": "4c911498-6ec5-4c65-8a45-6196ba5fff00",
   "metadata": {},
   "outputs": [],
   "source": [
    "class student:\n",
    "    def __init__(self,name,student_id,school_name,address):\n",
    "        self.name=name\n",
    "        self.student_id=student_id\n",
    "        self.school_name=school_name\n",
    "        self.address=address\n",
    "        \n",
    "    def __str__(self):\n",
    "        return str(self.name)+\" \"+str(self.student_id)+\" \"+ str(self.school_name)+ \" \" + str(self.address)"
   ]
  },
  {
   "cell_type": "code",
   "execution_count": 16,
   "id": "81ac158b-69eb-4cbe-b1b1-ea788ce0e06f",
   "metadata": {},
   "outputs": [
    {
     "name": "stdout",
     "output_type": "stream",
     "text": [
      "hasmukh 4545 iNeuron ahmedabad\n"
     ]
    }
   ],
   "source": [
    "stu=student(\"hasmukh\",4545,\"iNeuron\",\"ahmedabad\")\n",
    "print(stu)\n"
   ]
  },
  {
   "cell_type": "code",
   "execution_count": 21,
   "id": "21990b42-b28e-4cee-81fd-428ecfb288e0",
   "metadata": {},
   "outputs": [
    {
     "name": "stdout",
     "output_type": "stream",
     "text": [
      "sdfsd is a Laika born in 1958. 45 dog_sch sdsd\n"
     ]
    }
   ],
   "source": [
    "dog=student(dfsdffd,45,\"dog_sch\",\"sdsd\")\n",
    "print(dog)"
   ]
  },
  {
   "cell_type": "code",
   "execution_count": 22,
   "id": "83385913-6c87-47d9-921c-a11185d0466a",
   "metadata": {},
   "outputs": [],
   "source": [
    "class BonusDistribution:\n",
    "    \n",
    "    def __init__(self,employeeId,employeeRating):\n",
    "        self.empId=employeeId\n",
    "        self.empRating=employeeRating\n",
    "        self.__bonusforRatingA=\"70%\"\n",
    "        self.__bonusforRatingB=\"60%\"\n",
    "        self.__bonusforRatingC=\"50%\"\n",
    "        self.__bonusforRatingD=\"40%\"\n",
    "        self.__bonusforRatingForRest=\"No Bonus\"\n",
    "        \n",
    "        \n",
    "    def bonusCalculator(self):\n",
    "        \n",
    "        if self.empRating=='A':\n",
    "            bonus=self.__bonusforRatingA\n",
    "            msg = \"Bonus for this employee is :\" + bonus\n",
    "            return msg\n",
    "        elif self.empRating=='B':\n",
    "            bonus=self.__bonusforRatingB\n",
    "            msg = \"Bonus for this employee is :\" + bonus\n",
    "            return msg\n",
    "        elif self.empRating=='C':\n",
    "            bonus=self.__bonusforRatingC\n",
    "            msg = \"Bonus for this employee is :\" + bonus\n",
    "            return msg\n",
    "        elif self.empRating=='D':\n",
    "            bonus=self.__bonusforRatingD\n",
    "            msg = \"Bonus for this employee is :\" + bonus\n",
    "            return msg\n",
    "        else:\n",
    "\n",
    "            bonus=self.__bonusforRatingForRest\n",
    "            msg = \"Bonus for this employee is :\" + bonus\n",
    "            return msg\n",
    "            \n",
    "        \n",
    "        \n",
    "        \n",
    "    "
   ]
  },
  {
   "cell_type": "code",
   "execution_count": 24,
   "id": "f089591a-7a3c-4c35-970e-4a7d94e34836",
   "metadata": {},
   "outputs": [],
   "source": [
    "emp1=BonusDistribution(405,\"B\")\n",
    "emp2=BonusDistribution(402,\"A\")\n",
    "emp3=BonusDistribution(403,\"D\")\n",
    "emp4=BonusDistribution(401,\"E\")\n",
    "\n"
   ]
  },
  {
   "cell_type": "code",
   "execution_count": 26,
   "id": "12205341-950f-4c86-9df8-0ae855a35fc5",
   "metadata": {},
   "outputs": [
    {
     "data": {
      "text/plain": [
       "'Bonus for this employee is :70%'"
      ]
     },
     "execution_count": 26,
     "metadata": {},
     "output_type": "execute_result"
    }
   ],
   "source": [
    "emp2.bonusCalculator()"
   ]
  },
  {
   "cell_type": "code",
   "execution_count": 27,
   "id": "418cf362-500a-421e-8b51-5114a8647ae4",
   "metadata": {},
   "outputs": [
    {
     "data": {
      "text/plain": [
       "'Bonus for this employee is :60%'"
      ]
     },
     "execution_count": 27,
     "metadata": {},
     "output_type": "execute_result"
    }
   ],
   "source": [
    "emp1.bonusCalculator()"
   ]
  },
  {
   "cell_type": "code",
   "execution_count": 29,
   "id": "4cb21cff-4ab6-4e02-a714-ff85bbf345f7",
   "metadata": {},
   "outputs": [],
   "source": [
    "emp1._bonusforRatingB=\"90%\""
   ]
  },
  {
   "cell_type": "code",
   "execution_count": 30,
   "id": "dbc25f36-f767-4a64-bf8c-9af803f35d28",
   "metadata": {},
   "outputs": [
    {
     "data": {
      "text/plain": [
       "'Bonus for this employee is :60%'"
      ]
     },
     "execution_count": 30,
     "metadata": {},
     "output_type": "execute_result"
    }
   ],
   "source": [
    "emp1.bonusCalculator()"
   ]
  },
  {
   "cell_type": "code",
   "execution_count": 31,
   "id": "aafbeb5f-3a65-48dd-9a79-bcf34a4fafe7",
   "metadata": {},
   "outputs": [],
   "source": [
    "emp1.__bonusforRatingB=\"90%\""
   ]
  },
  {
   "cell_type": "code",
   "execution_count": 32,
   "id": "da5f9189-2bde-40a6-98aa-7f32ea408014",
   "metadata": {},
   "outputs": [
    {
     "data": {
      "text/plain": [
       "'Bonus for this employee is :60%'"
      ]
     },
     "execution_count": 32,
     "metadata": {},
     "output_type": "execute_result"
    }
   ],
   "source": [
    "emp1.bonusCalculator()"
   ]
  },
  {
   "cell_type": "code",
   "execution_count": 34,
   "id": "a7999394-b69b-4210-82dc-76953294054c",
   "metadata": {},
   "outputs": [],
   "source": [
    "emp1._BonusDistribution__bonusforRatingB=\"90%\""
   ]
  },
  {
   "cell_type": "code",
   "execution_count": 35,
   "id": "02a186e9-2191-439b-bdb6-647c6a579d08",
   "metadata": {},
   "outputs": [
    {
     "data": {
      "text/plain": [
       "'Bonus for this employee is :90%'"
      ]
     },
     "execution_count": 35,
     "metadata": {},
     "output_type": "execute_result"
    }
   ],
   "source": [
    "emp1.bonusCalculator()"
   ]
  },
  {
   "cell_type": "code",
   "execution_count": 1,
   "id": "cb4c8c38-51e6-45e0-8a77-aacb5cfd881c",
   "metadata": {},
   "outputs": [],
   "source": [
    "class BonusDistribution:\n",
    "    \n",
    "    def __init__(self,employeeId,employeeRating):\n",
    "        self.empId=employeeId\n",
    "        self.empRating=employeeRating\n",
    "        self.__bonusforRatingA=\"70%\"\n",
    "        self.__bonusforRatingB=\"60%\"\n",
    "        self.__bonusforRatingC=\"50%\"\n",
    "        self.__bonusforRatingD=\"40%\"\n",
    "        self.__bonusforRatingForRest=\"No Bonus\"\n",
    "        \n",
    "        \n",
    "    def bonusCalculator(self):\n",
    "        \n",
    "        if self.empRating=='A':\n",
    "            bonus=self.__bonusforRatingA\n",
    "            msg = \"Bonus for this employee is :\" + bonus\n",
    "            return msg\n",
    "        elif self.empRating=='B':\n",
    "            bonus=self.__bonusforRatingB\n",
    "            msg = \"Bonus for this employee is :\" + bonus\n",
    "            return msg\n",
    "        elif self.empRating=='C':\n",
    "            bonus=self.__bonusforRatingC\n",
    "            msg = \"Bonus for this employee is :\" + bonus\n",
    "            return msg\n",
    "        elif self.empRating=='D':\n",
    "            bonus=self.__bonusforRatingD\n",
    "            msg = \"Bonus for this employee is :\" + bonus\n",
    "            return msg\n",
    "        else:\n",
    "\n",
    "            bonus=self.__bonusforRatingForRest\n",
    "            msg = \"Bonus for this employee is :\" + bonus\n",
    "            return msg\n",
    "    def changeVariable(self,value):\n",
    "        self.__bonusforRatingB=value\n",
    "        "
   ]
  },
  {
   "cell_type": "code",
   "execution_count": 2,
   "id": "d6bd07fc-5d4a-4ffb-a0e7-9b5d8cca6061",
   "metadata": {},
   "outputs": [],
   "source": [
    "emp1=BonusDistribution(405,\"B\")\n",
    "emp2=BonusDistribution(402,\"A\")"
   ]
  },
  {
   "cell_type": "code",
   "execution_count": 3,
   "id": "b92d995f-c9e2-40e0-8059-1dfa47bcd07a",
   "metadata": {},
   "outputs": [],
   "source": [
    "emp1.changeVariable(\"95%\")"
   ]
  },
  {
   "cell_type": "code",
   "execution_count": 5,
   "id": "71033d0b-2bb9-4d40-bef2-bf95c2fdec4f",
   "metadata": {},
   "outputs": [
    {
     "data": {
      "text/plain": [
       "'Bonus for this employee is :95%'"
      ]
     },
     "execution_count": 5,
     "metadata": {},
     "output_type": "execute_result"
    }
   ],
   "source": [
    "emp1.bonusCalculator()"
   ]
  },
  {
   "cell_type": "code",
   "execution_count": 6,
   "id": "aef0304c-e888-440c-b42a-472ace757db7",
   "metadata": {},
   "outputs": [],
   "source": [
    "emp1=BonusDistribution(405,\"B\")\n",
    "emp2=BonusDistribution(402,\"B\")"
   ]
  },
  {
   "cell_type": "code",
   "execution_count": 7,
   "id": "11362fad-9ad2-46ac-a6a9-1d00d3936a33",
   "metadata": {},
   "outputs": [
    {
     "data": {
      "text/plain": [
       "'Bonus for this employee is :60%'"
      ]
     },
     "execution_count": 7,
     "metadata": {},
     "output_type": "execute_result"
    }
   ],
   "source": [
    "emp2.bonusCalculator()"
   ]
  },
  {
   "cell_type": "code",
   "execution_count": 8,
   "id": "b6c0c480-8313-4692-920e-9ba93dd5db81",
   "metadata": {},
   "outputs": [],
   "source": [
    "class multiplynumeric():\n",
    "    def __init__(self,a):\n",
    "        self.a=a"
   ]
  },
  {
   "cell_type": "code",
   "execution_count": 10,
   "id": "9c072170-206a-4c8a-82ba-6ef2a79e1d0a",
   "metadata": {},
   "outputs": [],
   "source": [
    "mul=multiplynumeric(9)\n",
    "mul2=multiplynumeric(10)"
   ]
  },
  {
   "cell_type": "code",
   "execution_count": 11,
   "id": "fcc3027a-50d2-4806-9ed2-2e97d53d90ad",
   "metadata": {},
   "outputs": [
    {
     "ename": "TypeError",
     "evalue": "unsupported operand type(s) for *: 'multiplynumeric' and 'multiplynumeric'",
     "output_type": "error",
     "traceback": [
      "\u001b[0;31m---------------------------------------------------------------------------\u001b[0m",
      "\u001b[0;31mTypeError\u001b[0m                                 Traceback (most recent call last)",
      "Input \u001b[0;32mIn [11]\u001b[0m, in \u001b[0;36m<cell line: 1>\u001b[0;34m()\u001b[0m\n\u001b[0;32m----> 1\u001b[0m \u001b[43mmul\u001b[49m\u001b[43m \u001b[49m\u001b[38;5;241;43m*\u001b[39;49m\u001b[43m \u001b[49m\u001b[43mmul2\u001b[49m\n",
      "\u001b[0;31mTypeError\u001b[0m: unsupported operand type(s) for *: 'multiplynumeric' and 'multiplynumeric'"
     ]
    }
   ],
   "source": [
    "mul * mul2"
   ]
  },
  {
   "cell_type": "code",
   "execution_count": 12,
   "id": "8c07ef27-1531-48dc-9784-7b45dff6a7c8",
   "metadata": {},
   "outputs": [
    {
     "data": {
      "text/plain": [
       "90"
      ]
     },
     "execution_count": 12,
     "metadata": {},
     "output_type": "execute_result"
    }
   ],
   "source": [
    "mul.a * mul2.a"
   ]
  },
  {
   "cell_type": "code",
   "execution_count": 13,
   "id": "4891c877-cdb1-4a19-83b0-ccf24ec491c3",
   "metadata": {},
   "outputs": [],
   "source": [
    "class multiplynumeric():\n",
    "    def __init__(self,a):\n",
    "        self.a=a\n",
    "    \n",
    "    def __mul__(self,other):\n",
    "        return self.a * other.a"
   ]
  },
  {
   "cell_type": "code",
   "execution_count": 14,
   "id": "53f8b3bd-f7c3-4de0-8439-b37c7d3858ee",
   "metadata": {},
   "outputs": [],
   "source": [
    "mul=multiplynumeric(9)\n",
    "mul2=multiplynumeric(10)"
   ]
  },
  {
   "cell_type": "code",
   "execution_count": 15,
   "id": "775b45d1-3bfd-495c-9722-5f333b43775c",
   "metadata": {},
   "outputs": [
    {
     "data": {
      "text/plain": [
       "90"
      ]
     },
     "execution_count": 15,
     "metadata": {},
     "output_type": "execute_result"
    }
   ],
   "source": [
    "mul * mul2"
   ]
  },
  {
   "cell_type": "code",
   "execution_count": 18,
   "id": "3ff8d6a1-63e9-43d8-9e36-c858e818c39d",
   "metadata": {},
   "outputs": [],
   "source": [
    "class multiplynumeric():\n",
    "    def __init__(self,a):\n",
    "        self.a=a\n",
    "    \n",
    "    def __mul__(self,other):#method overloading\n",
    "        return self.a + other.a"
   ]
  },
  {
   "cell_type": "code",
   "execution_count": 19,
   "id": "060f848d-708d-456e-b967-fcd51e16c0d3",
   "metadata": {},
   "outputs": [],
   "source": [
    "mul=multiplynumeric(9)\n",
    "mul2=multiplynumeric(10)"
   ]
  },
  {
   "cell_type": "code",
   "execution_count": 20,
   "id": "3ef6d931-f03f-4f6d-94d6-a90864bd4e28",
   "metadata": {},
   "outputs": [
    {
     "data": {
      "text/plain": [
       "19"
      ]
     },
     "execution_count": 20,
     "metadata": {},
     "output_type": "execute_result"
    }
   ],
   "source": [
    "mul * mul2 #operator overloading"
   ]
  },
  {
   "cell_type": "code",
   "execution_count": 21,
   "id": "b7407e68-28a5-4e19-99cc-c5230c52d6c5",
   "metadata": {},
   "outputs": [],
   "source": [
    "def test(a,b):\n",
    "    return a+b #plus is work as polymorphism"
   ]
  },
  {
   "cell_type": "code",
   "execution_count": 23,
   "id": "71e0dee1-d08f-493c-a334-9c6c8ffbdb79",
   "metadata": {},
   "outputs": [
    {
     "name": "stdout",
     "output_type": "stream",
     "text": [
      "11\n",
      "hasmukhmer\n",
      "[1, 2, 3, 4, 5, 6, 7, 8, 9, 34]\n"
     ]
    }
   ],
   "source": [
    "print(test(5,6))\n",
    "print(test(\"hasmukh\",\"mer\"))\n",
    "print(test([1,2,3,4,5],[6,7,8,9,34]))\n"
   ]
  },
  {
   "cell_type": "code",
   "execution_count": 1,
   "id": "d836e7f1-a611-4138-a490-7a8973144536",
   "metadata": {},
   "outputs": [],
   "source": [
    "class ineuron:\n",
    "    def msg(self):\n",
    "        print(\"this is a msg to ineuron\")\n",
    "    \n",
    "class xyz:\n",
    "    def msg(self):\n",
    "        print(\"this is msg from xyz\")\n",
    "        "
   ]
  },
  {
   "cell_type": "code",
   "execution_count": 2,
   "id": "cbae14dc-8b7b-4983-9a92-eff93b04709c",
   "metadata": {},
   "outputs": [],
   "source": [
    "def test(notes):\n",
    "    notes.msg()"
   ]
  },
  {
   "cell_type": "code",
   "execution_count": 3,
   "id": "5f496e68-1698-4ec8-bb6f-71c7354311f4",
   "metadata": {},
   "outputs": [],
   "source": [
    "i=ineuron()\n",
    "x=xyz()"
   ]
  },
  {
   "cell_type": "code",
   "execution_count": 4,
   "id": "8911b308-2399-4efe-b3c9-b1a16bba3ca8",
   "metadata": {},
   "outputs": [
    {
     "name": "stdout",
     "output_type": "stream",
     "text": [
      "this is a msg to ineuron\n"
     ]
    }
   ],
   "source": [
    "test(i)"
   ]
  },
  {
   "cell_type": "code",
   "execution_count": 6,
   "id": "528e5c9f-746a-40c8-9b75-3031f2b7019e",
   "metadata": {},
   "outputs": [
    {
     "name": "stdout",
     "output_type": "stream",
     "text": [
      "this is msg from xyz\n"
     ]
    }
   ],
   "source": [
    "test(x) #polymorphism"
   ]
  },
  {
   "cell_type": "code",
   "execution_count": null,
   "id": "d6d7b173-d92c-424a-a7c6-95cae46cc35b",
   "metadata": {},
   "outputs": [],
   "source": []
  }
 ],
 "metadata": {
  "kernelspec": {
   "display_name": "Python 3 (ipykernel)",
   "language": "python",
   "name": "python3"
  },
  "language_info": {
   "codemirror_mode": {
    "name": "ipython",
    "version": 3
   },
   "file_extension": ".py",
   "mimetype": "text/x-python",
   "name": "python",
   "nbconvert_exporter": "python",
   "pygments_lexer": "ipython3",
   "version": "3.9.12"
  }
 },
 "nbformat": 4,
 "nbformat_minor": 5
}
