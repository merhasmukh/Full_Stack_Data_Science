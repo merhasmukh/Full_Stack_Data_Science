{
 "cells": [
  {
   "cell_type": "code",
   "execution_count": 1,
   "id": "551e2c2e-bc90-4ee0-8a7b-4d7f93e09796",
   "metadata": {},
   "outputs": [],
   "source": [
    "class car:\n",
    "    pass"
   ]
  },
  {
   "cell_type": "code",
   "execution_count": 2,
   "id": "43adf3ef-ea21-4efe-b1a9-352c8c8cb9ed",
   "metadata": {},
   "outputs": [],
   "source": [
    "audiq7=car()"
   ]
  },
  {
   "cell_type": "code",
   "execution_count": 3,
   "id": "26e717e3-5f22-46f7-af6d-78a51420790f",
   "metadata": {},
   "outputs": [
    {
     "data": {
      "text/plain": [
       "<__main__.car at 0x7f84fbb79040>"
      ]
     },
     "execution_count": 3,
     "metadata": {},
     "output_type": "execute_result"
    }
   ],
   "source": [
    "audiq7"
   ]
  },
  {
   "cell_type": "code",
   "execution_count": 4,
   "id": "ee6e9b20-04c3-4f34-9852-4c20c78b812b",
   "metadata": {},
   "outputs": [],
   "source": [
    "audiq7.milage=10\n",
    "audiq7.year=2020\n",
    "audiq7.model=\"hsxs\""
   ]
  },
  {
   "cell_type": "code",
   "execution_count": 5,
   "id": "6a111054-6167-49f3-8f45-7e80733931bd",
   "metadata": {},
   "outputs": [
    {
     "data": {
      "text/plain": [
       "10"
      ]
     },
     "execution_count": 5,
     "metadata": {},
     "output_type": "execute_result"
    }
   ],
   "source": [
    "audiq7.milage"
   ]
  },
  {
   "cell_type": "code",
   "execution_count": 6,
   "id": "1b8446e1-f1b2-467f-9226-3323d6e7b7b6",
   "metadata": {},
   "outputs": [
    {
     "data": {
      "text/plain": [
       "'hsxs'"
      ]
     },
     "execution_count": 6,
     "metadata": {},
     "output_type": "execute_result"
    }
   ],
   "source": [
    "audiq7.model"
   ]
  },
  {
   "cell_type": "code",
   "execution_count": 7,
   "id": "de873bd5-ae23-444f-82be-0863a96ed2b5",
   "metadata": {},
   "outputs": [
    {
     "data": {
      "text/plain": [
       "2020"
      ]
     },
     "execution_count": 7,
     "metadata": {},
     "output_type": "execute_result"
    }
   ],
   "source": [
    "audiq7.year"
   ]
  },
  {
   "cell_type": "code",
   "execution_count": 8,
   "id": "27929f03-69f7-4280-9f10-fa29114b2efc",
   "metadata": {},
   "outputs": [],
   "source": [
    "nano=car()"
   ]
  },
  {
   "cell_type": "code",
   "execution_count": 9,
   "id": "1d4ac725-b8f9-4ab0-8500-367ac54246f1",
   "metadata": {},
   "outputs": [],
   "source": [
    "nano.milage=20\n",
    "\n",
    "nano.year=2020"
   ]
  },
  {
   "cell_type": "code",
   "execution_count": 10,
   "id": "00be3365-bae1-4d41-b309-bf67a42d736d",
   "metadata": {},
   "outputs": [
    {
     "data": {
      "text/plain": [
       "20"
      ]
     },
     "execution_count": 10,
     "metadata": {},
     "output_type": "execute_result"
    }
   ],
   "source": [
    "nano.milage"
   ]
  },
  {
   "cell_type": "code",
   "execution_count": 11,
   "id": "b667f340-4367-451f-903f-80384e32880f",
   "metadata": {},
   "outputs": [
    {
     "name": "stdout",
     "output_type": "stream",
     "text": [
      "2020 2020\n"
     ]
    }
   ],
   "source": [
    "print(nano.year,audiq7.year)"
   ]
  },
  {
   "cell_type": "code",
   "execution_count": 12,
   "id": "a6af5d46-24bd-454f-ac01-bd880f7640c5",
   "metadata": {},
   "outputs": [],
   "source": [
    "class car:\n",
    "    def __init__(self,milage,year,make,model):\n",
    "        self.milage=milage\n",
    "        self.year=year\n",
    "        self.make=make\n",
    "        self.model=model"
   ]
  },
  {
   "cell_type": "code",
   "execution_count": 14,
   "id": "0ab9ab50-26b0-42fb-9458-9f81df062029",
   "metadata": {},
   "outputs": [],
   "source": [
    "# nano1=car()\n",
    "nano1=car(20,2020,3323,\"dsfsd\")"
   ]
  },
  {
   "cell_type": "code",
   "execution_count": 16,
   "id": "7b0c65e2-3689-4881-8946-16e0f7ff5a98",
   "metadata": {},
   "outputs": [],
   "source": [
    "class car1:\n",
    "    def __init__(a,milage,year,make,model):\n",
    "        a.milage=milage\n",
    "        a.year=year\n",
    "        a.make=make\n",
    "        a.model=model"
   ]
  },
  {
   "cell_type": "code",
   "execution_count": 17,
   "id": "fccb535a-efd3-4c0f-b2da-188bb7f6e8e6",
   "metadata": {},
   "outputs": [],
   "source": [
    "nano1=car1(20,2022,656,\"sdfdsf\")"
   ]
  },
  {
   "cell_type": "code",
   "execution_count": 18,
   "id": "c55a8937-89a1-4530-99bc-2a0c04c990f6",
   "metadata": {},
   "outputs": [
    {
     "data": {
      "text/plain": [
       "20"
      ]
     },
     "execution_count": 18,
     "metadata": {},
     "output_type": "execute_result"
    }
   ],
   "source": [
    "nano1.milage"
   ]
  },
  {
   "cell_type": "code",
   "execution_count": 19,
   "id": "08f0aaa0-ee3a-4090-a34a-7a5ea791831e",
   "metadata": {},
   "outputs": [
    {
     "data": {
      "text/plain": [
       "2022"
      ]
     },
     "execution_count": 19,
     "metadata": {},
     "output_type": "execute_result"
    }
   ],
   "source": [
    "nano1.year"
   ]
  },
  {
   "cell_type": "code",
   "execution_count": 20,
   "id": "5e458366-399c-4ce0-8647-4a7b08efecdd",
   "metadata": {},
   "outputs": [],
   "source": [
    "class car2:\n",
    "    def __init__(a,m,y,ma,mo):\n",
    "        a.milage=m\n",
    "        a.year=y\n",
    "        a.make=ma\n",
    "        a.model=mo"
   ]
  },
  {
   "cell_type": "code",
   "execution_count": 21,
   "id": "f33ac404-3385-4cdf-ae96-328252c0cf94",
   "metadata": {},
   "outputs": [],
   "source": [
    "nano2=car2(30,2021,5454,\"sds\")"
   ]
  },
  {
   "cell_type": "code",
   "execution_count": 22,
   "id": "55761d1e-9d50-408e-8455-6e0a6db4eed7",
   "metadata": {},
   "outputs": [
    {
     "data": {
      "text/plain": [
       "5454"
      ]
     },
     "execution_count": 22,
     "metadata": {},
     "output_type": "execute_result"
    }
   ],
   "source": [
    "nano2.make"
   ]
  },
  {
   "cell_type": "code",
   "execution_count": 27,
   "id": "12e2d924-f73d-4f92-8a95-e769d5cfd5c6",
   "metadata": {},
   "outputs": [],
   "source": [
    "class car3:\n",
    "    def __init__(a,m,y,ma,mo):\n",
    "        a.milage=m\n",
    "        a.year=y\n",
    "        a.make=ma\n",
    "        a.model=mo\n",
    "        \n",
    "    def age(self,current_year):\n",
    "        return current_year-self.year"
   ]
  },
  {
   "cell_type": "code",
   "execution_count": 28,
   "id": "4b332b50-351e-4c03-a877-c7046d5f889c",
   "metadata": {},
   "outputs": [],
   "source": [
    "nano3=car3(30,2021,5454,\"sds\")"
   ]
  },
  {
   "cell_type": "code",
   "execution_count": 25,
   "id": "22aa867c-3cfd-4421-b1db-06044ce118e3",
   "metadata": {},
   "outputs": [
    {
     "data": {
      "text/plain": [
       "<bound method car3.age of <__main__.car3 object at 0x7f84e131c850>>"
      ]
     },
     "execution_count": 25,
     "metadata": {},
     "output_type": "execute_result"
    }
   ],
   "source": [
    "nano3.age"
   ]
  },
  {
   "cell_type": "code",
   "execution_count": 30,
   "id": "9508b1ba-014e-486f-b781-915ef2d9bdf6",
   "metadata": {},
   "outputs": [
    {
     "data": {
      "text/plain": [
       "1"
      ]
     },
     "execution_count": 30,
     "metadata": {},
     "output_type": "execute_result"
    }
   ],
   "source": [
    "nano3.age(2022)"
   ]
  },
  {
   "cell_type": "code",
   "execution_count": 31,
   "id": "d586ce03-4c2c-4ba6-8dcd-2f6b862338ad",
   "metadata": {},
   "outputs": [],
   "source": [
    "class car4:\n",
    "    def __init__(a,m,y,ma,mo):\n",
    "        a.milage=m\n",
    "        a.year=y\n",
    "        a.make=ma\n",
    "        a.model=mo\n",
    "        \n",
    "    def age(self,current_year):\n",
    "        return current_year-self.year\n",
    "    \n",
    "    def milage1(self):\n",
    "        print(\"milage of car is \",self.milage)\n",
    "        \n",
    "        "
   ]
  },
  {
   "cell_type": "code",
   "execution_count": 32,
   "id": "db120fa1-e9f6-4675-99b2-d3d3bf96755f",
   "metadata": {},
   "outputs": [],
   "source": [
    "nano4=car4(30,2021,5454,\"sds\")"
   ]
  },
  {
   "cell_type": "code",
   "execution_count": 33,
   "id": "17f03a72-0df4-4a42-bedd-f283ecff3cb3",
   "metadata": {},
   "outputs": [
    {
     "name": "stdout",
     "output_type": "stream",
     "text": [
      "milage of car is  30\n"
     ]
    }
   ],
   "source": [
    "nano4.milage1()"
   ]
  },
  {
   "cell_type": "code",
   "execution_count": 39,
   "id": "b2898571-8922-4202-8a30-681ffaf1fd2c",
   "metadata": {},
   "outputs": [
    {
     "name": "stdout",
     "output_type": "stream",
     "text": [
      "<__main__.car4 object at 0x7f84e0d4ebe0>\n"
     ]
    }
   ],
   "source": [
    "print(nano4)"
   ]
  },
  {
   "cell_type": "code",
   "execution_count": 34,
   "id": "95f3d892-87f5-4248-9360-f582b19228b8",
   "metadata": {},
   "outputs": [],
   "source": [
    "class car5:\n",
    "    def __init__(a,m,y,ma,mo):\n",
    "        a.milage=m\n",
    "        a.year=y\n",
    "        a.make=ma\n",
    "        a.model=mo\n",
    "        \n",
    "    def age(self,current_year):\n",
    "        return current_year-self.year\n",
    "    \n",
    "    def milage1(self):\n",
    "        print(\"milage of car is \",self.milage)\n",
    "        \n",
    "    def __str__(c):\n",
    "        return \"this is car class which is i created\""
   ]
  },
  {
   "cell_type": "code",
   "execution_count": 35,
   "id": "c2875852-c954-4bc3-abfb-74af864c825c",
   "metadata": {},
   "outputs": [],
   "source": [
    "nano5=car5(30,2021,5454,\"sds\")"
   ]
  },
  {
   "cell_type": "code",
   "execution_count": 37,
   "id": "7eb33868-498b-4edc-932b-180a1cbbef77",
   "metadata": {},
   "outputs": [
    {
     "data": {
      "text/plain": [
       "'this is car class which is i created'"
      ]
     },
     "execution_count": 37,
     "metadata": {},
     "output_type": "execute_result"
    }
   ],
   "source": [
    "nano5.__str__()"
   ]
  },
  {
   "cell_type": "code",
   "execution_count": 38,
   "id": "0a9535bb-45fb-4582-b274-eef357888a5c",
   "metadata": {},
   "outputs": [
    {
     "name": "stdout",
     "output_type": "stream",
     "text": [
      "this is car class which is i created\n"
     ]
    }
   ],
   "source": [
    "print(nano5)"
   ]
  },
  {
   "cell_type": "code",
   "execution_count": null,
   "id": "07b6f043-16c2-41f3-9c9a-63303e054b48",
   "metadata": {},
   "outputs": [],
   "source": []
  },
  {
   "cell_type": "code",
   "execution_count": 225,
   "id": "a5eca0d5-8efd-482b-b197-86797a7a7ae1",
   "metadata": {},
   "outputs": [],
   "source": [
    "class student:\n",
    "    \n",
    "    def __init__(self,name,rollno,joining_date,current_topic):\n",
    "        self.name=name\n",
    "        self.rollno=rollno\n",
    "        self.joining_date=joining_date\n",
    "        self.current_topic=current_topic\n",
    "        \n",
    "    def crt_topic(self):\n",
    "        print(\"curent topic in class is \",self.current_topic)\n",
    "    \n",
    "    def str_rollno(self):\n",
    "        try:\n",
    "            if type(self.rollno)==str:\n",
    "                print(\"do nothing\")\n",
    "            else:\n",
    "                return str(self.rollno)\n",
    "        except Exception as e:\n",
    "            print(\"this is not acceptable argument\")\n",
    "    \n",
    "    def name_parsing(self):\n",
    "        if type(self.name)==list:\n",
    "            for i in self.name:\n",
    "                print(\"name in the list is \",i)\n",
    "        else:\n",
    "            print(\"name of the student is not in the list\")\n",
    "        \n",
    "    def duration(self,current_date):\n",
    "        print(\"duration of a student {} year\".format(current_date-self.joining_date))\n",
    "        \n",
    "    def __str__(self):\n",
    "        return (\"this is a student class where students can input their data and fetch their data\")"
   ]
  },
  {
   "cell_type": "code",
   "execution_count": 226,
   "id": "54cf3397-0d46-4791-9177-ca7866f80a2c",
   "metadata": {},
   "outputs": [
    {
     "ename": "TypeError",
     "evalue": "__init__() missing 4 required positional arguments: 'name', 'rollno', 'joining_date', and 'current_topic'",
     "output_type": "error",
     "traceback": [
      "\u001b[0;31m---------------------------------------------------------------------------\u001b[0m",
      "\u001b[0;31mTypeError\u001b[0m                                 Traceback (most recent call last)",
      "Input \u001b[0;32mIn [226]\u001b[0m, in \u001b[0;36m<cell line: 1>\u001b[0;34m()\u001b[0m\n\u001b[0;32m----> 1\u001b[0m srini\u001b[38;5;241m=\u001b[39m\u001b[43mstudent\u001b[49m\u001b[43m(\u001b[49m\u001b[43m)\u001b[49m\n",
      "\u001b[0;31mTypeError\u001b[0m: __init__() missing 4 required positional arguments: 'name', 'rollno', 'joining_date', and 'current_topic'"
     ]
    }
   ],
   "source": [
    "srini=student()"
   ]
  },
  {
   "cell_type": "code",
   "execution_count": 227,
   "id": "7f7df2c4-4275-45c9-993c-76fb6e4cb6cb",
   "metadata": {},
   "outputs": [],
   "source": [
    "srini=student(\"srini\",121,2021,\"oops\")"
   ]
  },
  {
   "cell_type": "code",
   "execution_count": 228,
   "id": "91cb0fc6-f0f7-46d3-82ac-6b56fdc99533",
   "metadata": {},
   "outputs": [
    {
     "name": "stdout",
     "output_type": "stream",
     "text": [
      "duration of a student 1 year\n"
     ]
    }
   ],
   "source": [
    "srini.duration(2022)\n"
   ]
  },
  {
   "cell_type": "code",
   "execution_count": 229,
   "id": "0f0a25e2-8f32-4a79-8fd9-6596421bd9c2",
   "metadata": {},
   "outputs": [
    {
     "data": {
      "text/plain": [
       "'121'"
      ]
     },
     "execution_count": 229,
     "metadata": {},
     "output_type": "execute_result"
    }
   ],
   "source": [
    "srini.str_rollno()"
   ]
  },
  {
   "cell_type": "code",
   "execution_count": 230,
   "id": "06e107d9-5e3a-4a23-b26a-350b7a19ccd7",
   "metadata": {},
   "outputs": [
    {
     "name": "stdout",
     "output_type": "stream",
     "text": [
      "this is a student class where students can input their data and fetch their data\n"
     ]
    }
   ],
   "source": [
    "print(srini)"
   ]
  },
  {
   "cell_type": "code",
   "execution_count": 231,
   "id": "200e0374-4369-471e-aa0e-c78cebbf2f0c",
   "metadata": {},
   "outputs": [],
   "source": [
    "hasmukh=student(\"hasmukh\",21,2019,\"data science\")"
   ]
  },
  {
   "cell_type": "code",
   "execution_count": 232,
   "id": "620034be-d9e4-4e3c-b8f2-5e0850444cf1",
   "metadata": {},
   "outputs": [
    {
     "name": "stdout",
     "output_type": "stream",
     "text": [
      "duration of a student 3 year\n"
     ]
    }
   ],
   "source": [
    "hasmukh.duration(2022)"
   ]
  },
  {
   "cell_type": "code",
   "execution_count": 233,
   "id": "bd4eff4d-340a-481e-b80e-3694a95e9d85",
   "metadata": {},
   "outputs": [],
   "source": [
    "multiple_student=student([\"hasmukh\",\"ravi\",\"kapil\",\"amit\"],[10,15,46,12],2019,\"b.sc\")"
   ]
  },
  {
   "cell_type": "code",
   "execution_count": 234,
   "id": "08fad084-36c3-4962-87b1-6c82768f17d4",
   "metadata": {},
   "outputs": [
    {
     "name": "stdout",
     "output_type": "stream",
     "text": [
      "name in the list is  hasmukh\n",
      "name in the list is  ravi\n",
      "name in the list is  kapil\n",
      "name in the list is  amit\n"
     ]
    }
   ],
   "source": [
    "multiple_student.name_parsing()"
   ]
  },
  {
   "cell_type": "code",
   "execution_count": 235,
   "id": "7e196af7-35e8-4a00-a0c7-1d90777139f8",
   "metadata": {},
   "outputs": [
    {
     "data": {
      "text/plain": [
       "'[10, 15, 46, 12]'"
      ]
     },
     "execution_count": 235,
     "metadata": {},
     "output_type": "execute_result"
    }
   ],
   "source": [
    "multiple_student.str_rollno()"
   ]
  },
  {
   "cell_type": "code",
   "execution_count": null,
   "id": "4cc19939-4526-4fdc-bd66-190b065ef245",
   "metadata": {},
   "outputs": [],
   "source": []
  },
  {
   "cell_type": "code",
   "execution_count": 300,
   "id": "4125e79e-d4da-47b0-ba13-775708835dc3",
   "metadata": {},
   "outputs": [],
   "source": [
    "class data:\n",
    "    \n",
    "    def __init__(self,filename,filetype,date,size):\n",
    "        self.filename=filename\n",
    "        self.filetype=filetype\n",
    "        self.date=date\n",
    "        self.size=size\n",
    "        \n",
    "        \n",
    "    def file_open(self,filename):\n",
    "            f=open(filename,'w')\n",
    "            f.write(\"hasmukh mer sarva\")\n",
    "            f.close()\n",
    "            return \"file is created\"\n",
    "            \n",
    "            \n",
    "    def file_read(self,filename):\n",
    "        import os\n",
    "        \n",
    "        if filename in os.listdir(os.getcwd()):\n",
    "            f=open(filename,'r+')\n",
    "            return f.read()\n",
    "        else:\n",
    "            return \"file does not exist,please create first\"\n",
    "        \n",
    "    def file_append(self,filename):\n",
    "        if filename in os.listdir(os.getcwd()):\n",
    "            f=open(filename,'a')\n",
    "            f.write(\"botad\")\n",
    "            f=open(filename,'r+')\n",
    "            \n",
    "            print(f.read())\n",
    "            f.close()\n",
    "            \n",
    "        else:\n",
    "            return \"file does not exist\"\n",
    "        \n",
    "        \n",
    "        \n",
    "        \n",
    "        \n"
   ]
  },
  {
   "cell_type": "code",
   "execution_count": 301,
   "id": "9a6dfbda-2850-422a-b777-7c4e341a6296",
   "metadata": {},
   "outputs": [],
   "source": [
    "file_ops=data(\"test.txt\",\"txt\",2022,1024)"
   ]
  },
  {
   "cell_type": "code",
   "execution_count": 302,
   "id": "e46ba9db-8fc8-479f-a316-e8403f4d1912",
   "metadata": {},
   "outputs": [
    {
     "data": {
      "text/plain": [
       "'hasmukh mer sarvabotad'"
      ]
     },
     "execution_count": 302,
     "metadata": {},
     "output_type": "execute_result"
    }
   ],
   "source": [
    "file_ops.file_read(\"test.txt\")"
   ]
  },
  {
   "cell_type": "code",
   "execution_count": 303,
   "id": "2ab65d82-75e3-4fd9-8bba-47c663ce2c2d",
   "metadata": {},
   "outputs": [
    {
     "data": {
      "text/plain": [
       "'file is created'"
      ]
     },
     "execution_count": 303,
     "metadata": {},
     "output_type": "execute_result"
    }
   ],
   "source": [
    "file_ops.file_open(\"test.txt\")"
   ]
  },
  {
   "cell_type": "code",
   "execution_count": 304,
   "id": "0e7e4496-7470-4860-a1d0-f68bf71930b5",
   "metadata": {},
   "outputs": [
    {
     "data": {
      "text/plain": [
       "'hasmukh mer sarva'"
      ]
     },
     "execution_count": 304,
     "metadata": {},
     "output_type": "execute_result"
    }
   ],
   "source": [
    "file_ops.file_read(\"test.txt\")"
   ]
  },
  {
   "cell_type": "code",
   "execution_count": 305,
   "id": "ab757caf-cc71-4eaa-b610-44356db6df16",
   "metadata": {},
   "outputs": [
    {
     "name": "stdout",
     "output_type": "stream",
     "text": [
      "hasmukh mer sarvabotad\n"
     ]
    }
   ],
   "source": [
    "file_ops.file_append(\"test.txt\")"
   ]
  },
  {
   "cell_type": "code",
   "execution_count": 1,
   "id": "330e55fe-6441-445b-88a6-2c12587ea5ec",
   "metadata": {},
   "outputs": [],
   "source": [
    "class data2:\n",
    "    \n",
    "    def __init__(self,filename,filetype,date,size):\n",
    "        self.filename=filename\n",
    "        self.filetype=filetype\n",
    "        self.date=date\n",
    "        self.size=size\n",
    "        \n",
    "        \n",
    "    def file_open(self,filename):\n",
    "        try:\n",
    "            f=open(filename,'w')\n",
    "            f.write(\"hasmukh mer sarva\")\n",
    "            self.log_fun(\"open and data write in file successfully\")\n",
    "            \n",
    "            f.close()\n",
    "            return \"file is created\"\n",
    "        except Exception as e:\n",
    "            self.log_fun(str(e))\n",
    "            self.log_fun(\"open file exception occured\")\n",
    "            \n",
    "            \n",
    "            \n",
    "            \n",
    "            \n",
    "    def file_read(self,filename):\n",
    "        import os\n",
    "\n",
    "        if filename in os.listdir(os.getcwd()):\n",
    "            f=open(filename,'r+')\n",
    "            self.log_fun(\"data read successfully\")\n",
    "            return f.read()\n",
    "        else:\n",
    "            self.log_fun(\"file does not exist\")\n",
    "            \n",
    "            return \"file does not exist,please create first\"\n",
    "        \n",
    "    def file_append(self,filename):\n",
    "        try:\n",
    "            import os\n",
    "            if filename in os.listdir(os.getcwd()):\n",
    "                f=open(filename,'a')\n",
    "                f.write(\"botad\")\n",
    "                self.log_fun(\"data append successfully\")\n",
    "                f=open(filename,'r+')\n",
    "                self.log_fun(\"data read successfully\")\n",
    "                \n",
    "                \n",
    "                print(f.read())\n",
    "                f.close()\n",
    "\n",
    "            else:\n",
    "                self.log_fun(\"file does not exist\")\n",
    "                return \"file does not exist\"\n",
    "        except Exception as e:\n",
    "            self.log_fun(str(e))\n",
    "            self.log_fun(\"exception occured in file_append funtion\")\n",
    "        \n",
    "    def log_fun(self,info):\n",
    "        try:\n",
    "            import logging\n",
    "\n",
    "            logging.basicConfig(filename=\"logfile.log\",level=logging.DEBUG,format='%(asctime)s-%(levelname)s-%(name)s-%(message)s')\n",
    "            logging.info(info)\n",
    "            # logging.exception(exception)\n",
    "        except Exception as e:\n",
    "            return str(e)\n",
    "        "
   ]
  },
  {
   "cell_type": "code",
   "execution_count": 2,
   "id": "a95f76b6-541e-44a8-bbf6-ccd4ac70e147",
   "metadata": {},
   "outputs": [],
   "source": [
    "file_ops=data2(\"test.txt\",\"txt\",2022,1024)"
   ]
  },
  {
   "cell_type": "code",
   "execution_count": 3,
   "id": "2ca35e4d-0bf1-4963-8b55-3624d136113f",
   "metadata": {},
   "outputs": [
    {
     "data": {
      "text/plain": [
       "'file is created'"
      ]
     },
     "execution_count": 3,
     "metadata": {},
     "output_type": "execute_result"
    }
   ],
   "source": [
    "file_ops.file_open(\"test.txt\")"
   ]
  },
  {
   "cell_type": "code",
   "execution_count": 4,
   "id": "ae13f094-c7b7-4c37-8605-bddfeabbf417",
   "metadata": {},
   "outputs": [
    {
     "name": "stdout",
     "output_type": "stream",
     "text": [
      "hasmukh mer sarvabotad\n"
     ]
    }
   ],
   "source": [
    "file_ops.file_append(\"test.txt\")"
   ]
  },
  {
   "cell_type": "code",
   "execution_count": 5,
   "id": "f272e636-c1ef-49dc-b3f1-5f743dc86932",
   "metadata": {},
   "outputs": [
    {
     "data": {
      "text/plain": [
       "'hasmukh mer sarvabotad'"
      ]
     },
     "execution_count": 5,
     "metadata": {},
     "output_type": "execute_result"
    }
   ],
   "source": [
    "file_ops.file_read(\"test.txt\")"
   ]
  },
  {
   "cell_type": "code",
   "execution_count": null,
   "id": "f01411f0-2b37-41be-8699-e982297b9c00",
   "metadata": {},
   "outputs": [],
   "source": []
  },
  {
   "cell_type": "code",
   "execution_count": null,
   "id": "bdd42719-c0a0-44cd-b15d-22cdcb0e1ad3",
   "metadata": {},
   "outputs": [],
   "source": []
  }
 ],
 "metadata": {
  "kernelspec": {
   "display_name": "Python 3 (ipykernel)",
   "language": "python",
   "name": "python3"
  },
  "language_info": {
   "codemirror_mode": {
    "name": "ipython",
    "version": 3
   },
   "file_extension": ".py",
   "mimetype": "text/x-python",
   "name": "python",
   "nbconvert_exporter": "python",
   "pygments_lexer": "ipython3",
   "version": "3.9.12"
  }
 },
 "nbformat": 4,
 "nbformat_minor": 5
}
