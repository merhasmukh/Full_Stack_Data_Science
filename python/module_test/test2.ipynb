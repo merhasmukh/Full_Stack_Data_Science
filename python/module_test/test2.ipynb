{
 "cells": [
  {
   "cell_type": "code",
   "execution_count": 4,
   "id": "8375403b-0934-4aca-a9eb-c3c9b05b1cc0",
   "metadata": {},
   "outputs": [],
   "source": [
    "from test2 import mod1,mod2,mod3"
   ]
  },
  {
   "cell_type": "code",
   "execution_count": 5,
   "id": "a8fb13af-d276-43c3-9d64-cf916dcfec59",
   "metadata": {},
   "outputs": [
    {
     "data": {
      "text/plain": [
       "'/home/mhgn0001gm52ine/Full_Stack_Data_Science/python/module_test'"
      ]
     },
     "execution_count": 5,
     "metadata": {},
     "output_type": "execute_result"
    }
   ],
   "source": [
    "pwd()"
   ]
  },
  {
   "cell_type": "code",
   "execution_count": 6,
   "id": "4558f4f5-a21e-4667-8972-5c1a69202edf",
   "metadata": {},
   "outputs": [
    {
     "name": "stdout",
     "output_type": "stream",
     "text": [
      "fun1 is called\n"
     ]
    },
    {
     "data": {
      "text/plain": [
       "'fun1 is called'"
      ]
     },
     "execution_count": 6,
     "metadata": {},
     "output_type": "execute_result"
    }
   ],
   "source": [
    "mod1.fun1()"
   ]
  },
  {
   "cell_type": "code",
   "execution_count": 8,
   "id": "5d82a03e-d3f2-485b-829a-0ed0c028b3b9",
   "metadata": {},
   "outputs": [
    {
     "name": "stdout",
     "output_type": "stream",
     "text": [
      "fun21 is called\n"
     ]
    },
    {
     "data": {
      "text/plain": [
       "'fun21 is called'"
      ]
     },
     "execution_count": 8,
     "metadata": {},
     "output_type": "execute_result"
    }
   ],
   "source": [
    "mod2.fun21()"
   ]
  },
  {
   "cell_type": "code",
   "execution_count": null,
   "id": "aaa938d7-6905-4e5f-bb66-b9f7fbaf75c6",
   "metadata": {},
   "outputs": [],
   "source": []
  }
 ],
 "metadata": {
  "kernelspec": {
   "display_name": "Python 3 (ipykernel)",
   "language": "python",
   "name": "python3"
  },
  "language_info": {
   "codemirror_mode": {
    "name": "ipython",
    "version": 3
   },
   "file_extension": ".py",
   "mimetype": "text/x-python",
   "name": "python",
   "nbconvert_exporter": "python",
   "pygments_lexer": "ipython3",
   "version": "3.9.12"
  }
 },
 "nbformat": 4,
 "nbformat_minor": 5
}
