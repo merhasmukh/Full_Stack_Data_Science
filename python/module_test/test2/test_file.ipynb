{
 "cells": [
  {
   "cell_type": "code",
   "execution_count": 1,
   "id": "d89ecce5-6e59-4f44-911a-91b171d4d9f2",
   "metadata": {},
   "outputs": [],
   "source": [
    "import mod1,mod2,mod3"
   ]
  },
  {
   "cell_type": "code",
   "execution_count": 2,
   "id": "951349b1-3689-4eaf-82a5-2b0583abf267",
   "metadata": {},
   "outputs": [
    {
     "data": {
      "text/plain": [
       "'/home/mhgn0001gm52ine/Full_Stack_Data_Science/python/module_test/test'"
      ]
     },
     "execution_count": 2,
     "metadata": {},
     "output_type": "execute_result"
    }
   ],
   "source": [
    "pwd()"
   ]
  },
  {
   "cell_type": "code",
   "execution_count": 3,
   "id": "a17aa230-b702-4e94-83aa-3a8b5d9b6278",
   "metadata": {},
   "outputs": [
    {
     "name": "stdout",
     "output_type": "stream",
     "text": [
      "fun1 is called\n"
     ]
    },
    {
     "data": {
      "text/plain": [
       "'fun1 is called'"
      ]
     },
     "execution_count": 3,
     "metadata": {},
     "output_type": "execute_result"
    }
   ],
   "source": [
    "mod1.fun1()"
   ]
  },
  {
   "cell_type": "code",
   "execution_count": 4,
   "id": "b83c21c2-d20b-4732-b45d-681f5af1be66",
   "metadata": {},
   "outputs": [
    {
     "name": "stdout",
     "output_type": "stream",
     "text": [
      "fun33 is called\n"
     ]
    },
    {
     "data": {
      "text/plain": [
       "'fun33 is called'"
      ]
     },
     "execution_count": 4,
     "metadata": {},
     "output_type": "execute_result"
    }
   ],
   "source": [
    "mod3.fun33()"
   ]
  },
  {
   "cell_type": "code",
   "execution_count": 5,
   "id": "9bf8fb36-6cd4-4e65-984f-43725bce0f0a",
   "metadata": {},
   "outputs": [
    {
     "data": {
      "text/plain": [
       "'/home/mhgn0001gm52ine/Full_Stack_Data_Science/python/module_test/test'"
      ]
     },
     "execution_count": 5,
     "metadata": {},
     "output_type": "execute_result"
    }
   ],
   "source": [
    "pwd()"
   ]
  },
  {
   "cell_type": "code",
   "execution_count": null,
   "id": "f40d471a-d937-4786-8755-37f9c7e8ff02",
   "metadata": {},
   "outputs": [],
   "source": []
  },
  {
   "cell_type": "code",
   "execution_count": null,
   "id": "62ffcdbe-4e1b-4716-aefc-514b2d534632",
   "metadata": {},
   "outputs": [],
   "source": []
  }
 ],
 "metadata": {
  "kernelspec": {
   "display_name": "Python 3 (ipykernel)",
   "language": "python",
   "name": "python3"
  },
  "language_info": {
   "codemirror_mode": {
    "name": "ipython",
    "version": 3
   },
   "file_extension": ".py",
   "mimetype": "text/x-python",
   "name": "python",
   "nbconvert_exporter": "python",
   "pygments_lexer": "ipython3",
   "version": "3.9.12"
  }
 },
 "nbformat": 4,
 "nbformat_minor": 5
}
